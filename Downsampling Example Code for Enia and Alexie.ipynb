{
 "cells": [
  {
   "cell_type": "markdown",
   "metadata": {},
   "source": [
    "This notebook showcases the downsampling scheme I developed in Summer 2017, to make a DESI-like sample. This is done by first abundance matchhing to the GAMA Luminosity function from [Loveday 2015](https://arxiv.org/abs/1505.01003), then downsampling to match what we expect from DESI by matching a catalog made by Song. \n",
    "\n",
    "There are a few python packages I use in this notebook that will need to be installed before running. \n",
    "* [Yao's code](https://bitbucket.org/yymao/abundancematching) to do the abundance matching. \n",
    "* Loading particles from disk requires one of Yao's other packages, [helpers](https://bitbucket.org/yymao/helpers/src). \n",
    "* Also, I used [Halotools](https://halotools.readthedocs.io/en/latest/), specifically the halo catalog loading and caching functionalities. "
   ]
  },
  {
   "cell_type": "code",
   "execution_count": 1,
   "metadata": {
    "collapsed": false
   },
   "outputs": [],
   "source": [
    "from glob import glob\n",
    "from os import path\n",
    "import numpy as np\n",
    "from halotools.sim_manager import CachedHaloCatalog, RockstarHlistReader, UserSuppliedPtclCatalog\n",
    "from helpers.readGadgetSnapshot import readGadgetSnapshot\n",
    "from AbundanceMatching import *\n",
    "import h5py\n",
    "import pandas as pd"
   ]
  },
  {
   "cell_type": "code",
   "execution_count": 2,
   "metadata": {
    "collapsed": true
   },
   "outputs": [],
   "source": [
    "from matplotlib import pyplot as plt\n",
    "%matplotlib inline"
   ]
  },
  {
   "cell_type": "markdown",
   "metadata": {},
   "source": [
    "# Cache in the catalog\n",
    "\n",
    "This should read in the big hlist catalog and cut it down to the mass cut & columns we give it. The parameters we will need are the following: \n",
    "\n",
    "- filename \n",
    "- columns to keep -- the vertical cut  \n",
    "- cache filename -- where we're going to save the cached cut catalog \n",
    "- simulation name \n",
    "- halo finder\n",
    "- redshift \n",
    "- version name \n",
    "- lbox and particle mass. -- for particle mass Sean has a formula that calculates it **(make sure this work in our case too!)**\n"
   ]
  },
  {
   "cell_type": "code",
   "execution_count": 3,
   "metadata": {
    "collapsed": true
   },
   "outputs": [],
   "source": [
    "# define all the parameters you need to cache in the catalog \n",
    "\n",
    "fname = \"/home/exhakaj/Github/splashback3D/UM_SDMPL/hlist_0.84140_orig.list\"\n",
    "\n",
    "HLIST_COLS = {'halo_id': (1, 'i8'), 'halo_upid': (6, 'i8'),\n",
    "              'halo_x': (17, 'f4'), 'halo_y': (18, 'f4'), 'halo_z': (19, 'f4'),\n",
    "              'halo_vx': (20, 'f4'), 'halo_vy': (21, 'f4'), 'halo_vz': (22, 'f4'),\n",
    "              'halo_mvir': (10, 'f4'), \n",
    "              'halo_snapnum': (31, 'i8'),'halo_vpeak':(60, 'f8'), 'halo_halfmass_scale': (61, 'f4'),\n",
    "              'halo_Acc_Rate_1*Tdyn':(64, \"f8\"), \"halo_Mpeak\":(58, \"f8\")}\n",
    "\n",
    "\n",
    "columns_to_keep = HLIST_COLS\n",
    "cache_fname = \"/home/exhakaj/Github/splashback3D/UM_SDMPL/hlist_0.84140_cache.hdf5\"\n",
    "columns_to_convert = []\n",
    "simname = \"smdpl\"\n",
    "halo_finder = \"rockstar\"\n",
    "a = 0.84140 # hardcoded from the file name \n",
    "redshift = (1. - a)/a\n",
    "vname = \"4.\" \n",
    "Lbox = 400 \n",
    "npart = 99994092 # counted how many lines were on the particle file (?)\n",
    "particle_mass = 1.44390e+08*((Lbox / 125.0) ** 3) * ((1024.0/npart)** 3)"
   ]
  },
  {
   "cell_type": "raw",
   "metadata": {
    "collapsed": false
   },
   "source": [
    "# cache in the catalog \n",
    "\n",
    "reader = RockstarHlistReader(input_fname=fname, \n",
    "                             columns_to_keep_dict=columns_to_keep, \n",
    "                             output_fname=cache_fname, \n",
    "                             simname=simname, \n",
    "                             halo_finder=halo_finder, \n",
    "                             redshift=redshift, \n",
    "                             version_name=vname, \n",
    "                             Lbox=Lbox, \n",
    "                             particle_mass=particle_mass,\n",
    "                            row_cut_min_dict={\"halo_Mpeak\":1e12},\n",
    "                            overwrite=True) \n",
    "reader.read_halocat(columns_to_convert_from_kpc_to_mpc=[], write_to_disk = True, update_cache_log = True)"
   ]
  },
  {
   "cell_type": "code",
   "execution_count": 4,
   "metadata": {
    "collapsed": false
   },
   "outputs": [],
   "source": [
    "halocat = CachedHaloCatalog(fname=cache_fname)"
   ]
  },
  {
   "cell_type": "code",
   "execution_count": 5,
   "metadata": {
    "collapsed": false
   },
   "outputs": [
    {
     "data": {
      "text/plain": [
       "['halo_upid',\n",
       " 'halo_y',\n",
       " 'halo_x',\n",
       " 'halo_z',\n",
       " 'halo_Mpeak',\n",
       " 'halo_Acc_Rate_1*Tdyn',\n",
       " 'halo_vpeak',\n",
       " 'halo_snapnum',\n",
       " 'halo_halfmass_scale',\n",
       " 'halo_id',\n",
       " 'halo_vx',\n",
       " 'halo_vy',\n",
       " 'halo_vz',\n",
       " 'halo_mvir',\n",
       " 'halo_hostid',\n",
       " 'halo_mvir_host_halo']"
      ]
     },
     "execution_count": 5,
     "metadata": {},
     "output_type": "execute_result"
    }
   ],
   "source": [
    "halocat.halo_table.colnames"
   ]
  },
  {
   "cell_type": "markdown",
   "metadata": {},
   "source": [
    "# Cache in and downsample the particles\n",
    "\n",
    "The downsampling is done in two steps \n",
    "\n",
    "(1) Take a subset with replacement from the rows in your table. \n",
    "\n",
    "(2) Decrease the size of the sample by 1000 times \n",
    "\n",
    "(3) Use the indecces from part 1 and 2 to get the downsampled particles "
   ]
  },
  {
   "cell_type": "raw",
   "metadata": {},
   "source": [
    "# get the particle filename \n",
    "snapfile = \"/home/exhakaj/Github/splashback3D/UM_SDMPL/particles_smd_100m_a0.8414.dat\" \n",
    "\n",
    "\n",
    "# Read in the particle data \n",
    "particles = pd.read_csv(snapfile,\n",
    "        header=None,\n",
    "        sep = \" \",\n",
    "        names = [\"x\", \"y\", \"z\", \"vx\", \"vy\", \"vz\", \"id\"])\n",
    "\n",
    "# Downsampling the particles \n",
    "\n",
    "downsample_idxs = np.random.choice(len(particles), size =int(len(particles)*p))\n",
    "particles = particles.loc[downsample_idxs]"
   ]
  },
  {
   "cell_type": "code",
   "execution_count": 50,
   "metadata": {
    "collapsed": false
   },
   "outputs": [],
   "source": [
    "# save the particles to disk somewhere, just so we don't have to do the above again\n",
    "\n",
    "final_dir = \"/home/exhakaj/Github/splashback3D/UM_SDMPL/particles_smd_100m_a0.8414_downsampled.dat\" \n",
    "particles.to_csv(final_dir, header=False, index = False)"
   ]
  },
  {
   "cell_type": "markdown",
   "metadata": {},
   "source": [
    "# Pair the particle and halo cats \n",
    "\n",
    "**What does this exactly do?**"
   ]
  },
  {
   "cell_type": "code",
   "execution_count": 60,
   "metadata": {
    "collapsed": false
   },
   "outputs": [],
   "source": [
    "# cache the particles, and pair it to the halos so halotools knows where it its when we load the sim. \n",
    "ptcl_catalog = UserSuppliedPtclCatalog(redshift=redshift, Lbox=Lbox, particle_mass=particle_mass,\\\n",
    "                                       x=np.array(particles[\"x\"]), y=np.array(particles[\"y\"]), z=np.array(particles[\"z\"]))\n",
    "\n",
    "ptcl_cash_name = \"/home/exhakaj/Github/splashback3D/UM_SDMPL/hlist_0.84140_cache_ptcl.hdf5\"\n",
    "ptcl_catalog.add_ptclcat_to_cache(ptcl_cash_name, simname, vname, 'p=%f'%p)"
   ]
  },
  {
   "cell_type": "markdown",
   "metadata": {},
   "source": [
    "# The luminosity function "
   ]
  },
  {
   "cell_type": "markdown",
   "metadata": {},
   "source": [
    "## Done with working code here .... "
   ]
  },
  {
   "cell_type": "markdown",
   "metadata": {},
   "source": [
    "Loading up a luminosity function. This one is from GAMA Survey, Loveday 2015. Note the selected redshift ranges. "
   ]
  },
  {
   "cell_type": "code",
   "execution_count": 61,
   "metadata": {
    "collapsed": true
   },
   "outputs": [],
   "source": [
    "lf = np.genfromtxt('lf_r_sersic_z_0.2_0.3.dat', skip_header=True)[:,1:3]\n",
    "#lf = np.genfromtxt('lf_r_sersic_z_0.1_0.2.dat', skip_header=True)[:,1:3]"
   ]
  },
  {
   "cell_type": "code",
   "execution_count": 62,
   "metadata": {
    "collapsed": false
   },
   "outputs": [
    {
     "data": {
      "text/plain": [
       "array([[ -2.38800000e+01,   3.93000000e-07],\n",
       "       [ -2.33800000e+01,   1.87000000e-06],\n",
       "       [ -2.31200000e+01,   7.22000000e-06],\n",
       "       [ -2.28800000e+01,   1.87000000e-05],\n",
       "       [ -2.26200000e+01,   4.10000000e-05],\n",
       "       [ -2.23800000e+01,   1.09000000e-04],\n",
       "       [ -2.21200000e+01,   2.16000000e-04],\n",
       "       [ -2.18800000e+01,   3.88000000e-04],\n",
       "       [ -2.16200000e+01,   7.28000000e-04],\n",
       "       [ -2.13800000e+01,   1.17000000e-03],\n",
       "       [ -2.11200000e+01,   1.80000000e-03],\n",
       "       [ -2.08800000e+01,   2.52000000e-03],\n",
       "       [ -2.06200000e+01,   3.33000000e-03],\n",
       "       [ -2.03800000e+01,   4.20000000e-03],\n",
       "       [ -2.01200000e+01,   4.87000000e-03],\n",
       "       [ -1.98800000e+01,   6.02000000e-03],\n",
       "       [ -1.96200000e+01,   6.58000000e-03],\n",
       "       [ -1.93800000e+01,   5.65000000e-03],\n",
       "       [ -1.91200000e+01,   1.03000000e-03],\n",
       "       [ -1.88800000e+01,   7.84000000e-05],\n",
       "       [ -1.86200000e+01,   4.93000000e-04],\n",
       "       [ -1.83800000e+01,   2.24000000e-04],\n",
       "       [ -1.81200000e+01,   1.75000000e-04],\n",
       "       [ -1.78800000e+01,   1.27000000e-05]])"
      ]
     },
     "execution_count": 62,
     "metadata": {},
     "output_type": "execute_result"
    }
   ],
   "source": [
    "lf"
   ]
  },
  {
   "cell_type": "code",
   "execution_count": 63,
   "metadata": {
    "collapsed": true
   },
   "outputs": [],
   "source": [
    "# apologies for the magic numbers. I tinkered with this particular LF for a while, since the edges get a little \n",
    "# noisy. This seemed to give the best extrapolation, but feel free to change. \n",
    "use_up_to = -6\n",
    "af = AbundanceFunction(lf[:use_up_to,0], lf[:use_up_to,1], (-27, -18),faint_end_fit_points = 7 )"
   ]
  },
  {
   "cell_type": "code",
   "execution_count": 64,
   "metadata": {
    "collapsed": false
   },
   "outputs": [
    {
     "data": {
      "text/plain": [
       "[<matplotlib.lines.Line2D at 0x7f80ce9a72d0>]"
      ]
     },
     "execution_count": 64,
     "metadata": {},
     "output_type": "execute_result"
    },
    {
     "data": {
      "image/png": "[encoded data removed]",
      "text/plain": [
       "<matplotlib.figure.Figure at 0x7f85bec85090>"
      ]
     },
     "metadata": {},
     "output_type": "display_data"
    }
   ],
   "source": [
    "plt.semilogy(lf[:,0], lf[:,1])\n",
    "x = np.linspace(-27, -18, 101)\n",
    "plt.semilogy(x, af(x))"
   ]
  },
  {
   "cell_type": "code",
   "execution_count": 65,
   "metadata": {
    "collapsed": false
   },
   "outputs": [
    {
     "name": "stdout",
     "output_type": "stream",
     "text": [
      "0.0128038958073\n"
     ]
    }
   ],
   "source": [
    "print max(af(x))"
   ]
  },
  {
   "cell_type": "markdown",
   "metadata": {},
   "source": [
    "These checks are reccomended by Yao in his code, linked above."
   ]
  },
  {
   "cell_type": "code",
   "execution_count": 66,
   "metadata": {
    "collapsed": true
   },
   "outputs": [],
   "source": [
    "scatter = 0.2\n",
    "remainder = af.deconvolute(scatter*LF_SCATTER_MULT, 20)"
   ]
  },
  {
   "cell_type": "code",
   "execution_count": 67,
   "metadata": {
    "collapsed": false
   },
   "outputs": [
    {
     "data": {
      "image/png": "[encoded data removed]",
      "text/plain": [
       "<matplotlib.figure.Figure at 0x7f8a37d2f890>"
      ]
     },
     "metadata": {},
     "output_type": "display_data"
    }
   ],
   "source": [
    "x, nd = af.get_number_density_table()\n",
    "plt.plot(x, remainder/nd);"
   ]
  },
  {
   "cell_type": "code",
   "execution_count": 68,
   "metadata": {
    "collapsed": false
   },
   "outputs": [
    {
     "data": {
      "text/plain": [
       "0.020700864149967049"
      ]
     },
     "execution_count": 68,
     "metadata": {},
     "output_type": "execute_result"
    }
   ],
   "source": [
    "max(nd)"
   ]
  },
  {
   "cell_type": "code",
   "execution_count": 69,
   "metadata": {
    "collapsed": true
   },
   "outputs": [],
   "source": [
    "# calculate the number density of our halo proxy\n",
    "halos = np.array(halocat.halo_table)\n",
    "    \n",
    "nd_halos = calc_number_densities(halos['halo_vpeak'], halocat.Lbox[0])"
   ]
  },
  {
   "cell_type": "code",
   "execution_count": 70,
   "metadata": {
    "collapsed": true
   },
   "outputs": [],
   "source": [
    "# Do the AB match here. \n",
    "full_catalog = af.match(nd_halos, scatter*LF_SCATTER_MULT)"
   ]
  },
  {
   "cell_type": "code",
   "execution_count": 71,
   "metadata": {
    "collapsed": false
   },
   "outputs": [],
   "source": [
    "mag_cut = -18 # choose a magitude cut, and make this cut on our sample\n",
    "valid_idxs = np.logical_and(~np.isnan(full_catalog), full_catalog <= mag_cut)\n",
    "catalog = full_catalog[valid_idxs]"
   ]
  },
  {
   "cell_type": "code",
   "execution_count": 72,
   "metadata": {
    "collapsed": false
   },
   "outputs": [
    {
     "data": {
      "image/png": "[encoded data removed]",
      "text/plain": [
       "<matplotlib.figure.Figure at 0x7f7e57663390>"
      ]
     },
     "metadata": {},
     "output_type": "display_data"
    }
   ],
   "source": [
    "plt.hist(-1*catalog, bins = 30);"
   ]
  },
  {
   "cell_type": "raw",
   "metadata": {
    "collapsed": true
   },
   "source": [
    "np.savetxt('/home/exhakaj/Github/splashback3D/UM_SDMPL/sham_catalog.npy', catalog) #activate if you want to save the uncut catalog "
   ]
  },
  {
   "cell_type": "markdown",
   "metadata": {
    "collapsed": true
   },
   "source": [
    "We want this plot to approximately match this one from Song. "
   ]
  },
  {
   "cell_type": "code",
   "execution_count": 74,
   "metadata": {
    "collapsed": true
   },
   "outputs": [],
   "source": [
    "song_cat = np.genfromtxt('gama_z0.1_0.3_rband_absmag.ascii')"
   ]
  },
  {
   "cell_type": "code",
   "execution_count": 75,
   "metadata": {
    "collapsed": true
   },
   "outputs": [],
   "source": [
    "mags = song_cat[song_cat[:,-1] > -10000,-1 ]"
   ]
  },
  {
   "cell_type": "code",
   "execution_count": 76,
   "metadata": {
    "collapsed": false
   },
   "outputs": [
    {
     "data": {
      "image/png": "[encoded data removed]",
      "text/plain": [
       "<matplotlib.figure.Figure at 0x7f7e57b554d0>"
      ]
     },
     "metadata": {},
     "output_type": "display_data"
    }
   ],
   "source": [
    "#plt.hist(-1*catalog, bins = 30)\n",
    "plt.hist(-1*mags, bins = 30);\n",
    "plt.xlim([18,25]);"
   ]
  },
  {
   "cell_type": "code",
   "execution_count": 77,
   "metadata": {
    "collapsed": false
   },
   "outputs": [
    {
     "name": "stdout",
     "output_type": "stream",
     "text": [
      "2834 1559\n",
      "22.0945201989 22.3614357109\n",
      "1.81783194355\n"
     ]
    }
   ],
   "source": [
    "#downsample here\n",
    "hist, bin_edges = np.histogram(-1*mags, bins = 30)\n",
    "max_mag= bin_edges[np.argmax(hist)+1]\n",
    "downsample_idxs = set()\n",
    "makeshift_hist = []\n",
    "length = len(hist)\n",
    "\n",
    "#Index of the bin we want to match to. \n",
    "match_idx = -16\n",
    "low, high = bin_edges[match_idx:match_idx+2]\n",
    "\n",
    "in_bin_idxs = np.where(np.logical_and(low <= -1*catalog, -1*catalog <= high))[0]\n",
    "\n",
    "ratio = float(len(in_bin_idxs))/hist[match_idx] #the ratio by which to downsample to. \n",
    "\n",
    "#This will print the relative sizes of the bin selected, and its edges. \n",
    "print len(in_bin_idxs), hist[match_idx]\n",
    "print low, high\n",
    "print ratio\n",
    "#work backwords in bins, from brightest to dimmest and randomly downsample. \n",
    "for real_idx, count in enumerate(reversed(hist)):\n",
    "    idx = length-real_idx-1\n",
    "    low, high = bin_edges[idx:idx+2]\n",
    "    \n",
    "    in_bin_idxs = np.where(np.logical_and(low <= -1*catalog, -1*catalog <= high))[0]\n",
    "\n",
    "    # if our SHAM has more galaxies then we wanted to downsample to, just leave them all in. \n",
    "    # This should only happen in really bright bins\n",
    "    if in_bin_idxs.shape[0] <= np.ceil(ratio*count):\n",
    "        sampled_idxs = in_bin_idxs\n",
    "    else:\n",
    "        # else, downsample to the correct ratio\n",
    "        sampled_idxs = np.random.choice(in_bin_idxs, size = int(np.ceil(ratio*count)), replace = False)\n",
    "\n",
    "    downsample_idxs = downsample_idxs | set(sampled_idxs) #add the downsample idxs to our list\n",
    "    \n",
    "downsampled_catalog = catalog[np.array(list(downsample_idxs), dtype=int)]"
   ]
  },
  {
   "cell_type": "code",
   "execution_count": 78,
   "metadata": {
    "collapsed": false
   },
   "outputs": [
    {
     "data": {
      "image/png": "[encoded data removed]",
      "text/plain": [
       "<matplotlib.figure.Figure at 0x7f7e5779dd50>"
      ]
     },
     "metadata": {},
     "output_type": "display_data"
    }
   ],
   "source": [
    "plt.hist(-1*catalog, bins = bin_edges, label = 'Original AB', alpha = 0.5)\n",
    "plt.hist(-1*downsampled_catalog, bins = bin_edges, alpha = 0.5, label = \"Downsmaple\")\n",
    "plt.hist(-1*mags, bins = bin_edges, alpha = 0.5, label = 'Song');\n",
    "plt.xlim([18,25]);\n",
    "plt.legend(loc='best')\n",
    "plt.yscale('log')"
   ]
  },
  {
   "cell_type": "markdown",
   "metadata": {},
   "source": [
    "Yay! It worked. "
   ]
  },
  {
   "cell_type": "code",
   "execution_count": 79,
   "metadata": {
    "collapsed": false
   },
   "outputs": [
    {
     "data": {
      "text/plain": [
       "[<matplotlib.lines.Line2D at 0x7f8ad9031510>]"
      ]
     },
     "execution_count": 79,
     "metadata": {},
     "output_type": "execute_result"
    },
    {
     "data": {
      "image/png": "[encoded data removed]",
      "text/plain": [
       "<matplotlib.figure.Figure at 0x7f8ad90314d0>"
      ]
     },
     "metadata": {},
     "output_type": "display_data"
    }
   ],
   "source": [
    "plt.plot(hist*ratio, lw = 10)\n",
    "plt.plot(np.histogram(-1*downsampled_catalog, bins = bin_edges)[0], lw = 5)"
   ]
  },
  {
   "cell_type": "markdown",
   "metadata": {},
   "source": [
    "Yeah! let's save the indexs. "
   ]
  },
  {
   "cell_type": "code",
   "execution_count": 28,
   "metadata": {
    "collapsed": true
   },
   "outputs": [],
   "source": [
    "#put the indicies into an array the size of our original catalog\n",
    "downsampled_idxs_array = np.zeros_like(valid_idxs, dtype=bool)\n",
    "counter = 0\n",
    "for idx, val in enumerate(valid_idxs):\n",
    "    if val:\n",
    "        if counter in downsample_idxs:\n",
    "            downsampled_idxs_array[idx] = True\n",
    "        counter+=1\n",
    "\n",
    "\n",
    "downsampled_idxs_array= np.where(valid_idxs)[0][np.array(list(downsample_idxs))]"
   ]
  },
  {
   "cell_type": "code",
   "execution_count": 30,
   "metadata": {
    "collapsed": false
   },
   "outputs": [
    {
     "data": {
      "image/png": "[encoded data removed]",
      "text/plain": [
       "<matplotlib.figure.Figure at 0x7f677f955cd0>"
      ]
     },
     "metadata": {},
     "output_type": "display_data"
    }
   ],
   "source": [
    "plt.hist(-1*full_catalog[downsampled_idxs_array], bins = 30);"
   ]
  },
  {
   "cell_type": "code",
   "execution_count": null,
   "metadata": {
    "collapsed": true
   },
   "outputs": [],
   "source": [
    "# save them! \n",
    "np.savetxt('gama_matched_catalog.npy', full_catalog)\n",
    "np.savetxt('gama_matched_catalog_idxs.npy', downsampled_idxs_array)"
   ]
  },
  {
   "cell_type": "code",
   "execution_count": null,
   "metadata": {
    "collapsed": true
   },
   "outputs": [],
   "source": [
    "# alternatively, you could just add it as a column to the halo table we have\n",
    "\n",
    "halocat.halo_table['gal_mag'] = np.ones_like(halocat.halo_table['gal_mag'])*60 #pu t60 in the ones that are empty\n",
    "halocat.halo_table['gal_mag'][downsampled_idxs_array] = full_catalog\n",
    "\n",
    "# can also slice down our full catalog now\n",
    "\n",
    "galaxy_catalog = halocat.halo_table[downsampled_idxs_array]"
   ]
  },
  {
   "cell_type": "code",
   "execution_count": 33,
   "metadata": {
    "collapsed": false
   },
   "outputs": [
    {
     "data": {
      "image/png": "[encoded data removed]",
      "text/plain": [
       "<matplotlib.figure.Figure at 0x7f677f2c9e90>"
      ]
     },
     "metadata": {},
     "output_type": "display_data"
    }
   ],
   "source": [
    "plt.hist(np.log10(halocat.halo_table[downsampled_idxs_array]['halo_mvir']), bins = 100);\n",
    "plt.vlines(np.log10(200*halocat.particle_mass), 0, 5e3)\n",
    "plt.yscale('log')"
   ]
  },
  {
   "cell_type": "code",
   "execution_count": 47,
   "metadata": {
    "collapsed": false
   },
   "outputs": [
    {
     "name": "stdout",
     "output_type": "stream",
     "text": [
      "5.914214e+08\n"
     ]
    }
   ],
   "source": [
    "print '%e'%halocat.particle_mass"
   ]
  },
  {
   "cell_type": "code",
   "execution_count": null,
   "metadata": {
    "collapsed": true
   },
   "outputs": [],
   "source": []
  }
 ],
 "metadata": {
  "kernelspec": {
   "display_name": "Python astroconda",
   "language": "python",
   "name": "astroconda"
  },
  "language_info": {
   "codemirror_mode": {
    "name": "ipython",
    "version": 2
   },
   "file_extension": ".py",
   "mimetype": "text/x-python",
   "name": "python",
   "nbconvert_exporter": "python",
   "pygments_lexer": "ipython2",
   "version": "2.7.13"
  }
 },
 "nbformat": 4,
 "nbformat_minor": 1
}
