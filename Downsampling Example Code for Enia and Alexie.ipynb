{
 "cells": [
  {
   "cell_type": "markdown",
   "metadata": {},
   "source": [
    "This notebook showcases the downsampling scheme I developed in Summer 2017, to make a DESI-like sample. This is done by first abundance matchhing to the GAMA Luminosity function from [Loveday 2015](https://arxiv.org/abs/1505.01003), then downsampling to match what we expect from DESI by matching a catalog made by Song. \n",
    "\n",
    "There are a few python packages I use in this notebook that will need to be installed before running. \n",
    "* [Yao's code](https://bitbucket.org/yymao/abundancematching) to do the abundance matching. \n",
    "* Loading particles from disk requires one of Yao's other packages, [helpers](https://bitbucket.org/yymao/helpers/src). \n",
    "* Also, I used [Halotools](https://halotools.readthedocs.io/en/latest/), specifically the halo catalog loading and caching functionalities. "
   ]
  },
  {
   "cell_type": "code",
   "execution_count": 3,
   "metadata": {},
   "outputs": [
    {
     "name": "stdout",
     "output_type": "stream",
     "text": [
      "Once deleted, variables cannot be recovered. Proceed (y/[n])? y\n"
     ]
    },
    {
     "name": "stderr",
     "output_type": "stream",
     "text": [
      "/Users/eniaxhakaj/miniconda2/envs/astro3.6/lib/python3.6/site-packages/h5py/__init__.py:36: FutureWarning: Conversion of the second argument of issubdtype from `float` to `np.floating` is deprecated. In future, it will be treated as `np.float64 == np.dtype(float).type`.\n",
      "  from ._conv import register_converters as _register_converters\n"
     ]
    }
   ],
   "source": [
    "%reset\n",
    "from glob import glob\n",
    "from os import path\n",
    "import numpy as np\n",
    "from halotools.sim_manager import CachedHaloCatalog, RockstarHlistReader, UserSuppliedPtclCatalog\n",
    "from helpers.readGadgetSnapshot import readGadgetSnapshot\n",
    "from AbundanceMatching import *\n",
    "import h5py\n",
    "import pandas as pd"
   ]
  },
  {
   "cell_type": "code",
   "execution_count": 4,
   "metadata": {},
   "outputs": [],
   "source": [
    "from matplotlib import pyplot as plt\n",
    "%matplotlib notebook"
   ]
  },
  {
   "cell_type": "markdown",
   "metadata": {},
   "source": [
    "# Cache in the catalog\n",
    "\n",
    "This should read in the big hlist catalog and cut it down to the mass cut & columns we give it. The parameters we will need are the following: \n",
    "\n",
    "- filename \n",
    "- columns to keep -- the vertical cut  \n",
    "- cache filename -- where we're going to save the cached cut catalog \n",
    "- simulation name \n",
    "- halo finder\n",
    "- redshift \n",
    "- version name \n",
    "- lbox and particle mass. -- for particle mass Sean has a formula that calculates it **(make sure this work in our case too!)**\n"
   ]
  },
  {
   "cell_type": "code",
   "execution_count": 6,
   "metadata": {},
   "outputs": [],
   "source": [
    "# define all the parameters you need to cache in the catalog \n",
    "# REMOVE THE CUT FROM THIS CATALOG \n",
    "\n",
    "fname = \"/home/exhakaj/Github/splashback3D/UM_SDMPL/hlist_0.84140_orig.list\"\n",
    "\n",
    "HLIST_COLS = {'halo_id': (1, 'i8'), 'halo_upid': (6, 'i8'),\n",
    "              'halo_x': (17, 'f4'), 'halo_y': (18, 'f4'), 'halo_z': (19, 'f4'),\n",
    "              'halo_vx': (20, 'f4'), 'halo_vy': (21, 'f4'), 'halo_vz': (22, 'f4'),\n",
    "              'halo_mvir': (10, 'f4'), \n",
    "              'halo_snapnum': (31, 'i8'),'halo_vpeak':(60, 'f8'), 'halo_halfmass_scale': (61, 'f4'),\n",
    "              'halo_Acc_Rate_1*Tdyn':(64, \"f8\"), \"halo_Mpeak\":(58, \"f8\")}\n",
    "\n",
    "\n",
    "columns_to_keep = HLIST_COLS\n",
    "cache_fname = \"/Users/eniaxhakaj/data/hlist_0.84140_cache_fullmass.hdf5\"\n",
    "columns_to_convert = []\n",
    "simname = \"smdpl\"\n",
    "halo_finder = \"rockstar\"\n",
    "a = 0.84140 # hardcoded from the file name \n",
    "redshift = (1. - a)/a\n",
    "vname = \"1.\" \n",
    "Lbox = 1000 \n",
    "npart = 99994092 # counted how many lines were on the particle file (?)\n",
    "particle_mass = 1.51e9"
   ]
  },
  {
   "cell_type": "raw",
   "metadata": {},
   "source": [
    "# cache in the catalog \n",
    "\n",
    "reader = RockstarHlistReader(input_fname=fname, \n",
    "                             columns_to_keep_dict=columns_to_keep, \n",
    "                             output_fname=cache_fname, \n",
    "                             simname=simname, \n",
    "                             halo_finder=halo_finder, \n",
    "                             redshift=redshift, \n",
    "                             version_name=vname, \n",
    "                             Lbox=Lbox, \n",
    "                             particle_mass=particle_mass,\n",
    "#                             row_cut_min_dict={\"halo_Mpeak\":1e12},\n",
    "                            overwrite=True) \n",
    "reader.read_halocat(columns_to_convert_from_kpc_to_mpc=[], write_to_disk = True, update_cache_log = True)"
   ]
  },
  {
   "cell_type": "code",
   "execution_count": 8,
   "metadata": {},
   "outputs": [
    {
     "name": "stdout",
     "output_type": "stream",
     "text": [
      "True\n"
     ]
    }
   ],
   "source": [
    "halocat = CachedHaloCatalog(fname=cache_fname, update_cached_fname=True)"
   ]
  },
  {
   "cell_type": "code",
   "execution_count": 9,
   "metadata": {},
   "outputs": [
    {
     "data": {
      "text/plain": [
       "['halo_id',\n",
       " 'halo_upid',\n",
       " 'halo_x',\n",
       " 'halo_y',\n",
       " 'halo_z',\n",
       " 'halo_vx',\n",
       " 'halo_vy',\n",
       " 'halo_vz',\n",
       " 'halo_mvir',\n",
       " 'halo_snapnum',\n",
       " 'halo_vpeak',\n",
       " 'halo_halfmass_scale',\n",
       " 'halo_Acc_Rate_1*Tdyn',\n",
       " 'halo_Mpeak',\n",
       " 'halo_hostid',\n",
       " 'halo_mvir_host_halo']"
      ]
     },
     "execution_count": 9,
     "metadata": {},
     "output_type": "execute_result"
    }
   ],
   "source": [
    "halocat.halo_table.colnames"
   ]
  },
  {
   "cell_type": "markdown",
   "metadata": {},
   "source": [
    "# Cache in and downsample the particles\n",
    "\n",
    "The downsampling is done in two steps \n",
    "\n",
    "(1) Take a subset with replacement from the rows in your table. \n",
    "\n",
    "(2) Decrease the size of the sample by 1000 times \n",
    "\n",
    "(3) Use the indecces from part 1 and 2 to get the downsampled particles "
   ]
  },
  {
   "cell_type": "raw",
   "metadata": {},
   "source": [
    "# get the particle filename \n",
    "snapfile = \"/home/exhakaj/Github/splashback3D/UM_SDMPL/particles_smd_100m_a0.8414.dat\" \n",
    "\n",
    "\n",
    "# Read in the particle data \n",
    "particles = pd.read_csv(snapfile,\n",
    "        header=None,\n",
    "        sep = \" \",\n",
    "        names = [\"x\", \"y\", \"z\", \"vx\", \"vy\", \"vz\", \"id\"])\n",
    "\n",
    "# Downsampling the particles \n",
    "\n",
    "downsample_idxs = np.random.choice(len(particles), size =int(len(particles)*p))\n",
    "particles = particles.loc[downsample_idxs]"
   ]
  },
  {
   "cell_type": "raw",
   "metadata": {},
   "source": [
    "# save the particles to disk somewhere, just so we don't have to do the above again\n",
    "\n",
    "final_dir = \"/Users/eniaxhakaj/data/particles_smd_100m_a0.8414_downsampled.dat\" \n",
    "particles.to_csv(final_dir, header=False, index = False)"
   ]
  },
  {
   "cell_type": "code",
   "execution_count": 48,
   "metadata": {},
   "outputs": [
    {
     "ename": "NameError",
     "evalue": "name 'ptcl_file' is not defined",
     "output_type": "error",
     "traceback": [
      "\u001b[0;31m---------------------------------------------------------------------------\u001b[0m",
      "\u001b[0;31mNameError\u001b[0m                                 Traceback (most recent call last)",
      "\u001b[0;32m<ipython-input-48-d889b091a91b>\u001b[0m in \u001b[0;36m<module>\u001b[0;34m()\u001b[0m\n\u001b[0;32m----> 1\u001b[0;31m \u001b[0mpd\u001b[0m\u001b[0;34m.\u001b[0m\u001b[0mread_csv\u001b[0m\u001b[0;34m(\u001b[0m\u001b[0mptcl_file\u001b[0m\u001b[0;34m,\u001b[0m \u001b[0msep\u001b[0m\u001b[0;34m=\u001b[0m\u001b[0;34m\",\"\u001b[0m\u001b[0;34m,\u001b[0m \u001b[0mnames\u001b[0m \u001b[0;34m=\u001b[0m \u001b[0;34m[\u001b[0m\u001b[0;34m\"x\"\u001b[0m\u001b[0;34m,\u001b[0m \u001b[0;34m\"y\"\u001b[0m\u001b[0;34m,\u001b[0m \u001b[0;34m\"z\"\u001b[0m\u001b[0;34m]\u001b[0m\u001b[0;34m,\u001b[0m  \u001b[0mindex_col\u001b[0m\u001b[0;34m=\u001b[0m\u001b[0;32mNone\u001b[0m\u001b[0;34m)\u001b[0m\u001b[0;34m\u001b[0m\u001b[0m\n\u001b[0m",
      "\u001b[0;31mNameError\u001b[0m: name 'ptcl_file' is not defined"
     ]
    }
   ],
   "source": [
    "pd.read_csv(ptcl_file, sep=\",\", names = [\"x\", \"y\", \"z\"],  index_col=None)"
   ]
  },
  {
   "cell_type": "markdown",
   "metadata": {},
   "source": [
    "# Pair the particle and halo cats \n",
    "\n",
    "**What does this exactly do?**"
   ]
  },
  {
   "cell_type": "raw",
   "metadata": {},
   "source": [
    "# cache the particles, and pair it to the halos so halotools knows where it its when we load the sim. \n",
    "ptcl_catalog = UserSuppliedPtclCatalog(redshift=redshift, Lbox=Lbox, particle_mass=particle_mass,\\\n",
    "                                       x=np.array(particles[\"x\"]), y=np.array(particles[\"y\"]), z=np.array(particles[\"z\"]))\n",
    "\n",
    "ptcl_cash_name = \"/home/exhakaj/Github/splashback3D/UM_SDMPL/hlist_0.84140_cache_ptcl.hdf5\"\n",
    "ptcl_catalog.add_ptclcat_to_cache(ptcl_cash_name, simname, vname, 'p=%f'%p)"
   ]
  },
  {
   "cell_type": "markdown",
   "metadata": {},
   "source": [
    "# The luminosity function "
   ]
  },
  {
   "cell_type": "markdown",
   "metadata": {},
   "source": [
    "## Done with working code here .... "
   ]
  },
  {
   "cell_type": "markdown",
   "metadata": {},
   "source": [
    "Loading up a luminosity function. This one is from GAMA Survey, Loveday 2015. Note the selected redshift ranges. "
   ]
  },
  {
   "cell_type": "code",
   "execution_count": 10,
   "metadata": {},
   "outputs": [],
   "source": [
    "lf = np.genfromtxt('lf_r_sersic_z_0.2_0.3.dat', skip_header=True)[:,1:3]\n",
    "#lf = np.genfromtxt('lf_r_sersic_z_0.1_0.2.dat', skip_header=True)[:,1:3]"
   ]
  },
  {
   "cell_type": "code",
   "execution_count": 11,
   "metadata": {},
   "outputs": [
    {
     "data": {
      "text/plain": [
       "array([[-2.388e+01,  3.930e-07],\n",
       "       [-2.338e+01,  1.870e-06],\n",
       "       [-2.312e+01,  7.220e-06],\n",
       "       [-2.288e+01,  1.870e-05],\n",
       "       [-2.262e+01,  4.100e-05],\n",
       "       [-2.238e+01,  1.090e-04],\n",
       "       [-2.212e+01,  2.160e-04],\n",
       "       [-2.188e+01,  3.880e-04],\n",
       "       [-2.162e+01,  7.280e-04],\n",
       "       [-2.138e+01,  1.170e-03],\n",
       "       [-2.112e+01,  1.800e-03],\n",
       "       [-2.088e+01,  2.520e-03],\n",
       "       [-2.062e+01,  3.330e-03],\n",
       "       [-2.038e+01,  4.200e-03],\n",
       "       [-2.012e+01,  4.870e-03],\n",
       "       [-1.988e+01,  6.020e-03],\n",
       "       [-1.962e+01,  6.580e-03],\n",
       "       [-1.938e+01,  5.650e-03],\n",
       "       [-1.912e+01,  1.030e-03],\n",
       "       [-1.888e+01,  7.840e-05],\n",
       "       [-1.862e+01,  4.930e-04],\n",
       "       [-1.838e+01,  2.240e-04],\n",
       "       [-1.812e+01,  1.750e-04],\n",
       "       [-1.788e+01,  1.270e-05]])"
      ]
     },
     "execution_count": 11,
     "metadata": {},
     "output_type": "execute_result"
    }
   ],
   "source": [
    "lf"
   ]
  },
  {
   "cell_type": "code",
   "execution_count": 12,
   "metadata": {},
   "outputs": [],
   "source": [
    "# apologies for the magic numbers. I tinkered with this particular LF for a while, since the edges get a little \n",
    "# noisy. This seemed to give the best extrapolation, but feel free to change. \n",
    "use_up_to = -6 \n",
    "af = AbundanceFunction(lf[:use_up_to,0], lf[:use_up_to,1], (-27, -18),faint_end_fit_points = 7 )"
   ]
  },
  {
   "cell_type": "code",
   "execution_count": 13,
   "metadata": {},
   "outputs": [
    {
     "data": {
      "text/plain": [
       "[<matplotlib.lines.Line2D at 0x18cf514ef0>]"
      ]
     },
     "execution_count": 13,
     "metadata": {},
     "output_type": "execute_result"
    },
    {
     "data": {
      "image/png": "[encoded data removed]",
      "text/plain": [
       "<matplotlib.figure.Figure at 0x170cd81940>"
      ]
     },
     "metadata": {},
     "output_type": "display_data"
    }
   ],
   "source": [
    "plt.figure()\n",
    "plt.semilogy(lf[:,0], lf[:,1])\n",
    "x = np.linspace(-27, -18, 101)\n",
    "plt.semilogy(x, af(x))"
   ]
  },
  {
   "cell_type": "code",
   "execution_count": 14,
   "metadata": {},
   "outputs": [
    {
     "name": "stdout",
     "output_type": "stream",
     "text": [
      "0.012803895807302974\n"
     ]
    }
   ],
   "source": [
    "print( max(af(x)))"
   ]
  },
  {
   "cell_type": "markdown",
   "metadata": {},
   "source": [
    "These checks are reccomended by Yao in his code, linked above."
   ]
  },
  {
   "cell_type": "code",
   "execution_count": 15,
   "metadata": {},
   "outputs": [],
   "source": [
    "scatter = 0.2\n",
    "remainder = af.deconvolute(scatter*LF_SCATTER_MULT, 20)"
   ]
  },
  {
   "cell_type": "code",
   "execution_count": 16,
   "metadata": {},
   "outputs": [
    {
     "data": {
      "image/png": "[encoded data removed]",
      "text/plain": [
       "<matplotlib.figure.Figure at 0x170cd8a518>"
      ]
     },
     "metadata": {},
     "output_type": "display_data"
    }
   ],
   "source": [
    "x, nd = af.get_number_density_table()\n",
    "plt.figure()\n",
    "plt.plot(x, remainder/nd);"
   ]
  },
  {
   "cell_type": "code",
   "execution_count": 17,
   "metadata": {},
   "outputs": [
    {
     "data": {
      "text/plain": [
       "0.020700864155704282"
      ]
     },
     "execution_count": 17,
     "metadata": {},
     "output_type": "execute_result"
    }
   ],
   "source": [
    "max(nd)"
   ]
  },
  {
   "cell_type": "code",
   "execution_count": 18,
   "metadata": {},
   "outputs": [],
   "source": [
    "# calculate the number density of our halo proxy\n",
    "halos = np.array(halocat.halo_table)\n",
    "    \n",
    "nd_halos = calc_number_densities(halos['halo_vpeak'], halocat.Lbox[0])"
   ]
  },
  {
   "cell_type": "code",
   "execution_count": 19,
   "metadata": {},
   "outputs": [],
   "source": [
    "# Do the AB match here. \n",
    "full_catalog = af.match(nd_halos, scatter*LF_SCATTER_MULT)"
   ]
  },
  {
   "cell_type": "code",
   "execution_count": 20,
   "metadata": {},
   "outputs": [
    {
     "name": "stderr",
     "output_type": "stream",
     "text": [
      "/Users/eniaxhakaj/miniconda2/envs/astro3.6/lib/python3.6/site-packages/ipykernel_launcher.py:2: RuntimeWarning: invalid value encountered in less_equal\n",
      "  \n"
     ]
    }
   ],
   "source": [
    "mag_cut = -18 # choose a magitude cut, and make this cut on our sample\n",
    "valid_idxs = np.logical_and(~np.isnan(full_catalog), full_catalog <= mag_cut)\n",
    "catalog = full_catalog[valid_idxs]"
   ]
  },
  {
   "cell_type": "code",
   "execution_count": 21,
   "metadata": {},
   "outputs": [
    {
     "data": {
      "image/png": "[encoded data removed]",
      "text/plain": [
       "<matplotlib.figure.Figure at 0x18cf3ce320>"
      ]
     },
     "metadata": {},
     "output_type": "display_data"
    }
   ],
   "source": [
    "plt.figure()\n",
    "plt.hist(-1*catalog, bins = 30);"
   ]
  },
  {
   "cell_type": "code",
   "execution_count": 22,
   "metadata": {},
   "outputs": [],
   "source": [
    "np.savetxt('/Users/eniaxhakaj/Github/desiDeltaSigma/sham_catalog.npy', catalog) #activate if you want to save the uncut catalog "
   ]
  },
  {
   "cell_type": "markdown",
   "metadata": {
    "collapsed": true
   },
   "source": [
    "We want this plot to approximately match this one from Song. "
   ]
  },
  {
   "cell_type": "code",
   "execution_count": 23,
   "metadata": {},
   "outputs": [],
   "source": [
    "song_cat = np.genfromtxt('gama_z0.1_0.3_rband_absmag.ascii')"
   ]
  },
  {
   "cell_type": "code",
   "execution_count": 24,
   "metadata": {},
   "outputs": [],
   "source": [
    "mags = song_cat[song_cat[:,-1] > -10000,-1 ]"
   ]
  },
  {
   "cell_type": "code",
   "execution_count": 25,
   "metadata": {},
   "outputs": [
    {
     "data": {
      "image/png": "[encoded data removed]",
      "text/plain": [
       "<matplotlib.figure.Figure at 0x18cf4b45c0>"
      ]
     },
     "metadata": {},
     "output_type": "display_data"
    }
   ],
   "source": [
    "# plt.hist(-1*catalog, bins = 30);\n",
    "plt.figure()\n",
    "plt.hist(-1*mags, bins = 30);\n",
    "plt.xlim([18,25]);"
   ]
  },
  {
   "cell_type": "code",
   "execution_count": 26,
   "metadata": {},
   "outputs": [
    {
     "name": "stdout",
     "output_type": "stream",
     "text": [
      "2834 1559\n",
      "22.09452019885058 22.36143571093554\n",
      "1.81783194355356\n"
     ]
    }
   ],
   "source": [
    "#downsample here\n",
    "hist, bin_edges = np.histogram(-1*mags, bins = 30)\n",
    "max_mag= bin_edges[np.argmax(hist)+1]\n",
    "downsample_idxs = set()\n",
    "makeshift_hist = []\n",
    "length = len(hist)\n",
    "\n",
    "#Index of the bin we want to match to. \n",
    "match_idx = -16\n",
    "low, high = bin_edges[match_idx:match_idx+2]\n",
    "\n",
    "in_bin_idxs = np.where(np.logical_and(low <= -1*catalog, -1*catalog <= high))[0]\n",
    "\n",
    "ratio = float(len(in_bin_idxs))/hist[match_idx] #the ratio by which to downsample to. \n",
    "\n",
    "#This will print the relative sizes of the bin selected, and its edges. \n",
    "print (len(in_bin_idxs), hist[match_idx])\n",
    "print (low, high)\n",
    "print (ratio)\n",
    "#work backwords in bins, from brightest to dimmest and randomly downsample. \n",
    "for real_idx, count in enumerate(reversed(hist)):\n",
    "    idx = length-real_idx-1\n",
    "    low, high = bin_edges[idx:idx+2]\n",
    "    \n",
    "    in_bin_idxs = np.where(np.logical_and(low <= -1*catalog, -1*catalog <= high))[0]\n",
    "\n",
    "    # if our SHAM has more galaxies then we wanted to downsample to, just leave them all in. \n",
    "    # This should only happen in really bright bins\n",
    "    if in_bin_idxs.shape[0] <= np.ceil(ratio*count):\n",
    "        sampled_idxs = in_bin_idxs\n",
    "    else:\n",
    "        # else, downsample to the correct ratio\n",
    "        sampled_idxs = np.random.choice(in_bin_idxs, size = int(np.ceil(ratio*count)), replace = False)\n",
    "\n",
    "    downsample_idxs = downsample_idxs | set(sampled_idxs) #add the downsample idxs to our list\n",
    "    \n",
    "downsampled_catalog = catalog[np.array(list(downsample_idxs), dtype=int)]"
   ]
  },
  {
   "cell_type": "code",
   "execution_count": 27,
   "metadata": {},
   "outputs": [
    {
     "data": {
      "image/png": "[encoded data removed]",
      "text/plain": [
       "<matplotlib.figure.Figure at 0x154b2437b8>"
      ]
     },
     "metadata": {},
     "output_type": "display_data"
    }
   ],
   "source": [
    "plt.figure(figsize = (10,8))\n",
    "plt.hist(-1*catalog, bins = bin_edges, label = 'Original AB', alpha = 0.5)\n",
    "plt.hist(-1*downsampled_catalog, bins = bin_edges, alpha = 0.5, label = \"Downsmaple\")\n",
    "plt.hist(-1*mags, bins = bin_edges, alpha = 0.5, label = 'Song');\n",
    "plt.xlim([18,25]);\n",
    "plt.legend(loc='best')\n",
    "plt.yscale('log')\n",
    "plt.savefig(\"/Users/eniaxhakaj/Desktop/downsampling.png\")"
   ]
  },
  {
   "cell_type": "markdown",
   "metadata": {},
   "source": [
    "Yay! It worked. "
   ]
  },
  {
   "cell_type": "code",
   "execution_count": 28,
   "metadata": {},
   "outputs": [
    {
     "data": {
      "text/plain": [
       "[<matplotlib.lines.Line2D at 0x18cf3fce10>]"
      ]
     },
     "execution_count": 28,
     "metadata": {},
     "output_type": "execute_result"
    },
    {
     "data": {
      "image/png": "[encoded data removed]",
      "text/plain": [
       "<matplotlib.figure.Figure at 0x154b3169b0>"
      ]
     },
     "metadata": {},
     "output_type": "display_data"
    }
   ],
   "source": [
    "plt.figure()\n",
    "plt.plot(hist*ratio, lw = 10)\n",
    "plt.plot(np.histogram(-1*downsampled_catalog, bins = bin_edges)[0], lw = 5)"
   ]
  },
  {
   "cell_type": "markdown",
   "metadata": {},
   "source": [
    "Yeah! let's save the indexs. "
   ]
  },
  {
   "cell_type": "code",
   "execution_count": 29,
   "metadata": {},
   "outputs": [],
   "source": [
    "#put the indicies into an array the size of our original catalog\n",
    "downsampled_idxs_array = np.zeros_like(valid_idxs, dtype=bool)\n",
    "counter = 0\n",
    "for idx, val in enumerate(valid_idxs):\n",
    "    if val:\n",
    "        if counter in downsample_idxs:\n",
    "            downsampled_idxs_array[idx] = True\n",
    "        counter+=1\n",
    "\n",
    "\n",
    "downsampled_idxs_array= np.where(valid_idxs)[0][np.array(list(downsample_idxs))]"
   ]
  },
  {
   "cell_type": "code",
   "execution_count": 30,
   "metadata": {},
   "outputs": [
    {
     "data": {
      "image/png": "[encoded data removed]",
      "text/plain": [
       "<matplotlib.figure.Figure at 0x154ae9c908>"
      ]
     },
     "metadata": {},
     "output_type": "display_data"
    }
   ],
   "source": [
    "plt.figure()\n",
    "plt.hist(-1*full_catalog[downsampled_idxs_array], bins = 50);"
   ]
  },
  {
   "cell_type": "code",
   "execution_count": 31,
   "metadata": {},
   "outputs": [],
   "source": [
    "# save them! \n",
    "np.savetxt('gama_matched_catalog.npy', full_catalog)\n",
    "np.savetxt('gama_matched_catalog_idxs.npy', downsampled_idxs_array)"
   ]
  },
  {
   "cell_type": "code",
   "execution_count": 34,
   "metadata": {},
   "outputs": [
    {
     "data": {
      "text/plain": [
       "array([-22.08146757, -19.65062784, -20.73426607, ..., -20.82947268,\n",
       "       -20.28037458, -20.88773022])"
      ]
     },
     "execution_count": 34,
     "metadata": {},
     "output_type": "execute_result"
    }
   ],
   "source": [
    "full_catalog[downsampled_idxs_array]"
   ]
  },
  {
   "cell_type": "raw",
   "metadata": {
    "collapsed": true
   },
   "source": [
    "# alternatively, you could just add it as a column to the halo table we have\n",
    "\n",
    "halocat.halo_table['gal_mag'] = np.ones_like(halocat.halo_table['gal_mag'])*60 #put 60 in the ones that are empty\n",
    "halocat.halo_table['gal_mag'][downsampled_idxs_array] = full_catalog\n",
    "\n",
    "# can also slice down our full catalog now\n",
    "galaxy_catalog = halocat.halo_table[downsampled_idxs_array]"
   ]
  },
  {
   "cell_type": "code",
   "execution_count": 60,
   "metadata": {},
   "outputs": [
    {
     "data": {
      "application/javascript": [
       "/* Put everything inside the global mpl namespace */\n",
       "window.mpl = {};\n",
       "\n",
       "\n",
       "mpl.get_websocket_type = function() {\n",
       "    if (typeof(WebSocket) !== 'undefined') {\n",
       "        return WebSocket;\n",
       "    } else if (typeof(MozWebSocket) !== 'undefined') {\n",
       "        return MozWebSocket;\n",
       "    } else {\n",
       "        alert('Your browser does not have WebSocket support.' +\n",
       "              'Please try Chrome, Safari or Firefox ≥ 6. ' +\n",
       "              'Firefox 4 and 5 are also supported but you ' +\n",
       "              'have to enable WebSockets in about:config.');\n",
       "    };\n",
       "}\n",
       "\n",
       "mpl.figure = function(figure_id, websocket, ondownload, parent_element) {\n",
       "    this.id = figure_id;\n",
       "\n",
       "    this.ws = websocket;\n",
       "\n",
       "    this.supports_binary = (this.ws.binaryType != undefined);\n",
       "\n",
       "    if (!this.supports_binary) {\n",
       "        var warnings = document.getElementById(\"mpl-warnings\");\n",
       "        if (warnings) {\n",
       "            warnings.style.display = 'block';\n",
       "            warnings.textContent = (\n",
       "                \"This browser does not support binary websocket messages. \" +\n",
       "                    \"Performance may be slow.\");\n",
       "        }\n",
       "    }\n",
       "\n",
       "    this.imageObj = new Image();\n",
       "\n",
       "    this.context = undefined;\n",
       "    this.message = undefined;\n",
       "    this.canvas = undefined;\n",
       "    this.rubberband_canvas = undefined;\n",
       "    this.rubberband_context = undefined;\n",
       "    this.format_dropdown = undefined;\n",
       "\n",
       "    this.image_mode = 'full';\n",
       "\n",
       "    this.root = $('<div/>');\n",
       "    this._root_extra_style(this.root)\n",
       "    this.root.attr('style', 'display: inline-block');\n",
       "\n",
       "    $(parent_element).append(this.root);\n",
       "\n",
       "    this._init_header(this);\n",
       "    this._init_canvas(this);\n",
       "    this._init_toolbar(this);\n",
       "\n",
       "    var fig = this;\n",
       "\n",
       "    this.waiting = false;\n",
       "\n",
       "    this.ws.onopen =  function () {\n",
       "            fig.send_message(\"supports_binary\", {value: fig.supports_binary});\n",
       "            fig.send_message(\"send_image_mode\", {});\n",
       "            if (mpl.ratio != 1) {\n",
       "                fig.send_message(\"set_dpi_ratio\", {'dpi_ratio': mpl.ratio});\n",
       "            }\n",
       "            fig.send_message(\"refresh\", {});\n",
       "        }\n",
       "\n",
       "    this.imageObj.onload = function() {\n",
       "            if (fig.image_mode == 'full') {\n",
       "                // Full images could contain transparency (where diff images\n",
       "                // almost always do), so we need to clear the canvas so that\n",
       "                // there is no ghosting.\n",
       "                fig.context.clearRect(0, 0, fig.canvas.width, fig.canvas.height);\n",
       "            }\n",
       "            fig.context.drawImage(fig.imageObj, 0, 0);\n",
       "        };\n",
       "\n",
       "    this.imageObj.onunload = function() {\n",
       "        fig.ws.close();\n",
       "    }\n",
       "\n",
       "    this.ws.onmessage = this._make_on_message_function(this);\n",
       "\n",
       "    this.ondownload = ondownload;\n",
       "}\n",
       "\n",
       "mpl.figure.prototype._init_header = function() {\n",
       "    var titlebar = $(\n",
       "        '<div class=\"ui-dialog-titlebar ui-widget-header ui-corner-all ' +\n",
       "        'ui-helper-clearfix\"/>');\n",
       "    var titletext = $(\n",
       "        '<div class=\"ui-dialog-title\" style=\"width: 100%; ' +\n",
       "        'text-align: center; padding: 3px;\"/>');\n",
       "    titlebar.append(titletext)\n",
       "    this.root.append(titlebar);\n",
       "    this.header = titletext[0];\n",
       "}\n",
       "\n",
       "\n",
       "\n",
       "mpl.figure.prototype._canvas_extra_style = function(canvas_div) {\n",
       "\n",
       "}\n",
       "\n",
       "\n",
       "mpl.figure.prototype._root_extra_style = function(canvas_div) {\n",
       "\n",
       "}\n",
       "\n",
       "mpl.figure.prototype._init_canvas = function() {\n",
       "    var fig = this;\n",
       "\n",
       "    var canvas_div = $('<div/>');\n",
       "\n",
       "    canvas_div.attr('style', 'position: relative; clear: both; outline: 0');\n",
       "\n",
       "    function canvas_keyboard_event(event) {\n",
       "        return fig.key_event(event, event['data']);\n",
       "    }\n",
       "\n",
       "    canvas_div.keydown('key_press', canvas_keyboard_event);\n",
       "    canvas_div.keyup('key_release', canvas_keyboard_event);\n",
       "    this.canvas_div = canvas_div\n",
       "    this._canvas_extra_style(canvas_div)\n",
       "    this.root.append(canvas_div);\n",
       "\n",
       "    var canvas = $('<canvas/>');\n",
       "    canvas.addClass('mpl-canvas');\n",
       "    canvas.attr('style', \"left: 0; top: 0; z-index: 0; outline: 0\")\n",
       "\n",
       "    this.canvas = canvas[0];\n",
       "    this.context = canvas[0].getContext(\"2d\");\n",
       "\n",
       "    var backingStore = this.context.backingStorePixelRatio ||\n",
       "\tthis.context.webkitBackingStorePixelRatio ||\n",
       "\tthis.context.mozBackingStorePixelRatio ||\n",
       "\tthis.context.msBackingStorePixelRatio ||\n",
       "\tthis.context.oBackingStorePixelRatio ||\n",
       "\tthis.context.backingStorePixelRatio || 1;\n",
       "\n",
       "    mpl.ratio = (window.devicePixelRatio || 1) / backingStore;\n",
       "\n",
       "    var rubberband = $('<canvas/>');\n",
       "    rubberband.attr('style', \"position: absolute; left: 0; top: 0; z-index: 1;\")\n",
       "\n",
       "    var pass_mouse_events = true;\n",
       "\n",
       "    canvas_div.resizable({\n",
       "        start: function(event, ui) {\n",
       "            pass_mouse_events = false;\n",
       "        },\n",
       "        resize: function(event, ui) {\n",
       "            fig.request_resize(ui.size.width, ui.size.height);\n",
       "        },\n",
       "        stop: function(event, ui) {\n",
       "            pass_mouse_events = true;\n",
       "            fig.request_resize(ui.size.width, ui.size.height);\n",
       "        },\n",
       "    });\n",
       "\n",
       "    function mouse_event_fn(event) {\n",
       "        if (pass_mouse_events)\n",
       "            return fig.mouse_event(event, event['data']);\n",
       "    }\n",
       "\n",
       "    rubberband.mousedown('button_press', mouse_event_fn);\n",
       "    rubberband.mouseup('button_release', mouse_event_fn);\n",
       "    // Throttle sequential mouse events to 1 every 20ms.\n",
       "    rubberband.mousemove('motion_notify', mouse_event_fn);\n",
       "\n",
       "    rubberband.mouseenter('figure_enter', mouse_event_fn);\n",
       "    rubberband.mouseleave('figure_leave', mouse_event_fn);\n",
       "\n",
       "    canvas_div.on(\"wheel\", function (event) {\n",
       "        event = event.originalEvent;\n",
       "        event['data'] = 'scroll'\n",
       "        if (event.deltaY < 0) {\n",
       "            event.step = 1;\n",
       "        } else {\n",
       "            event.step = -1;\n",
       "        }\n",
       "        mouse_event_fn(event);\n",
       "    });\n",
       "\n",
       "    canvas_div.append(canvas);\n",
       "    canvas_div.append(rubberband);\n",
       "\n",
       "    this.rubberband = rubberband;\n",
       "    this.rubberband_canvas = rubberband[0];\n",
       "    this.rubberband_context = rubberband[0].getContext(\"2d\");\n",
       "    this.rubberband_context.strokeStyle = \"#000000\";\n",
       "\n",
       "    this._resize_canvas = function(width, height) {\n",
       "        // Keep the size of the canvas, canvas container, and rubber band\n",
       "        // canvas in synch.\n",
       "        canvas_div.css('width', width)\n",
       "        canvas_div.css('height', height)\n",
       "\n",
       "        canvas.attr('width', width * mpl.ratio);\n",
       "        canvas.attr('height', height * mpl.ratio);\n",
       "        canvas.attr('style', 'width: ' + width + 'px; height: ' + height + 'px;');\n",
       "\n",
       "        rubberband.attr('width', width);\n",
       "        rubberband.attr('height', height);\n",
       "    }\n",
       "\n",
       "    // Set the figure to an initial 600x600px, this will subsequently be updated\n",
       "    // upon first draw.\n",
       "    this._resize_canvas(600, 600);\n",
       "\n",
       "    // Disable right mouse context menu.\n",
       "    $(this.rubberband_canvas).bind(\"contextmenu\",function(e){\n",
       "        return false;\n",
       "    });\n",
       "\n",
       "    function set_focus () {\n",
       "        canvas.focus();\n",
       "        canvas_div.focus();\n",
       "    }\n",
       "\n",
       "    window.setTimeout(set_focus, 100);\n",
       "}\n",
       "\n",
       "mpl.figure.prototype._init_toolbar = function() {\n",
       "    var fig = this;\n",
       "\n",
       "    var nav_element = $('<div/>')\n",
       "    nav_element.attr('style', 'width: 100%');\n",
       "    this.root.append(nav_element);\n",
       "\n",
       "    // Define a callback function for later on.\n",
       "    function toolbar_event(event) {\n",
       "        return fig.toolbar_button_onclick(event['data']);\n",
       "    }\n",
       "    function toolbar_mouse_event(event) {\n",
       "        return fig.toolbar_button_onmouseover(event['data']);\n",
       "    }\n",
       "\n",
       "    for(var toolbar_ind in mpl.toolbar_items) {\n",
       "        var name = mpl.toolbar_items[toolbar_ind][0];\n",
       "        var tooltip = mpl.toolbar_items[toolbar_ind][1];\n",
       "        var image = mpl.toolbar_items[toolbar_ind][2];\n",
       "        var method_name = mpl.toolbar_items[toolbar_ind][3];\n",
       "\n",
       "        if (!name) {\n",
       "            // put a spacer in here.\n",
       "            continue;\n",
       "        }\n",
       "        var button = $('<button/>');\n",
       "        button.addClass('ui-button ui-widget ui-state-default ui-corner-all ' +\n",
       "                        'ui-button-icon-only');\n",
       "        button.attr('role', 'button');\n",
       "        button.attr('aria-disabled', 'false');\n",
       "        button.click(method_name, toolbar_event);\n",
       "        button.mouseover(tooltip, toolbar_mouse_event);\n",
       "\n",
       "        var icon_img = $('<span/>');\n",
       "        icon_img.addClass('ui-button-icon-primary ui-icon');\n",
       "        icon_img.addClass(image);\n",
       "        icon_img.addClass('ui-corner-all');\n",
       "\n",
       "        var tooltip_span = $('<span/>');\n",
       "        tooltip_span.addClass('ui-button-text');\n",
       "        tooltip_span.html(tooltip);\n",
       "\n",
       "        button.append(icon_img);\n",
       "        button.append(tooltip_span);\n",
       "\n",
       "        nav_element.append(button);\n",
       "    }\n",
       "\n",
       "    var fmt_picker_span = $('<span/>');\n",
       "\n",
       "    var fmt_picker = $('<select/>');\n",
       "    fmt_picker.addClass('mpl-toolbar-option ui-widget ui-widget-content');\n",
       "    fmt_picker_span.append(fmt_picker);\n",
       "    nav_element.append(fmt_picker_span);\n",
       "    this.format_dropdown = fmt_picker[0];\n",
       "\n",
       "    for (var ind in mpl.extensions) {\n",
       "        var fmt = mpl.extensions[ind];\n",
       "        var option = $(\n",
       "            '<option/>', {selected: fmt === mpl.default_extension}).html(fmt);\n",
       "        fmt_picker.append(option)\n",
       "    }\n",
       "\n",
       "    // Add hover states to the ui-buttons\n",
       "    $( \".ui-button\" ).hover(\n",
       "        function() { $(this).addClass(\"ui-state-hover\");},\n",
       "        function() { $(this).removeClass(\"ui-state-hover\");}\n",
       "    );\n",
       "\n",
       "    var status_bar = $('<span class=\"mpl-message\"/>');\n",
       "    nav_element.append(status_bar);\n",
       "    this.message = status_bar[0];\n",
       "}\n",
       "\n",
       "mpl.figure.prototype.request_resize = function(x_pixels, y_pixels) {\n",
       "    // Request matplotlib to resize the figure. Matplotlib will then trigger a resize in the client,\n",
       "    // which will in turn request a refresh of the image.\n",
       "    this.send_message('resize', {'width': x_pixels, 'height': y_pixels});\n",
       "}\n",
       "\n",
       "mpl.figure.prototype.send_message = function(type, properties) {\n",
       "    properties['type'] = type;\n",
       "    properties['figure_id'] = this.id;\n",
       "    this.ws.send(JSON.stringify(properties));\n",
       "}\n",
       "\n",
       "mpl.figure.prototype.send_draw_message = function() {\n",
       "    if (!this.waiting) {\n",
       "        this.waiting = true;\n",
       "        this.ws.send(JSON.stringify({type: \"draw\", figure_id: this.id}));\n",
       "    }\n",
       "}\n",
       "\n",
       "\n",
       "mpl.figure.prototype.handle_save = function(fig, msg) {\n",
       "    var format_dropdown = fig.format_dropdown;\n",
       "    var format = format_dropdown.options[format_dropdown.selectedIndex].value;\n",
       "    fig.ondownload(fig, format);\n",
       "}\n",
       "\n",
       "\n",
       "mpl.figure.prototype.handle_resize = function(fig, msg) {\n",
       "    var size = msg['size'];\n",
       "    if (size[0] != fig.canvas.width || size[1] != fig.canvas.height) {\n",
       "        fig._resize_canvas(size[0], size[1]);\n",
       "        fig.send_message(\"refresh\", {});\n",
       "    };\n",
       "}\n",
       "\n",
       "mpl.figure.prototype.handle_rubberband = function(fig, msg) {\n",
       "    var x0 = msg['x0'] / mpl.ratio;\n",
       "    var y0 = (fig.canvas.height - msg['y0']) / mpl.ratio;\n",
       "    var x1 = msg['x1'] / mpl.ratio;\n",
       "    var y1 = (fig.canvas.height - msg['y1']) / mpl.ratio;\n",
       "    x0 = Math.floor(x0) + 0.5;\n",
       "    y0 = Math.floor(y0) + 0.5;\n",
       "    x1 = Math.floor(x1) + 0.5;\n",
       "    y1 = Math.floor(y1) + 0.5;\n",
       "    var min_x = Math.min(x0, x1);\n",
       "    var min_y = Math.min(y0, y1);\n",
       "    var width = Math.abs(x1 - x0);\n",
       "    var height = Math.abs(y1 - y0);\n",
       "\n",
       "    fig.rubberband_context.clearRect(\n",
       "        0, 0, fig.canvas.width, fig.canvas.height);\n",
       "\n",
       "    fig.rubberband_context.strokeRect(min_x, min_y, width, height);\n",
       "}\n",
       "\n",
       "mpl.figure.prototype.handle_figure_label = function(fig, msg) {\n",
       "    // Updates the figure title.\n",
       "    fig.header.textContent = msg['label'];\n",
       "}\n",
       "\n",
       "mpl.figure.prototype.handle_cursor = function(fig, msg) {\n",
       "    var cursor = msg['cursor'];\n",
       "    switch(cursor)\n",
       "    {\n",
       "    case 0:\n",
       "        cursor = 'pointer';\n",
       "        break;\n",
       "    case 1:\n",
       "        cursor = 'default';\n",
       "        break;\n",
       "    case 2:\n",
       "        cursor = 'crosshair';\n",
       "        break;\n",
       "    case 3:\n",
       "        cursor = 'move';\n",
       "        break;\n",
       "    }\n",
       "    fig.rubberband_canvas.style.cursor = cursor;\n",
       "}\n",
       "\n",
       "mpl.figure.prototype.handle_message = function(fig, msg) {\n",
       "    fig.message.textContent = msg['message'];\n",
       "}\n",
       "\n",
       "mpl.figure.prototype.handle_draw = function(fig, msg) {\n",
       "    // Request the server to send over a new figure.\n",
       "    fig.send_draw_message();\n",
       "}\n",
       "\n",
       "mpl.figure.prototype.handle_image_mode = function(fig, msg) {\n",
       "    fig.image_mode = msg['mode'];\n",
       "}\n",
       "\n",
       "mpl.figure.prototype.updated_canvas_event = function() {\n",
       "    // Called whenever the canvas gets updated.\n",
       "    this.send_message(\"ack\", {});\n",
       "}\n",
       "\n",
       "// A function to construct a web socket function for onmessage handling.\n",
       "// Called in the figure constructor.\n",
       "mpl.figure.prototype._make_on_message_function = function(fig) {\n",
       "    return function socket_on_message(evt) {\n",
       "        if (evt.data instanceof Blob) {\n",
       "            /* FIXME: We get \"Resource interpreted as Image but\n",
       "             * transferred with MIME type text/plain:\" errors on\n",
       "             * Chrome.  But how to set the MIME type?  It doesn't seem\n",
       "             * to be part of the websocket stream */\n",
       "            evt.data.type = \"image/png\";\n",
       "\n",
       "            /* Free the memory for the previous frames */\n",
       "            if (fig.imageObj.src) {\n",
       "                (window.URL || window.webkitURL).revokeObjectURL(\n",
       "                    fig.imageObj.src);\n",
       "            }\n",
       "\n",
       "            fig.imageObj.src = (window.URL || window.webkitURL).createObjectURL(\n",
       "                evt.data);\n",
       "            fig.updated_canvas_event();\n",
       "            fig.waiting = false;\n",
       "            return;\n",
       "        }\n",
       "        else if (typeof evt.data === 'string' && evt.data.slice(0, 21) == \"data:image/png;base64\") {\n",
       "            fig.imageObj.src = evt.data;\n",
       "            fig.updated_canvas_event();\n",
       "            fig.waiting = false;\n",
       "            return;\n",
       "        }\n",
       "\n",
       "        var msg = JSON.parse(evt.data);\n",
       "        var msg_type = msg['type'];\n",
       "\n",
       "        // Call the  \"handle_{type}\" callback, which takes\n",
       "        // the figure and JSON message as its only arguments.\n",
       "        try {\n",
       "            var callback = fig[\"handle_\" + msg_type];\n",
       "        } catch (e) {\n",
       "            console.log(\"No handler for the '\" + msg_type + \"' message type: \", msg);\n",
       "            return;\n",
       "        }\n",
       "\n",
       "        if (callback) {\n",
       "            try {\n",
       "                // console.log(\"Handling '\" + msg_type + \"' message: \", msg);\n",
       "                callback(fig, msg);\n",
       "            } catch (e) {\n",
       "                console.log(\"Exception inside the 'handler_\" + msg_type + \"' callback:\", e, e.stack, msg);\n",
       "            }\n",
       "        }\n",
       "    };\n",
       "}\n",
       "\n",
       "// from http://stackoverflow.com/questions/1114465/getting-mouse-location-in-canvas\n",
       "mpl.findpos = function(e) {\n",
       "    //this section is from http://www.quirksmode.org/js/events_properties.html\n",
       "    var targ;\n",
       "    if (!e)\n",
       "        e = window.event;\n",
       "    if (e.target)\n",
       "        targ = e.target;\n",
       "    else if (e.srcElement)\n",
       "        targ = e.srcElement;\n",
       "    if (targ.nodeType == 3) // defeat Safari bug\n",
       "        targ = targ.parentNode;\n",
       "\n",
       "    // jQuery normalizes the pageX and pageY\n",
       "    // pageX,Y are the mouse positions relative to the document\n",
       "    // offset() returns the position of the element relative to the document\n",
       "    var x = e.pageX - $(targ).offset().left;\n",
       "    var y = e.pageY - $(targ).offset().top;\n",
       "\n",
       "    return {\"x\": x, \"y\": y};\n",
       "};\n",
       "\n",
       "/*\n",
       " * return a copy of an object with only non-object keys\n",
       " * we need this to avoid circular references\n",
       " * http://stackoverflow.com/a/24161582/3208463\n",
       " */\n",
       "function simpleKeys (original) {\n",
       "  return Object.keys(original).reduce(function (obj, key) {\n",
       "    if (typeof original[key] !== 'object')\n",
       "        obj[key] = original[key]\n",
       "    return obj;\n",
       "  }, {});\n",
       "}\n",
       "\n",
       "mpl.figure.prototype.mouse_event = function(event, name) {\n",
       "    var canvas_pos = mpl.findpos(event)\n",
       "\n",
       "    if (name === 'button_press')\n",
       "    {\n",
       "        this.canvas.focus();\n",
       "        this.canvas_div.focus();\n",
       "    }\n",
       "\n",
       "    var x = canvas_pos.x * mpl.ratio;\n",
       "    var y = canvas_pos.y * mpl.ratio;\n",
       "\n",
       "    this.send_message(name, {x: x, y: y, button: event.button,\n",
       "                             step: event.step,\n",
       "                             guiEvent: simpleKeys(event)});\n",
       "\n",
       "    /* This prevents the web browser from automatically changing to\n",
       "     * the text insertion cursor when the button is pressed.  We want\n",
       "     * to control all of the cursor setting manually through the\n",
       "     * 'cursor' event from matplotlib */\n",
       "    event.preventDefault();\n",
       "    return false;\n",
       "}\n",
       "\n",
       "mpl.figure.prototype._key_event_extra = function(event, name) {\n",
       "    // Handle any extra behaviour associated with a key event\n",
       "}\n",
       "\n",
       "mpl.figure.prototype.key_event = function(event, name) {\n",
       "\n",
       "    // Prevent repeat events\n",
       "    if (name == 'key_press')\n",
       "    {\n",
       "        if (event.which === this._key)\n",
       "            return;\n",
       "        else\n",
       "            this._key = event.which;\n",
       "    }\n",
       "    if (name == 'key_release')\n",
       "        this._key = null;\n",
       "\n",
       "    var value = '';\n",
       "    if (event.ctrlKey && event.which != 17)\n",
       "        value += \"ctrl+\";\n",
       "    if (event.altKey && event.which != 18)\n",
       "        value += \"alt+\";\n",
       "    if (event.shiftKey && event.which != 16)\n",
       "        value += \"shift+\";\n",
       "\n",
       "    value += 'k';\n",
       "    value += event.which.toString();\n",
       "\n",
       "    this._key_event_extra(event, name);\n",
       "\n",
       "    this.send_message(name, {key: value,\n",
       "                             guiEvent: simpleKeys(event)});\n",
       "    return false;\n",
       "}\n",
       "\n",
       "mpl.figure.prototype.toolbar_button_onclick = function(name) {\n",
       "    if (name == 'download') {\n",
       "        this.handle_save(this, null);\n",
       "    } else {\n",
       "        this.send_message(\"toolbar_button\", {name: name});\n",
       "    }\n",
       "};\n",
       "\n",
       "mpl.figure.prototype.toolbar_button_onmouseover = function(tooltip) {\n",
       "    this.message.textContent = tooltip;\n",
       "};\n",
       "mpl.toolbar_items = [[\"Home\", \"Reset original view\", \"fa fa-home icon-home\", \"home\"], [\"Back\", \"Back to  previous view\", \"fa fa-arrow-left icon-arrow-left\", \"back\"], [\"Forward\", \"Forward to next view\", \"fa fa-arrow-right icon-arrow-right\", \"forward\"], [\"\", \"\", \"\", \"\"], [\"Pan\", \"Pan axes with left mouse, zoom with right\", \"fa fa-arrows icon-move\", \"pan\"], [\"Zoom\", \"Zoom to rectangle\", \"fa fa-square-o icon-check-empty\", \"zoom\"], [\"\", \"\", \"\", \"\"], [\"Download\", \"Download plot\", \"fa fa-floppy-o icon-save\", \"download\"]];\n",
       "\n",
       "mpl.extensions = [\"eps\", \"jpeg\", \"pdf\", \"png\", \"ps\", \"raw\", \"svg\", \"tif\"];\n",
       "\n",
       "mpl.default_extension = \"png\";var comm_websocket_adapter = function(comm) {\n",
       "    // Create a \"websocket\"-like object which calls the given IPython comm\n",
       "    // object with the appropriate methods. Currently this is a non binary\n",
       "    // socket, so there is still some room for performance tuning.\n",
       "    var ws = {};\n",
       "\n",
       "    ws.close = function() {\n",
       "        comm.close()\n",
       "    };\n",
       "    ws.send = function(m) {\n",
       "        //console.log('sending', m);\n",
       "        comm.send(m);\n",
       "    };\n",
       "    // Register the callback with on_msg.\n",
       "    comm.on_msg(function(msg) {\n",
       "        //console.log('receiving', msg['content']['data'], msg);\n",
       "        // Pass the mpl event to the overriden (by mpl) onmessage function.\n",
       "        ws.onmessage(msg['content']['data'])\n",
       "    });\n",
       "    return ws;\n",
       "}\n",
       "\n",
       "mpl.mpl_figure_comm = function(comm, msg) {\n",
       "    // This is the function which gets called when the mpl process\n",
       "    // starts-up an IPython Comm through the \"matplotlib\" channel.\n",
       "\n",
       "    var id = msg.content.data.id;\n",
       "    // Get hold of the div created by the display call when the Comm\n",
       "    // socket was opened in Python.\n",
       "    var element = $(\"#\" + id);\n",
       "    var ws_proxy = comm_websocket_adapter(comm)\n",
       "\n",
       "    function ondownload(figure, format) {\n",
       "        window.open(figure.imageObj.src);\n",
       "    }\n",
       "\n",
       "    var fig = new mpl.figure(id, ws_proxy,\n",
       "                           ondownload,\n",
       "                           element.get(0));\n",
       "\n",
       "    // Call onopen now - mpl needs it, as it is assuming we've passed it a real\n",
       "    // web socket which is closed, not our websocket->open comm proxy.\n",
       "    ws_proxy.onopen();\n",
       "\n",
       "    fig.parent_element = element.get(0);\n",
       "    fig.cell_info = mpl.find_output_cell(\"<div id='\" + id + \"'></div>\");\n",
       "    if (!fig.cell_info) {\n",
       "        console.error(\"Failed to find cell for figure\", id, fig);\n",
       "        return;\n",
       "    }\n",
       "\n",
       "    var output_index = fig.cell_info[2]\n",
       "    var cell = fig.cell_info[0];\n",
       "\n",
       "};\n",
       "\n",
       "mpl.figure.prototype.handle_close = function(fig, msg) {\n",
       "    var width = fig.canvas.width/mpl.ratio\n",
       "    fig.root.unbind('remove')\n",
       "\n",
       "    // Update the output cell to use the data from the current canvas.\n",
       "    fig.push_to_output();\n",
       "    var dataURL = fig.canvas.toDataURL();\n",
       "    // Re-enable the keyboard manager in IPython - without this line, in FF,\n",
       "    // the notebook keyboard shortcuts fail.\n",
       "    IPython.keyboard_manager.enable()\n",
       "    $(fig.parent_element).html('<img src=\"' + dataURL + '\" width=\"' + width + '\">');\n",
       "    fig.close_ws(fig, msg);\n",
       "}\n",
       "\n",
       "mpl.figure.prototype.close_ws = function(fig, msg){\n",
       "    fig.send_message('closing', msg);\n",
       "    // fig.ws.close()\n",
       "}\n",
       "\n",
       "mpl.figure.prototype.push_to_output = function(remove_interactive) {\n",
       "    // Turn the data on the canvas into data in the output cell.\n",
       "    var width = this.canvas.width/mpl.ratio\n",
       "    var dataURL = this.canvas.toDataURL();\n",
       "    this.cell_info[1]['text/html'] = '<img src=\"' + dataURL + '\" width=\"' + width + '\">';\n",
       "}\n",
       "\n",
       "mpl.figure.prototype.updated_canvas_event = function() {\n",
       "    // Tell IPython that the notebook contents must change.\n",
       "    IPython.notebook.set_dirty(true);\n",
       "    this.send_message(\"ack\", {});\n",
       "    var fig = this;\n",
       "    // Wait a second, then push the new image to the DOM so\n",
       "    // that it is saved nicely (might be nice to debounce this).\n",
       "    setTimeout(function () { fig.push_to_output() }, 1000);\n",
       "}\n",
       "\n",
       "mpl.figure.prototype._init_toolbar = function() {\n",
       "    var fig = this;\n",
       "\n",
       "    var nav_element = $('<div/>')\n",
       "    nav_element.attr('style', 'width: 100%');\n",
       "    this.root.append(nav_element);\n",
       "\n",
       "    // Define a callback function for later on.\n",
       "    function toolbar_event(event) {\n",
       "        return fig.toolbar_button_onclick(event['data']);\n",
       "    }\n",
       "    function toolbar_mouse_event(event) {\n",
       "        return fig.toolbar_button_onmouseover(event['data']);\n",
       "    }\n",
       "\n",
       "    for(var toolbar_ind in mpl.toolbar_items){\n",
       "        var name = mpl.toolbar_items[toolbar_ind][0];\n",
       "        var tooltip = mpl.toolbar_items[toolbar_ind][1];\n",
       "        var image = mpl.toolbar_items[toolbar_ind][2];\n",
       "        var method_name = mpl.toolbar_items[toolbar_ind][3];\n",
       "\n",
       "        if (!name) { continue; };\n",
       "\n",
       "        var button = $('<button class=\"btn btn-default\" href=\"#\" title=\"' + name + '\"><i class=\"fa ' + image + ' fa-lg\"></i></button>');\n",
       "        button.click(method_name, toolbar_event);\n",
       "        button.mouseover(tooltip, toolbar_mouse_event);\n",
       "        nav_element.append(button);\n",
       "    }\n",
       "\n",
       "    // Add the status bar.\n",
       "    var status_bar = $('<span class=\"mpl-message\" style=\"text-align:right; float: right;\"/>');\n",
       "    nav_element.append(status_bar);\n",
       "    this.message = status_bar[0];\n",
       "\n",
       "    // Add the close button to the window.\n",
       "    var buttongrp = $('<div class=\"btn-group inline pull-right\"></div>');\n",
       "    var button = $('<button class=\"btn btn-mini btn-primary\" href=\"#\" title=\"Stop Interaction\"><i class=\"fa fa-power-off icon-remove icon-large\"></i></button>');\n",
       "    button.click(function (evt) { fig.handle_close(fig, {}); } );\n",
       "    button.mouseover('Stop Interaction', toolbar_mouse_event);\n",
       "    buttongrp.append(button);\n",
       "    var titlebar = this.root.find($('.ui-dialog-titlebar'));\n",
       "    titlebar.prepend(buttongrp);\n",
       "}\n",
       "\n",
       "mpl.figure.prototype._root_extra_style = function(el){\n",
       "    var fig = this\n",
       "    el.on(\"remove\", function(){\n",
       "\tfig.close_ws(fig, {});\n",
       "    });\n",
       "}\n",
       "\n",
       "mpl.figure.prototype._canvas_extra_style = function(el){\n",
       "    // this is important to make the div 'focusable\n",
       "    el.attr('tabindex', 0)\n",
       "    // reach out to IPython and tell the keyboard manager to turn it's self\n",
       "    // off when our div gets focus\n",
       "\n",
       "    // location in version 3\n",
       "    if (IPython.notebook.keyboard_manager) {\n",
       "        IPython.notebook.keyboard_manager.register_events(el);\n",
       "    }\n",
       "    else {\n",
       "        // location in version 2\n",
       "        IPython.keyboard_manager.register_events(el);\n",
       "    }\n",
       "\n",
       "}\n",
       "\n",
       "mpl.figure.prototype._key_event_extra = function(event, name) {\n",
       "    var manager = IPython.notebook.keyboard_manager;\n",
       "    if (!manager)\n",
       "        manager = IPython.keyboard_manager;\n",
       "\n",
       "    // Check for shift+enter\n",
       "    if (event.shiftKey && event.which == 13) {\n",
       "        this.canvas_div.blur();\n",
       "        event.shiftKey = false;\n",
       "        // Send a \"J\" for go to next cell\n",
       "        event.which = 74;\n",
       "        event.keyCode = 74;\n",
       "        manager.command_mode();\n",
       "        manager.handle_keydown(event);\n",
       "    }\n",
       "}\n",
       "\n",
       "mpl.figure.prototype.handle_save = function(fig, msg) {\n",
       "    fig.ondownload(fig, null);\n",
       "}\n",
       "\n",
       "\n",
       "mpl.find_output_cell = function(html_output) {\n",
       "    // Return the cell and output element which can be found *uniquely* in the notebook.\n",
       "    // Note - this is a bit hacky, but it is done because the \"notebook_saving.Notebook\"\n",
       "    // IPython event is triggered only after the cells have been serialised, which for\n",
       "    // our purposes (turning an active figure into a static one), is too late.\n",
       "    var cells = IPython.notebook.get_cells();\n",
       "    var ncells = cells.length;\n",
       "    for (var i=0; i<ncells; i++) {\n",
       "        var cell = cells[i];\n",
       "        if (cell.cell_type === 'code'){\n",
       "            for (var j=0; j<cell.output_area.outputs.length; j++) {\n",
       "                var data = cell.output_area.outputs[j];\n",
       "                if (data.data) {\n",
       "                    // IPython >= 3 moved mimebundle to data attribute of output\n",
       "                    data = data.data;\n",
       "                }\n",
       "                if (data['text/html'] == html_output) {\n",
       "                    return [cell, data, j];\n",
       "                }\n",
       "            }\n",
       "        }\n",
       "    }\n",
       "}\n",
       "\n",
       "// Register the function which deals with the matplotlib target/channel.\n",
       "// The kernel may be null if the page has been refreshed.\n",
       "if (IPython.notebook.kernel != null) {\n",
       "    IPython.notebook.kernel.comm_manager.register_target('matplotlib', mpl.mpl_figure_comm);\n",
       "}\n"
      ],
      "text/plain": [
       "<IPython.core.display.Javascript object>"
      ]
     },
     "metadata": {},
     "output_type": "display_data"
    },
    {
     "data": {
      "text/html": [
       "<img src=\"data:image/png;base64,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\" width=\"432\">"
      ],
      "text/plain": [
       "<IPython.core.display.HTML object>"
      ]
     },
     "metadata": {},
     "output_type": "display_data"
    }
   ],
   "source": [
    "plt.figure()\n",
    "plt.hist(np.log10(halocat.halo_table[downsampled_idxs_array]['halo_mvir']), bins = 100);\n",
    "plt.vlines(np.log10(200*halocat.particle_mass), 0, 5e3)\n",
    "plt.yscale('log')"
   ]
  },
  {
   "cell_type": "code",
   "execution_count": 47,
   "metadata": {},
   "outputs": [
    {
     "name": "stdout",
     "output_type": "stream",
     "text": [
      "5.914214e+08\n"
     ]
    }
   ],
   "source": [
    "print '%e'%halocat.particle_mass"
   ]
  },
  {
   "cell_type": "code",
   "execution_count": 139,
   "metadata": {},
   "outputs": [
    {
     "data": {
      "text/plain": [
       "400.0"
      ]
     },
     "execution_count": 139,
     "metadata": {},
     "output_type": "execute_result"
    }
   ],
   "source": [
    "halocat.Lbox[0]"
   ]
  },
  {
   "cell_type": "code",
   "execution_count": null,
   "metadata": {},
   "outputs": [],
   "source": []
  }
 ],
 "metadata": {
  "kernelspec": {
   "display_name": "Python 3",
   "language": "python",
   "name": "python3"
  },
  "language_info": {
   "codemirror_mode": {
    "name": "ipython",
    "version": 3
   },
   "file_extension": ".py",
   "mimetype": "text/x-python",
   "name": "python",
   "nbconvert_exporter": "python",
   "pygments_lexer": "ipython3",
   "version": "3.6.4"
  }
 },
 "nbformat": 4,
 "nbformat_minor": 1
}
