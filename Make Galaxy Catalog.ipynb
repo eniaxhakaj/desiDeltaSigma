{
 "cells": [
  {
   "cell_type": "code",
   "execution_count": 1,
   "metadata": {
    "collapsed": true
   },
   "outputs": [],
   "source": [
    "import numpy as np\n",
    "from halotools.sim_manager import DownloadManager, CachedHaloCatalog\n",
    "#from halotools.empirical_models.abunmatch import conditional_abunmatch\n",
    "from AbundanceMatching import *"
   ]
  },
  {
   "cell_type": "markdown",
   "metadata": {},
   "source": [
    "Following the instructions shown in [this webpage](https://halotools.readthedocs.io/en/latest/quickstart_and_tutorials/quickstart_guides/working_with_halotools_provided_catalogs.html)\n",
    "to download and load a preloaded halotools catalog. Then I'll use [Yao's code](https://bitbucket.org/yymao/abundancematching) to do the abundance matching."
   ]
  },
  {
   "cell_type": "code",
   "execution_count": 4,
   "metadata": {},
   "outputs": [
    {
     "name": "stderr",
     "output_type": "stream",
     "text": [
      "/Users/kipac-slac-loaner/anaconda/lib/python3.6/site-packages/bs4/__init__.py:181: UserWarning: No parser was explicitly specified, so I'm using the best available HTML parser for this system (\"lxml\"). This usually isn't a problem, but if you run this code on another system, or in a different virtual environment, it may use a different parser and behave differently.\n",
      "\n",
      "The code that caused this warning is on line 193 of the file /Users/kipac-slac-loaner/anaconda/lib/python3.6/runpy.py. To get rid of this warning, change code that looks like this:\n",
      "\n",
      " BeautifulSoup(YOUR_MARKUP})\n",
      "\n",
      "to this:\n",
      "\n",
      " BeautifulSoup(YOUR_MARKUP, \"lxml\")\n",
      "\n",
      "  markup_type=markup_type))\n"
     ]
    },
    {
     "name": "stdout",
     "output_type": "stream",
     "text": [
      "\n",
      "... Downloading data from the following location: \n",
      "http://www.astro.yale.edu/aphearin/Data_files/halo_catalogs/bolshoi/rockstar/hlist_1.00035.list.halotools_v0p4.hdf5\n",
      "\n",
      " ... Saving the data with the following filename: \n",
      "/Users/kipac-slac-loaner/.astropy/cache/halotools/halo_catalogs/bolshoi/rockstar/hlist_1.00035.list.halotools_v0p4.hdf5\n",
      "\n",
      "5% complete, elapsed time = 4 seconds\n",
      "10% complete, elapsed time = 9 seconds\n",
      "15% complete, elapsed time = 11 seconds\n",
      "20% complete, elapsed time = 14 seconds\n",
      "25% complete, elapsed time = 15 seconds\n",
      "30% complete, elapsed time = 17 seconds\n",
      "35% complete, elapsed time = 20 seconds\n",
      "40% complete, elapsed time = 24 seconds\n",
      "45% complete, elapsed time = 25 seconds\n",
      "50% complete, elapsed time = 34 seconds\n",
      "55% complete, elapsed time = 41 seconds\n",
      "60% complete, elapsed time = 44 seconds\n",
      "65% complete, elapsed time = 47 seconds\n",
      "70% complete, elapsed time = 50 seconds\n",
      "75% complete, elapsed time = 52 seconds\n",
      "80% complete, elapsed time = 54 seconds\n",
      "85% complete, elapsed time = 61 seconds\n",
      "90% complete, elapsed time = 67 seconds\n",
      "95% complete, elapsed time = 70 seconds\n",
      "\n",
      "Total runtime to download pre-processed halo catalog = 73.2 seconds\n",
      "\n",
      "\n",
      "The halo catalog has been successfully downloaded to the following location:\n",
      "/Users/kipac-slac-loaner/.astropy/cache/halotools/halo_catalogs/bolshoi/rockstar/hlist_1.00035.list.halotools_v0p4.hdf5\n",
      "\n",
      "This filename and its associated metadata have also been added to the Halotools cache log, \n",
      "as reflected by a newly added line to the following ASCII file:\n",
      "\n",
      "/Users/kipac-slac-loaner/.astropy/cache/halotools/halo_table_cache_log.txt\n",
      "\n",
      "Since the catalog will now be recognized in cache, \n",
      "you can load it into memory using the following syntax:\n",
      "\n",
      ">>> from halotools.sim_manager import CachedHaloCatalog \n",
      ">>> halocat = CachedHaloCatalog(simname = 'bolshoi', halo_finder = 'rockstar', version_name = 'halotools_v0p4', redshift = -0.0003) \n",
      "\n",
      "For convenience, you can set this catalog to be your default catalog \n",
      "and omit the CachedHaloCatalog constructor arguments.\n",
      "To do that, change the following variables in the \n",
      "halotools.sim_manager.sim_defaults module:\n",
      "``default_simname``, ``default_halo_finder``, ``default_version_name`` and ``default_redshift``.\n",
      "\n",
      "Tabular data storing the actual halos is bound to the ``halo_table`` \n",
      "attribute of ``halocat`` in the form of an Astropy Table:\n",
      "\n",
      ">>> halos = halocat.halo_table \n",
      "\n",
      "Halo properties are accessed in the same manner as a python dictionary or Numpy structured array:\n",
      "\n",
      ">>> mass_array = halos['halo_mvir'] \n",
      "\n",
      "The ``halocat`` object also contains additional metadata \n",
      "such as ``halocat.simname``, ``halocat.redshift`` and ``halocat.fname`` \n",
      "that you can use for sanity checks on your bookkeeping.\n",
      "\n",
      "Note that if you move this halo catalog into a new location on disk, \n",
      "you must update both the ``fname`` metadata of the hdf5 file \n",
      "as well as the``fname`` column of the corresponding entry in the log. \n",
      "You can accomplish this with the ``update_cached_file_location``method \n",
      "of the HaloTableCache class.\n",
      "\n",
      "\n",
      "\n",
      "... Downloading data from the following location: \n",
      "http://www.astro.yale.edu/aphearin/Data_files/particle_catalogs/bolshoi/hlist_1.00035.particles.halotools_v0p4.hdf5\n",
      "\n",
      " ... Saving the data with the following filename: \n",
      "/Users/kipac-slac-loaner/.astropy/cache/halotools/particle_catalogs/bolshoi/hlist_1.00035.particles.halotools_v0p4.hdf5\n",
      "\n"
     ]
    },
    {
     "name": "stderr",
     "output_type": "stream",
     "text": [
      "/Users/kipac-slac-loaner/anaconda/lib/python3.6/site-packages/halotools/sim_manager/download_manager.py:515: UserWarning: \n",
      "There already exists a particle catalog in your cache log with \n",
      "specifications that exactly match your inputs.\n",
      "Since you have set ``overwrite`` to True, \n",
      "the download will proceed and the existing file will be overwritten.\n",
      "\n",
      "  warn(msg)\n"
     ]
    },
    {
     "name": "stdout",
     "output_type": "stream",
     "text": [
      "5% complete, elapsed time = 2 seconds\n",
      "10% complete, elapsed time = 3 seconds\n",
      "15% complete, elapsed time = 4 seconds\n",
      "20% complete, elapsed time = 5 seconds\n",
      "25% complete, elapsed time = 6 seconds\n",
      "30% complete, elapsed time = 7 seconds\n",
      "35% complete, elapsed time = 7 seconds\n",
      "40% complete, elapsed time = 8 seconds\n",
      "45% complete, elapsed time = 9 seconds\n",
      "50% complete, elapsed time = 9 seconds\n",
      "55% complete, elapsed time = 10 seconds\n",
      "60% complete, elapsed time = 10 seconds\n",
      "65% complete, elapsed time = 11 seconds\n",
      "70% complete, elapsed time = 12 seconds\n",
      "75% complete, elapsed time = 12 seconds\n",
      "80% complete, elapsed time = 13 seconds\n",
      "85% complete, elapsed time = 13 seconds\n",
      "90% complete, elapsed time = 14 seconds\n",
      "95% complete, elapsed time = 14 seconds\n",
      "\n",
      "The particle catalog has been successfully downloaded to the following location:\n",
      "/Users/kipac-slac-loaner/.astropy/cache/halotools/particle_catalogs/bolshoi/hlist_1.00035.particles.halotools_v0p4.hdf5\n",
      "\n",
      "This filename and its associated metadata have also been added to the Halotools cache log, \n",
      "as reflected by a newly added line to the following ASCII file:\n",
      "\n",
      "/Users/kipac-slac-loaner/.astropy/cache/halotools/ptcl_table_cache_log.txt\n",
      "\n",
      "You can access the particle data with the following syntax:\n",
      "\n",
      ">>> from halotools.sim_manager import CachedHaloCatalog \n",
      ">>> halocat = CachedHaloCatalog(simname = 'bolshoi', version_name = 'halotools_v0p4', redshift = -0.0003)\n",
      ">>> particles = halocat.ptcl_table \n",
      "\n",
      "Mock observable functions such as the galaxy-galaxy lensing signal \n",
      "can now be computed for mock galaxies populated into this simulation.\n",
      "\n",
      "Note that if you move this particle catalog into a new location on disk, \n",
      "you must update both the ``fname`` metadata of the hdf5 file \n",
      "as well as the``fname`` column of the corresponding entry in the log. \n",
      "You can accomplish this with the ``update_cached_file_location``method \n",
      "of the PtclTableCache class.\n",
      "\n",
      "\n"
     ]
    },
    {
     "name": "stderr",
     "output_type": "stream",
     "text": [
      "/Users/kipac-slac-loaner/anaconda/lib/python3.6/site-packages/halotools/sim_manager/ptcl_table_cache.py:164: UserWarning: The cache log already contains the entry\n",
      "  warn(\"The cache log already contains the entry\")\n"
     ]
    }
   ],
   "source": [
    "dman = DownloadManager()\n",
    "dman.download_processed_halo_table('bolshoi', 'rockstar', 0.0, overwrite = True, ignore_nearby_redshifts=True)\n",
    "dman.download_ptcl_table('bolshoi', 0.0, overwrite = True)"
   ]
  },
  {
   "cell_type": "code",
   "execution_count": 3,
   "metadata": {},
   "outputs": [
    {
     "ename": "HalotoolsError",
     "evalue": "\nThe Halotools cache log is empty.\nIf you have never used Halotools before, you should read the Getting Started guide on halotools.readthedocs.io.\nIf you have previously used the package before, \ntry running the halotools/scripts/rebuild_halo_table_cache_log.py script.\n",
     "output_type": "error",
     "traceback": [
      "\u001b[0;31m---------------------------------------------------------------------------\u001b[0m",
      "\u001b[0;31mHalotoolsError\u001b[0m                            Traceback (most recent call last)",
      "\u001b[0;32m<ipython-input-3-275864853b62>\u001b[0m in \u001b[0;36m<module>\u001b[0;34m()\u001b[0m\n\u001b[0;32m----> 1\u001b[0;31m \u001b[0mhalocat\u001b[0m \u001b[0;34m=\u001b[0m \u001b[0mCachedHaloCatalog\u001b[0m\u001b[0;34m(\u001b[0m\u001b[0msimname\u001b[0m \u001b[0;34m=\u001b[0m \u001b[0;34m'bolshoi'\u001b[0m\u001b[0;34m,\u001b[0m\u001b[0mhalo_finder\u001b[0m\u001b[0;34m=\u001b[0m \u001b[0;34m'rockstar'\u001b[0m\u001b[0;34m,\u001b[0m \u001b[0mredshift\u001b[0m \u001b[0;34m=\u001b[0m \u001b[0;36m0.0\u001b[0m\u001b[0;34m)\u001b[0m\u001b[0;34m\u001b[0m\u001b[0m\n\u001b[0m",
      "\u001b[0;32m/Users/kipac-slac-loaner/anaconda/lib/python3.6/site-packages/halotools/sim_manager/cached_halo_catalog.py\u001b[0m in \u001b[0;36m__init__\u001b[0;34m(self, *args, **kwargs)\u001b[0m\n\u001b[1;32m    194\u001b[0m         \u001b[0mself\u001b[0m\u001b[0;34m.\u001b[0m\u001b[0m_disallow_catalogs_with_known_bugs\u001b[0m\u001b[0;34m(\u001b[0m\u001b[0;34m**\u001b[0m\u001b[0mkwargs\u001b[0m\u001b[0;34m)\u001b[0m\u001b[0;34m\u001b[0m\u001b[0m\n\u001b[1;32m    195\u001b[0m \u001b[0;34m\u001b[0m\u001b[0m\n\u001b[0;32m--> 196\u001b[0;31m         \u001b[0mself\u001b[0m\u001b[0;34m.\u001b[0m\u001b[0mlog_entry\u001b[0m \u001b[0;34m=\u001b[0m \u001b[0mself\u001b[0m\u001b[0;34m.\u001b[0m\u001b[0m_determine_cache_log_entry\u001b[0m\u001b[0;34m(\u001b[0m\u001b[0;34m**\u001b[0m\u001b[0mkwargs\u001b[0m\u001b[0;34m)\u001b[0m\u001b[0;34m\u001b[0m\u001b[0m\n\u001b[0m\u001b[1;32m    197\u001b[0m         \u001b[0mself\u001b[0m\u001b[0;34m.\u001b[0m\u001b[0msimname\u001b[0m \u001b[0;34m=\u001b[0m \u001b[0mself\u001b[0m\u001b[0;34m.\u001b[0m\u001b[0mlog_entry\u001b[0m\u001b[0;34m.\u001b[0m\u001b[0msimname\u001b[0m\u001b[0;34m\u001b[0m\u001b[0m\n\u001b[1;32m    198\u001b[0m         \u001b[0mself\u001b[0m\u001b[0;34m.\u001b[0m\u001b[0mhalo_finder\u001b[0m \u001b[0;34m=\u001b[0m \u001b[0mself\u001b[0m\u001b[0;34m.\u001b[0m\u001b[0mlog_entry\u001b[0m\u001b[0;34m.\u001b[0m\u001b[0mhalo_finder\u001b[0m\u001b[0;34m\u001b[0m\u001b[0m\n",
      "\u001b[0;32m/Users/kipac-slac-loaner/anaconda/lib/python3.6/site-packages/halotools/sim_manager/cached_halo_catalog.py\u001b[0m in \u001b[0;36m_determine_cache_log_entry\u001b[0;34m(self, **kwargs)\u001b[0m\n\u001b[1;32m    320\u001b[0m \u001b[0;34m\u001b[0m\u001b[0m\n\u001b[1;32m    321\u001b[0m             return self._retrieve_matching_log_entry_from_metadata(\n\u001b[0;32m--> 322\u001b[0;31m                 simname, halo_finder, version_name, redshift)\n\u001b[0m\u001b[1;32m    323\u001b[0m \u001b[0;34m\u001b[0m\u001b[0m\n\u001b[1;32m    324\u001b[0m     \u001b[0;32mdef\u001b[0m \u001b[0m_retrieve_matching_log_entry_from_fname\u001b[0m\u001b[0;34m(\u001b[0m\u001b[0mself\u001b[0m\u001b[0;34m,\u001b[0m \u001b[0mfname\u001b[0m\u001b[0;34m)\u001b[0m\u001b[0;34m:\u001b[0m\u001b[0;34m\u001b[0m\u001b[0m\n",
      "\u001b[0;32m/Users/kipac-slac-loaner/anaconda/lib/python3.6/site-packages/halotools/sim_manager/cached_halo_catalog.py\u001b[0m in \u001b[0;36m_retrieve_matching_log_entry_from_metadata\u001b[0;34m(self, simname, halo_finder, version_name, redshift)\u001b[0m\n\u001b[1;32m    444\u001b[0m                 \u001b[0;34m\"If you have previously used the package before, \\n\"\u001b[0m\u001b[0;34m\u001b[0m\u001b[0m\n\u001b[1;32m    445\u001b[0m                 \"try running the halotools/scripts/rebuild_halo_table_cache_log.py script.\\n\")\n\u001b[0;32m--> 446\u001b[0;31m             \u001b[0;32mraise\u001b[0m \u001b[0mHalotoolsError\u001b[0m\u001b[0;34m(\u001b[0m\u001b[0mmsg\u001b[0m\u001b[0;34m)\u001b[0m\u001b[0;34m\u001b[0m\u001b[0m\n\u001b[0m\u001b[1;32m    447\u001b[0m \u001b[0;34m\u001b[0m\u001b[0m\n\u001b[1;32m    448\u001b[0m         gen0 = self.halo_table_cache.matching_log_entry_generator(\n",
      "\u001b[0;31mHalotoolsError\u001b[0m: \nThe Halotools cache log is empty.\nIf you have never used Halotools before, you should read the Getting Started guide on halotools.readthedocs.io.\nIf you have previously used the package before, \ntry running the halotools/scripts/rebuild_halo_table_cache_log.py script.\n"
     ]
    }
   ],
   "source": [
    "halocat = CachedHaloCatalog(simname = 'bolshoi',halo_finder= 'rockstar', redshift = 0.0)"
   ]
  },
  {
   "cell_type": "code",
   "execution_count": null,
   "metadata": {
    "collapsed": true
   },
   "outputs": [],
   "source": [
    "halocat.halo_table.colnames"
   ]
  },
  {
   "cell_type": "markdown",
   "metadata": {},
   "source": [
    "Loading up a luminosity function. This one is from GAMA Survey, Loveday 2015 (got it from Joe). "
   ]
  },
  {
   "cell_type": "code",
   "execution_count": null,
   "metadata": {
    "collapsed": true
   },
   "outputs": [],
   "source": [
    "lf = np.genfromtxt('lf_r_sersic_r.dat', skip_header=True)[:,1:3]"
   ]
  },
  {
   "cell_type": "code",
   "execution_count": null,
   "metadata": {
    "collapsed": true
   },
   "outputs": [],
   "source": [
    "af = AbundanceFunction(lf[:,0], lf[:,1], (-27, -5))"
   ]
  },
  {
   "cell_type": "code",
   "execution_count": null,
   "metadata": {
    "collapsed": true
   },
   "outputs": [],
   "source": [
    "scatter = 0.2\n",
    "remainder = af.deconvolute(scatter*LF_SCATTER_MULT, 20)"
   ]
  },
  {
   "cell_type": "code",
   "execution_count": null,
   "metadata": {
    "collapsed": true
   },
   "outputs": [],
   "source": [
    "halos = np.array(halocat.halo_table)\n",
    "    \n",
    "nd_halos = calc_number_densities(halos['halo_vpeak'], halocat.Lbox[0])"
   ]
  },
  {
   "cell_type": "code",
   "execution_count": null,
   "metadata": {
    "collapsed": true
   },
   "outputs": [],
   "source": [
    "catalog = af.match(nd_halos, scatter*LF_SCATTER_MULT)"
   ]
  },
  {
   "cell_type": "code",
   "execution_count": null,
   "metadata": {
    "collapsed": true
   },
   "outputs": [],
   "source": [
    "from matplotlib import pyplot as plt\n",
    "%matplotlib inline"
   ]
  },
  {
   "cell_type": "code",
   "execution_count": null,
   "metadata": {
    "collapsed": true
   },
   "outputs": [],
   "source": [
    "plt.hist(catalog, bins = 100)"
   ]
  },
  {
   "cell_type": "raw",
   "metadata": {
    "collapsed": true
   },
   "source": [
    "absmag_limit = -19\n",
    "final_catalog = catalog[catalog < absmag_limit]"
   ]
  },
  {
   "cell_type": "code",
   "execution_count": null,
   "metadata": {
    "collapsed": true
   },
   "outputs": [],
   "source": [
    "np.savetxt('sham_catalog.npy', catalog)"
   ]
  },
  {
   "cell_type": "code",
   "execution_count": null,
   "metadata": {
    "collapsed": true
   },
   "outputs": [],
   "source": []
  },
  {
   "cell_type": "code",
   "execution_count": null,
   "metadata": {
    "collapsed": true
   },
   "outputs": [],
   "source": []
  },
  {
   "cell_type": "code",
   "execution_count": null,
   "metadata": {
    "collapsed": true
   },
   "outputs": [],
   "source": []
  }
 ],
 "metadata": {
  "kernelspec": {
   "display_name": "Python 3",
   "language": "python",
   "name": "python3"
  },
  "language_info": {
   "codemirror_mode": {
    "name": "ipython",
    "version": 3
   },
   "file_extension": ".py",
   "mimetype": "text/x-python",
   "name": "python",
   "nbconvert_exporter": "python",
   "pygments_lexer": "ipython3",
   "version": "3.6.1"
  }
 },
 "nbformat": 4,
 "nbformat_minor": 1
}
