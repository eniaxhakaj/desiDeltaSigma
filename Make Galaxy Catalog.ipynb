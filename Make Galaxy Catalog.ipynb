{
 "cells": [
  {
   "cell_type": "code",
   "execution_count": 6,
   "metadata": {
    "collapsed": false
   },
   "outputs": [],
   "source": [
    "import numpy as np\n",
    "from halotools.sim_manager import DownloadManager, CachedHaloCatalog\n",
    "#from halotools.empirical_models.abunmatch import conditional_abunmatch\n",
    "from AbundanceMatching import *"
   ]
  },
  {
   "cell_type": "markdown",
   "metadata": {},
   "source": [
    "Following the instructions shown in [this webpage](https://halotools.readthedocs.io/en/latest/quickstart_and_tutorials/quickstart_guides/working_with_halotools_provided_catalogs.html)\n",
    "to download and load a preloaded halotools catalog. Then I'll use [Yao's code](https://bitbucket.org/yymao/abundancematching) to do the abundance matching."
   ]
  },
  {
   "cell_type": "code",
   "execution_count": 7,
   "metadata": {
    "collapsed": false
   },
   "outputs": [
    {
     "name": "stdout",
     "output_type": "stream",
     "text": [
      "\n",
      "... Downloading data from the following location: \n",
      "http://www.astro.yale.edu/aphearin/Data_files/halo_catalogs/bolshoi/rockstar/hlist_1.00035.list.halotools_v0p4.hdf5\n",
      "\n",
      " ... Saving the data with the following filename: \n",
      "/home/sean/.astropy/cache/halotools/halo_catalogs/bolshoi/rockstar/hlist_1.00035.list.halotools_v0p4.hdf5\n",
      "\n",
      "5% complete, elapsed time = 8 seconds\n",
      "10% complete, elapsed time = 14 seconds\n",
      "15% complete, elapsed time = 20 seconds\n",
      "20% complete, elapsed time = 27 seconds\n",
      "25% complete, elapsed time = 35 seconds\n",
      "30% complete, elapsed time = 45 seconds\n",
      "35% complete, elapsed time = 58 seconds\n",
      "40% complete, elapsed time = 74 seconds\n",
      "45% complete, elapsed time = 85 seconds\n",
      "50% complete, elapsed time = 91 seconds\n",
      "55% complete, elapsed time = 99 seconds\n",
      "60% complete, elapsed time = 112 seconds\n",
      "65% complete, elapsed time = 118 seconds\n",
      "70% complete, elapsed time = 123 seconds\n",
      "75% complete, elapsed time = 126 seconds\n",
      "80% complete, elapsed time = 130 seconds\n",
      "85% complete, elapsed time = 134 seconds\n",
      "90% complete, elapsed time = 138 seconds\n",
      "95% complete, elapsed time = 142 seconds\n",
      "\n",
      "Total runtime to download pre-processed halo catalog = 145.8 seconds\n",
      "\n",
      "\n",
      "The halo catalog has been successfully downloaded to the following location:\n",
      "/home/sean/.astropy/cache/halotools/halo_catalogs/bolshoi/rockstar/hlist_1.00035.list.halotools_v0p4.hdf5\n",
      "\n",
      "This filename and its associated metadata have also been added to the Halotools cache log, \n",
      "as reflected by a newly added line to the following ASCII file:\n",
      "\n",
      "/home/sean/.astropy/cache/halotools/halo_table_cache_log.txt\n",
      "\n",
      "Since the catalog will now be recognized in cache, \n",
      "you can load it into memory using the following syntax:\n",
      "\n",
      ">>> from halotools.sim_manager import CachedHaloCatalog \n",
      ">>> halocat = CachedHaloCatalog(simname = 'bolshoi', halo_finder = 'rockstar', version_name = 'halotools_v0p4', redshift = -0.0003) \n",
      "\n",
      "For convenience, you can set this catalog to be your default catalog \n",
      "and omit the CachedHaloCatalog constructor arguments.\n",
      "To do that, change the following variables in the \n",
      "halotools.sim_manager.sim_defaults module:\n",
      "``default_simname``, ``default_halo_finder``, ``default_version_name`` and ``default_redshift``.\n",
      "\n",
      "Tabular data storing the actual halos is bound to the ``halo_table`` \n",
      "attribute of ``halocat`` in the form of an Astropy Table:\n",
      "\n",
      ">>> halos = halocat.halo_table \n",
      "\n",
      "Halo properties are accessed in the same manner as a python dictionary or Numpy structured array:\n",
      "\n",
      ">>> mass_array = halos['halo_mvir'] \n",
      "\n",
      "The ``halocat`` object also contains additional metadata \n",
      "such as ``halocat.simname``, ``halocat.redshift`` and ``halocat.fname`` \n",
      "that you can use for sanity checks on your bookkeeping.\n",
      "\n",
      "Note that if you move this halo catalog into a new location on disk, \n",
      "you must update both the ``fname`` metadata of the hdf5 file \n",
      "as well as the``fname`` column of the corresponding entry in the log. \n",
      "You can accomplish this with the ``update_cached_file_location``method \n",
      "of the HaloTableCache class.\n",
      "\n"
     ]
    },
    {
     "name": "stderr",
     "output_type": "stream",
     "text": [
      "/usr/local/lib/python2.7/dist-packages/halotools-0.6.dev4665-py2.7-linux-x86_64.egg/halotools/sim_manager/halo_table_cache.py:176: UserWarning: The cache log already contains the entry\n",
      "  warn(\"The cache log already contains the entry\")\n",
      "/usr/local/lib/python2.7/dist-packages/halotools-0.6.dev4665-py2.7-linux-x86_64.egg/halotools/sim_manager/download_manager.py:515: UserWarning: \n",
      "There already exists a particle catalog in your cache log with \n",
      "specifications that exactly match your inputs.\n",
      "Since you have set ``overwrite`` to True, \n",
      "the download will proceed and the existing file will be overwritten.\n",
      "\n",
      "  warn(msg)\n"
     ]
    },
    {
     "name": "stdout",
     "output_type": "stream",
     "text": [
      "\n",
      "\n",
      "... Downloading data from the following location: \n",
      "http://www.astro.yale.edu/aphearin/Data_files/particle_catalogs/bolshoi/hlist_1.00035.particles.halotools_v0p4.hdf5\n",
      "\n",
      " ... Saving the data with the following filename: \n",
      "/home/sean/.astropy/cache/halotools/particle_catalogs/bolshoi/hlist_1.00035.particles.halotools_v0p4.hdf5\n",
      "\n",
      "5% complete, elapsed time = 2 seconds\n",
      "10% complete, elapsed time = 2 seconds\n",
      "15% complete, elapsed time = 3 seconds\n",
      "20% complete, elapsed time = 4 seconds\n",
      "25% complete, elapsed time = 5 seconds\n",
      "30% complete, elapsed time = 5 seconds\n",
      "35% complete, elapsed time = 6 seconds\n",
      "40% complete, elapsed time = 7 seconds\n",
      "45% complete, elapsed time = 8 seconds\n",
      "50% complete, elapsed time = 9 seconds\n",
      "55% complete, elapsed time = 9 seconds\n",
      "60% complete, elapsed time = 10 seconds\n",
      "65% complete, elapsed time = 11 seconds\n",
      "70% complete, elapsed time = 12 seconds\n",
      "75% complete, elapsed time = 13 seconds\n",
      "80% complete, elapsed time = 13 seconds\n",
      "85% complete, elapsed time = 16 seconds\n",
      "90% complete, elapsed time = 17 seconds\n",
      "95% complete, elapsed time = 18 seconds\n",
      "\n",
      "The particle catalog has been successfully downloaded to the following location:\n",
      "/home/sean/.astropy/cache/halotools/particle_catalogs/bolshoi/hlist_1.00035.particles.halotools_v0p4.hdf5\n",
      "\n",
      "This filename and its associated metadata have also been added to the Halotools cache log, \n",
      "as reflected by a newly added line to the following ASCII file:\n",
      "\n",
      "/home/sean/.astropy/cache/halotools/ptcl_table_cache_log.txt\n",
      "\n",
      "You can access the particle data with the following syntax:\n",
      "\n",
      ">>> from halotools.sim_manager import CachedHaloCatalog \n",
      ">>> halocat = CachedHaloCatalog(simname = 'bolshoi', version_name = 'halotools_v0p4', redshift = -0.0003)\n",
      ">>> particles = halocat.ptcl_table \n",
      "\n",
      "Mock observable functions such as the galaxy-galaxy lensing signal \n",
      "can now be computed for mock galaxies populated into this simulation.\n",
      "\n",
      "Note that if you move this particle catalog into a new location on disk, \n",
      "you must update both the ``fname`` metadata of the hdf5 file \n",
      "as well as the``fname`` column of the corresponding entry in the log. \n",
      "You can accomplish this with the ``update_cached_file_location``method \n",
      "of the PtclTableCache class.\n",
      "\n",
      "\n"
     ]
    },
    {
     "name": "stderr",
     "output_type": "stream",
     "text": [
      "/usr/local/lib/python2.7/dist-packages/halotools-0.6.dev4665-py2.7-linux-x86_64.egg/halotools/sim_manager/ptcl_table_cache.py:164: UserWarning: The cache log already contains the entry\n",
      "  warn(\"The cache log already contains the entry\")\n"
     ]
    }
   ],
   "source": [
    "dman = DownloadManager()\n",
    "dman.download_processed_halo_table('bolshoi', 'rockstar', 0.0, overwrite = True, ignore_nearby_redshifts=True) \n",
    "dman.download_ptcl_table('bolshoi', 0.0, overwrite = True)"
   ]
  },
  {
   "cell_type": "code",
   "execution_count": 8,
   "metadata": {
    "collapsed": true
   },
   "outputs": [],
   "source": [
    "halocat = CachedHaloCatalog(simname = 'bolshoi',halo_finder= 'rockstar', redshift = 0.0)"
   ]
  },
  {
   "cell_type": "raw",
   "metadata": {},
   "source": [
    "halocat.halo_table.colnames"
   ]
  },
  {
   "cell_type": "markdown",
   "metadata": {},
   "source": [
    "Loading up a luminosity function. This one is from GAMA Survey, Loveday 2015 (got it from Joe). "
   ]
  },
  {
   "cell_type": "code",
   "execution_count": 9,
   "metadata": {
    "collapsed": false
   },
   "outputs": [],
   "source": [
    "lf = np.genfromtxt('lf_r_sersic_r.dat', skip_header=True)[:,1:3]"
   ]
  },
  {
   "cell_type": "code",
   "execution_count": 10,
   "metadata": {
    "collapsed": true
   },
   "outputs": [],
   "source": [
    "af = AbundanceFunction(lf[:,0], lf[:,1], (-27, -5))"
   ]
  },
  {
   "cell_type": "code",
   "execution_count": 11,
   "metadata": {
    "collapsed": true
   },
   "outputs": [],
   "source": [
    "scatter = 0.2\n",
    "remainder = af.deconvolute(scatter*LF_SCATTER_MULT, 20)"
   ]
  },
  {
   "cell_type": "code",
   "execution_count": 12,
   "metadata": {
    "collapsed": false
   },
   "outputs": [],
   "source": [
    "halos = np.array(halocat.halo_table)\n",
    "    \n",
    "nd_halos = calc_number_densities(halos['halo_vpeak'], halocat.Lbox[0])"
   ]
  },
  {
   "cell_type": "code",
   "execution_count": null,
   "metadata": {
    "collapsed": true
   },
   "outputs": [],
   "source": [
    "catalog = af.match(nd_halos, scatter*LF_SCATTER_MULT)"
   ]
  },
  {
   "cell_type": "code",
   "execution_count": null,
   "metadata": {
    "collapsed": false
   },
   "outputs": [],
   "source": [
    "from matplotlib import pyplot as plt\n",
    "%matplotlib inline"
   ]
  },
  {
   "cell_type": "code",
   "execution_count": null,
   "metadata": {
    "collapsed": false
   },
   "outputs": [],
   "source": [
    "plt.hist(catalog, bins = 100)"
   ]
  },
  {
   "cell_type": "raw",
   "metadata": {
    "collapsed": true
   },
   "source": [
    "absmag_limit = -19\n",
    "final_catalog = catalog[catalog < absmag_limit]"
   ]
  },
  {
   "cell_type": "code",
   "execution_count": null,
   "metadata": {
    "collapsed": true
   },
   "outputs": [],
   "source": [
    "np.savetxt('sham_catalog.npy', catalog)"
   ]
  },
  {
   "cell_type": "code",
   "execution_count": null,
   "metadata": {
    "collapsed": true
   },
   "outputs": [],
   "source": []
  }
 ],
 "metadata": {
  "kernelspec": {
   "display_name": "Python 2",
   "language": "python",
   "name": "python2"
  },
  "language_info": {
   "codemirror_mode": {
    "name": "ipython",
    "version": 2
   },
   "file_extension": ".py",
   "mimetype": "text/x-python",
   "name": "python",
   "nbconvert_exporter": "python",
   "pygments_lexer": "ipython2",
   "version": "2.7.6"
  }
 },
 "nbformat": 4,
 "nbformat_minor": 0
}
