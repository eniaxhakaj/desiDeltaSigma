{
 "cells": [
  {
   "cell_type": "code",
   "execution_count": 1,
   "metadata": {
    "collapsed": false
   },
   "outputs": [
    {
     "name": "stdout",
     "output_type": "stream",
     "text": [
      "The history saving thread hit an unexpected error (DatabaseError('database disk image is malformed',)).History will not be written to the database.\n"
     ]
    }
   ],
   "source": [
    "import numpy as np\n",
    "from halotools.sim_manager import DownloadManager, CachedHaloCatalog\n",
    "#from halotools.empirical_models.abunmatch import conditional_abunmatch\n",
    "from AbundanceMatching import *"
   ]
  },
  {
   "cell_type": "markdown",
   "metadata": {},
   "source": [
    "Following the instructions shown in [this webpage](https://halotools.readthedocs.io/en/latest/quickstart_and_tutorials/quickstart_guides/working_with_halotools_provided_catalogs.html)\n",
    "to download and load a preloaded halotools catalog. Then I'll use [Yao's code](https://bitbucket.org/yymao/abundancematching) to do the abundance matching."
   ]
  },
  {
   "cell_type": "raw",
   "metadata": {},
   "source": [
    "dman = DownloadManager()\n",
    "#dman.download_processed_halo_table('bolshoi', 'rockstar', 0.0, overwrite=True) \n",
    "dman.download_ptcl_table('bolshoi', 0.0)"
   ]
  },
  {
   "cell_type": "code",
   "execution_count": 4,
   "metadata": {
    "collapsed": false
   },
   "outputs": [],
   "source": [
    "halocat = CachedHaloCatalog(simname = 'bolshoi',halo_finder= 'rockstar', redshift = -0.0003, version_name ='halotools_alpha_version2' )"
   ]
  },
  {
   "cell_type": "raw",
   "metadata": {},
   "source": [
    "halocat.halo_table.colnames"
   ]
  },
  {
   "cell_type": "markdown",
   "metadata": {},
   "source": [
    "Loading up a luminosity function. This one is from GAMA Survey, Loveday 2015 (got it from Joe). "
   ]
  },
  {
   "cell_type": "code",
   "execution_count": 5,
   "metadata": {
    "collapsed": false
   },
   "outputs": [],
   "source": [
    "lf = np.genfromtxt('lf_r_sersic_r.dat', skip_header=True)[:,1:3]"
   ]
  },
  {
   "cell_type": "code",
   "execution_count": 6,
   "metadata": {
    "collapsed": true
   },
   "outputs": [],
   "source": [
    "af = AbundanceFunction(lf[:,0], lf[:,1], (-27, -5))"
   ]
  },
  {
   "cell_type": "code",
   "execution_count": 12,
   "metadata": {
    "collapsed": false
   },
   "outputs": [
    {
     "data": {
      "text/plain": [
       "[<matplotlib.lines.Line2D at 0x7f3e8f402a50>]"
      ]
     },
     "execution_count": 12,
     "metadata": {},
     "output_type": "execute_result"
    },
    {
     "data": {
      "image/png": "[encoded data removed]",
      "text/plain": [
       "<matplotlib.figure.Figure at 0x7f3e8f31b310>"
      ]
     },
     "metadata": {},
     "output_type": "display_data"
    }
   ],
   "source": [
    "plt.semilogy(lf[:,0], lf[:,1])\n",
    "x = np.linspace(-27, -5, 101)\n",
    "plt.semilogy(x, af(x))"
   ]
  },
  {
   "cell_type": "code",
   "execution_count": 7,
   "metadata": {
    "collapsed": true
   },
   "outputs": [],
   "source": [
    "scatter = 0.2\n",
    "remainder = af.deconvolute(scatter*LF_SCATTER_MULT, 20)"
   ]
  },
  {
   "cell_type": "code",
   "execution_count": 14,
   "metadata": {
    "collapsed": false
   },
   "outputs": [
    {
     "data": {
      "image/png": "[encoded data removed]",
      "text/plain": [
       "<matplotlib.figure.Figure at 0x7f3e9ba64690>"
      ]
     },
     "metadata": {},
     "output_type": "display_data"
    }
   ],
   "source": [
    "x, nd = af.get_number_density_table()\n",
    "plt.plot(x, remainder/nd);"
   ]
  },
  {
   "cell_type": "code",
   "execution_count": 8,
   "metadata": {
    "collapsed": false
   },
   "outputs": [],
   "source": [
    "halos = np.array(halocat.halo_table)\n",
    "    \n",
    "nd_halos = calc_number_densities(halos['halo_vpeak'], halocat.Lbox[0])"
   ]
  },
  {
   "cell_type": "code",
   "execution_count": 9,
   "metadata": {
    "collapsed": true
   },
   "outputs": [],
   "source": [
    "catalog = af.match(nd_halos, scatter*LF_SCATTER_MULT)"
   ]
  },
  {
   "cell_type": "code",
   "execution_count": 10,
   "metadata": {
    "collapsed": false
   },
   "outputs": [],
   "source": [
    "from matplotlib import pyplot as plt\n",
    "%matplotlib inline"
   ]
  },
  {
   "cell_type": "code",
   "execution_count": 11,
   "metadata": {
    "collapsed": false
   },
   "outputs": [
    {
     "data": {
      "text/plain": [
       "(array([  1.00000000e+00,   1.00000000e+00,   3.00000000e+00,\n",
       "          5.00000000e+00,   4.00000000e+00,   6.00000000e+00,\n",
       "          1.00000000e+01,   1.80000000e+01,   2.70000000e+01,\n",
       "          4.50000000e+01,   7.60000000e+01,   1.23000000e+02,\n",
       "          1.94000000e+02,   2.90000000e+02,   4.28000000e+02,\n",
       "          6.21000000e+02,   8.68000000e+02,   1.17700000e+03,\n",
       "          1.55800000e+03,   2.01700000e+03,   2.48300000e+03,\n",
       "          2.99600000e+03,   3.52700000e+03,   4.09400000e+03,\n",
       "          4.61800000e+03,   5.15400000e+03,   5.62500000e+03,\n",
       "          6.06100000e+03,   6.42000000e+03,   6.80400000e+03,\n",
       "          7.21200000e+03,   7.42000000e+03,   7.49900000e+03,\n",
       "          7.40800000e+03,   7.23800000e+03,   7.04600000e+03,\n",
       "          6.88800000e+03,   6.91600000e+03,   6.89200000e+03,\n",
       "          6.66300000e+03,   6.34300000e+03,   5.87500000e+03,\n",
       "          5.61700000e+03,   5.53700000e+03,   5.17100000e+03,\n",
       "          4.68200000e+03,   4.77300000e+03,   5.07600000e+03,\n",
       "          5.42300000e+03,   5.58800000e+03,   4.94800000e+03,\n",
       "          4.46100000e+03,   4.54500000e+03,   4.96700000e+03,\n",
       "          5.93100000e+03,   6.29400000e+03,   5.82200000e+03,\n",
       "          6.17100000e+03,   7.07100000e+03,   8.24800000e+03,\n",
       "          9.12100000e+03,   6.67000000e+03,   5.07100000e+03,\n",
       "          8.08000000e+03,   1.15350000e+04,   1.00710000e+04,\n",
       "          8.74200000e+03,   7.99600000e+03,   9.63900000e+03,\n",
       "          1.45770000e+04,   1.16420000e+04,   5.82100000e+03,\n",
       "          4.83000000e+03,   5.06600000e+03,   7.58300000e+03,\n",
       "          1.15280000e+04,   1.34480000e+04,   1.34580000e+04,\n",
       "          8.96000000e+03,   8.75700000e+03,   1.61690000e+04,\n",
       "          1.31810000e+04,   3.61100000e+03,   5.50200000e+03,\n",
       "          2.02090000e+04,   3.03940000e+04,   3.30080000e+04,\n",
       "          3.58480000e+04,   3.89310000e+04,   4.22800000e+04,\n",
       "          4.59170000e+04,   4.98660000e+04,   5.41550000e+04,\n",
       "          5.88170000e+04,   6.38750000e+04,   6.93700000e+04,\n",
       "          7.53370000e+04,   8.18170000e+04,   8.88540000e+04,\n",
       "          9.64990000e+04]),\n",
       " array([-24.03054775, -23.89593901, -23.76133027, -23.62672154,\n",
       "        -23.4921128 , -23.35750406, -23.22289533, -23.08828659,\n",
       "        -22.95367785, -22.81906912, -22.68446038, -22.54985164,\n",
       "        -22.41524291, -22.28063417, -22.14602543, -22.0114167 ,\n",
       "        -21.87680796, -21.74219923, -21.60759049, -21.47298175,\n",
       "        -21.33837302, -21.20376428, -21.06915554, -20.93454681,\n",
       "        -20.79993807, -20.66532933, -20.5307206 , -20.39611186,\n",
       "        -20.26150312, -20.12689439, -19.99228565, -19.85767691,\n",
       "        -19.72306818, -19.58845944, -19.4538507 , -19.31924197,\n",
       "        -19.18463323, -19.05002449, -18.91541576, -18.78080702,\n",
       "        -18.64619828, -18.51158955, -18.37698081, -18.24237207,\n",
       "        -18.10776334, -17.9731546 , -17.83854587, -17.70393713,\n",
       "        -17.56932839, -17.43471966, -17.30011092, -17.16550218,\n",
       "        -17.03089345, -16.89628471, -16.76167597, -16.62706724,\n",
       "        -16.4924585 , -16.35784976, -16.22324103, -16.08863229,\n",
       "        -15.95402355, -15.81941482, -15.68480608, -15.55019734,\n",
       "        -15.41558861, -15.28097987, -15.14637113, -15.0117624 ,\n",
       "        -14.87715366, -14.74254492, -14.60793619, -14.47332745,\n",
       "        -14.33871871, -14.20410998, -14.06950124, -13.9348925 ,\n",
       "        -13.80028377, -13.66567503, -13.5310663 , -13.39645756,\n",
       "        -13.26184882, -13.12724009, -12.99263135, -12.85802261,\n",
       "        -12.72341388, -12.58880514, -12.4541964 , -12.31958767,\n",
       "        -12.18497893, -12.05037019, -11.91576146, -11.78115272,\n",
       "        -11.64654398, -11.51193525, -11.37732651, -11.24271777,\n",
       "        -11.10810904, -10.9735003 , -10.83889156, -10.70428283, -10.56967409]),\n",
       " <a list of 100 Patch objects>)"
      ]
     },
     "execution_count": 11,
     "metadata": {},
     "output_type": "execute_result"
    },
    {
     "data": {
      "image/png": "[encoded data removed]",
      "text/plain": [
       "<matplotlib.figure.Figure at 0x7f3e8f461ad0>"
      ]
     },
     "metadata": {},
     "output_type": "display_data"
    }
   ],
   "source": [
    "plt.hist(catalog, bins = 100)"
   ]
  },
  {
   "cell_type": "raw",
   "metadata": {
    "collapsed": true
   },
   "source": [
    "absmag_limit = -19\n",
    "final_catalog = catalog[catalog < absmag_limit]"
   ]
  },
  {
   "cell_type": "code",
   "execution_count": null,
   "metadata": {
    "collapsed": true
   },
   "outputs": [],
   "source": [
    "#np.savetxt('sham_catalog.npy', catalog)"
   ]
  },
  {
   "cell_type": "code",
   "execution_count": null,
   "metadata": {
    "collapsed": true
   },
   "outputs": [],
   "source": []
  }
 ],
 "metadata": {
  "kernelspec": {
   "display_name": "Python [default]",
   "language": "python",
   "name": "python2"
  },
  "language_info": {
   "codemirror_mode": {
    "name": "ipython",
    "version": 2
   },
   "file_extension": ".py",
   "mimetype": "text/x-python",
   "name": "python",
   "nbconvert_exporter": "python",
   "pygments_lexer": "ipython2",
   "version": "2.7.13"
  }
 },
 "nbformat": 4,
 "nbformat_minor": 0
}
