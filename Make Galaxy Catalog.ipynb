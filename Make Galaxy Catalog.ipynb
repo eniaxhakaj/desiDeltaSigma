{
 "cells": [
  {
   "cell_type": "code",
   "execution_count": 16,
   "metadata": {
    "collapsed": false
   },
   "outputs": [],
   "source": [
    "import numpy as np\n",
    "from halotools.sim_manager import DownloadManager, CachedHaloCatalog\n",
    "#from halotools.empirical_models.abunmatch import conditional_abunmatch\n",
    "from AbundanceMatching import *"
   ]
  },
  {
   "cell_type": "markdown",
   "metadata": {},
   "source": [
    "Following the instructions shown in [this webpage](https://halotools.readthedocs.io/en/latest/quickstart_and_tutorials/quickstart_guides/working_with_halotools_provided_catalogs.html)\n",
    "to download and load a preloaded halotools catalog. Then I'll use [Yao's code](https://bitbucket.org/yymao/abundancematching) to do the abundance matching."
   ]
  },
  {
   "cell_type": "raw",
   "metadata": {},
   "source": [
    "dman = DownloadManager()\n",
    "#dman.download_processed_halo_table('bolshoi', 'rockstar', 0.0, overwrite=True) \n",
    "dman.download_ptcl_table('bolshoi', 0.0)"
   ]
  },
  {
   "cell_type": "code",
   "execution_count": 11,
   "metadata": {
    "collapsed": true
   },
   "outputs": [],
   "source": [
    "halocat = CachedHaloCatalog(simname = 'bolshoi',halo_finder= 'rockstar', redshift = 0.0)"
   ]
  },
  {
   "cell_type": "raw",
   "metadata": {},
   "source": [
    "halocat.halo_table.colnames"
   ]
  },
  {
   "cell_type": "markdown",
   "metadata": {},
   "source": [
    "Loading up a luminosity function. This one is from GAMA Survey, Loveday 2015 (got it from Joe). "
   ]
  },
  {
   "cell_type": "code",
   "execution_count": 12,
   "metadata": {
    "collapsed": false
   },
   "outputs": [],
   "source": [
    "lf = np.genfromtxt('lf_r_sersic_r.dat', skip_header=True)[:,1:3]"
   ]
  },
  {
   "cell_type": "code",
   "execution_count": 13,
   "metadata": {
    "collapsed": true
   },
   "outputs": [],
   "source": [
    "af = AbundanceFunction(lf[:,0], lf[:,1], (-27, -5))"
   ]
  },
  {
   "cell_type": "code",
   "execution_count": 14,
   "metadata": {
    "collapsed": true
   },
   "outputs": [],
   "source": [
    "scatter = 0.2\n",
    "remainder = af.deconvolute(scatter*LF_SCATTER_MULT, 20)"
   ]
  },
  {
   "cell_type": "code",
   "execution_count": 15,
   "metadata": {
    "collapsed": false
   },
   "outputs": [
    {
     "ename": "InvalidCacheLogEntry",
     "evalue": "The halo catalog and/or its associated metadata fail the following tests:\n\n1. The hdf5 file must be readable with Astropy \nusing the following syntax:\n\n>>> halo_data = Table.read(fname, path='data')\n\n2. The halo table must at a minimum have the following columns:\n``halo_id``, ``halo_x``, ``halo_y``, ``halo_z``,\nplus at least one additional column storing a mass-like variable.\n\n",
     "output_type": "error",
     "traceback": [
      "\u001b[0;31m---------------------------------------------------------------------------\u001b[0m",
      "\u001b[0;31mInvalidCacheLogEntry\u001b[0m                      Traceback (most recent call last)",
      "\u001b[0;32m<ipython-input-15-1ab0048c8aaa>\u001b[0m in \u001b[0;36m<module>\u001b[0;34m()\u001b[0m\n\u001b[0;32m----> 1\u001b[0;31m \u001b[0mhalos\u001b[0m \u001b[0;34m=\u001b[0m \u001b[0mnp\u001b[0m\u001b[0;34m.\u001b[0m\u001b[0marray\u001b[0m\u001b[0;34m(\u001b[0m\u001b[0mhalocat\u001b[0m\u001b[0;34m.\u001b[0m\u001b[0mhalo_table\u001b[0m\u001b[0;34m)\u001b[0m\u001b[0;34m\u001b[0m\u001b[0m\n\u001b[0m\u001b[1;32m      2\u001b[0m \u001b[0;34m\u001b[0m\u001b[0m\n\u001b[1;32m      3\u001b[0m \u001b[0mnd_halos\u001b[0m \u001b[0;34m=\u001b[0m \u001b[0mcalc_number_densities\u001b[0m\u001b[0;34m(\u001b[0m\u001b[0mhalos\u001b[0m\u001b[0;34m[\u001b[0m\u001b[0;34m'halo_vpeak'\u001b[0m\u001b[0;34m]\u001b[0m\u001b[0;34m,\u001b[0m \u001b[0mhalocat\u001b[0m\u001b[0;34m.\u001b[0m\u001b[0mLbox\u001b[0m\u001b[0;34m[\u001b[0m\u001b[0;36m0\u001b[0m\u001b[0;34m]\u001b[0m\u001b[0;34m)\u001b[0m\u001b[0;34m\u001b[0m\u001b[0m\n",
      "\u001b[0;32m/usr/local/lib/python2.7/dist-packages/halotools-0.6.dev4665-py2.7-linux-x86_64.egg/halotools/sim_manager/cached_halo_catalog.pyc\u001b[0m in \u001b[0;36mhalo_table\u001b[0;34m(self)\u001b[0m\n\u001b[1;32m    547\u001b[0m                 \u001b[0;32mreturn\u001b[0m \u001b[0mself\u001b[0m\u001b[0;34m.\u001b[0m\u001b[0m_halo_table\u001b[0m\u001b[0;34m\u001b[0m\u001b[0m\n\u001b[1;32m    548\u001b[0m             \u001b[0;32melse\u001b[0m\u001b[0;34m:\u001b[0m\u001b[0;34m\u001b[0m\u001b[0m\n\u001b[0;32m--> 549\u001b[0;31m                 \u001b[0;32mraise\u001b[0m \u001b[0mInvalidCacheLogEntry\u001b[0m\u001b[0;34m(\u001b[0m\u001b[0mself\u001b[0m\u001b[0;34m.\u001b[0m\u001b[0mlog_entry\u001b[0m\u001b[0;34m.\u001b[0m\u001b[0m_cache_safety_message\u001b[0m\u001b[0;34m)\u001b[0m\u001b[0;34m\u001b[0m\u001b[0m\n\u001b[0m\u001b[1;32m    550\u001b[0m \u001b[0;34m\u001b[0m\u001b[0m\n\u001b[1;32m    551\u001b[0m     \u001b[0;32mdef\u001b[0m \u001b[0m_add_new_derived_columns\u001b[0m\u001b[0;34m(\u001b[0m\u001b[0mself\u001b[0m\u001b[0;34m,\u001b[0m \u001b[0mt\u001b[0m\u001b[0;34m)\u001b[0m\u001b[0;34m:\u001b[0m\u001b[0;34m\u001b[0m\u001b[0m\n",
      "\u001b[0;31mInvalidCacheLogEntry\u001b[0m: The halo catalog and/or its associated metadata fail the following tests:\n\n1. The hdf5 file must be readable with Astropy \nusing the following syntax:\n\n>>> halo_data = Table.read(fname, path='data')\n\n2. The halo table must at a minimum have the following columns:\n``halo_id``, ``halo_x``, ``halo_y``, ``halo_z``,\nplus at least one additional column storing a mass-like variable.\n\n"
     ]
    }
   ],
   "source": [
    "halos = np.array(halocat.halo_table)\n",
    "    \n",
    "nd_halos = calc_number_densities(halos['halo_vpeak'], halocat.Lbox[0])"
   ]
  },
  {
   "cell_type": "code",
   "execution_count": null,
   "metadata": {
    "collapsed": true
   },
   "outputs": [],
   "source": [
    "catalog = af.match(nd_halos, scatter*LF_SCATTER_MULT)"
   ]
  },
  {
   "cell_type": "code",
   "execution_count": null,
   "metadata": {
    "collapsed": false
   },
   "outputs": [],
   "source": [
    "from matplotlib import pyplot as plt\n",
    "%matplotlib inline"
   ]
  },
  {
   "cell_type": "code",
   "execution_count": null,
   "metadata": {
    "collapsed": false
   },
   "outputs": [],
   "source": [
    "plt.hist(catalog, bins = 100)"
   ]
  },
  {
   "cell_type": "raw",
   "metadata": {
    "collapsed": true
   },
   "source": [
    "absmag_limit = -19\n",
    "final_catalog = catalog[catalog < absmag_limit]"
   ]
  },
  {
   "cell_type": "code",
   "execution_count": null,
   "metadata": {
    "collapsed": true
   },
   "outputs": [],
   "source": [
    "np.savetxt('sham_catalog.npy', catalog)"
   ]
  },
  {
   "cell_type": "code",
   "execution_count": null,
   "metadata": {
    "collapsed": true
   },
   "outputs": [],
   "source": []
  }
 ],
 "metadata": {
  "kernelspec": {
   "display_name": "Python 2",
   "language": "python",
   "name": "python2"
  },
  "language_info": {
   "codemirror_mode": {
    "name": "ipython",
    "version": 2
   },
   "file_extension": ".py",
   "mimetype": "text/x-python",
   "name": "python",
   "nbconvert_exporter": "python",
   "pygments_lexer": "ipython2",
   "version": "2.7.6"
  }
 },
 "nbformat": 4,
 "nbformat_minor": 0
}
