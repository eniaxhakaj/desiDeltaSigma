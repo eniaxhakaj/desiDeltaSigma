{
 "cells": [
  {
   "cell_type": "markdown",
   "metadata": {},
   "source": [
    "# Imports"
   ]
  },
  {
   "cell_type": "code",
   "execution_count": 1,
   "metadata": {
    "collapsed": false,
    "deletable": true,
    "editable": true
   },
   "outputs": [
    {
     "name": "stdout",
     "output_type": "stream",
     "text": [
      "67.73999999999998 km / (Mpc s)\n"
     ]
    }
   ],
   "source": [
    "#import camb\n",
    "#pars = camb.CAMBparams()\n",
    "from scipy.special import jn, jn_zeros\n",
    "#from camb import model, initialpower\n",
    "from scipy.interpolate import interp1d\n",
    "from hankel_transform import *\n",
    "from colossus.cosmology import cosmology\n",
    "import numpy as np\n",
    "from matplotlib import pylab as plt\n",
    "%matplotlib inline\n",
    "\n",
    "# Make sure this is consistent with the Colussus one ...\n",
    "from astropy.cosmology import Planck15 \n",
    "\n",
    "# What value of H0?\n",
    "# Does not use \"h=1\" units. Here h=0.67\n",
    "print(Planck15.H(0))\n",
    "\n",
    "import astropy.units as u\n",
    "#rc('text', usetex=False)"
   ]
  },
  {
   "cell_type": "code",
   "execution_count": 2,
   "metadata": {
    "collapsed": false
   },
   "outputs": [
    {
     "ename": "NameError",
     "evalue": "name 'Planck13' is not defined",
     "output_type": "error",
     "traceback": [
      "\u001b[0;31m---------------------------------------------------------------------------\u001b[0m",
      "\u001b[0;31mNameError\u001b[0m                                 Traceback (most recent call last)",
      "\u001b[0;32m<ipython-input-2-f819e535183a>\u001b[0m in \u001b[0;36m<module>\u001b[0;34m()\u001b[0m\n\u001b[1;32m      1\u001b[0m \u001b[0;31m# Here, cosmo will have h=1 units\u001b[0m\u001b[0;34m\u001b[0m\u001b[0;34m\u001b[0m\u001b[0m\n\u001b[0;32m----> 2\u001b[0;31m \u001b[0mcosmo\u001b[0m\u001b[0;34m=\u001b[0m\u001b[0mPlanck13\u001b[0m\u001b[0;34m.\u001b[0m\u001b[0mclone\u001b[0m\u001b[0;34m(\u001b[0m\u001b[0mH0\u001b[0m\u001b[0;34m=\u001b[0m\u001b[0;36m100\u001b[0m\u001b[0;34m)\u001b[0m\u001b[0;31m#we want h=1 for some comparisons\u001b[0m\u001b[0;34m\u001b[0m\u001b[0m\n\u001b[0m\u001b[1;32m      3\u001b[0m \u001b[0mprint\u001b[0m\u001b[0;34m(\u001b[0m\u001b[0mcosmo\u001b[0m\u001b[0;34m.\u001b[0m\u001b[0mH\u001b[0m\u001b[0;34m(\u001b[0m\u001b[0;36m0\u001b[0m\u001b[0;34m)\u001b[0m\u001b[0;34m)\u001b[0m\u001b[0;34m\u001b[0m\u001b[0m\n",
      "\u001b[0;31mNameError\u001b[0m: name 'Planck13' is not defined"
     ]
    }
   ],
   "source": [
    "# Here, cosmo will have h=1 units\n",
    "cosmo=Planck13.clone(H0=100)#we want h=1 for some comparisons\n",
    "print(cosmo.H(0))"
   ]
  },
  {
   "cell_type": "markdown",
   "metadata": {},
   "source": [
    "# Setting up the parameters for lensing and lens sample"
   ]
  },
  {
   "cell_type": "code",
   "execution_count": null,
   "metadata": {
    "collapsed": true
   },
   "outputs": [],
   "source": [
    "zlens=0.2      # mean lens (foreground) redshift\n",
    "zlens_min=0.1  # lower z cut on lens sample \n",
    "zlens_max=0.3  # upper z cut on lens sample\n",
    "\n",
    "zsource=0.8   # source (background) redshift\n",
    "\n",
    "# Shape noise\n",
    "sigma_e=.36\n",
    "\n",
    "# shape noise with responsivity factor\n",
    "sigma_gamma=sigma_e/1.7\n",
    "\n",
    "# number of background galaxies in units of N/arcmin^2\n",
    "ns_angular = 18\n",
    "\n",
    "# ******** Convert this to a number of background galaxies in units\n",
    "# of N/(Mpc/h)^2 assuming the redshift of the lens sample\n",
    "# use standard python packages to do this, astropy\n",
    "n_s=8  # compute this here ...\n",
    "\n",
    "# Sigma_crit\n",
    "# critical surface mass density\n",
    "# h inverse with 1+z factors comoving\n",
    "# *****compute this here directly from the parameters above\n",
    "# BEWARE: of h units and (1+z) factors\n",
    "# Here we want the 1+z factors\n",
    "# This can be computed by calling angular diameter distances\n",
    "# We want the units here to be Msun/pc^2 (same units as delta sigma)\n",
    "sigma_crit=4.7e3\n",
    "\n",
    "shape_noise=sigma_crit**2*sigma_gamma**2/n_s#*cosmo.H_z(z=0.27)/cosmo.c\n",
    "\n",
    "# b of lens sample\n",
    "# **** Get the bias value of the DESI BGS sample \n",
    "# need to get this from the simulations\n",
    "blens=1\n",
    "\n",
    "# Space density of the lens sample\n",
    "# ***** Get this from simulations\n",
    "n_g=3.e-4\n",
    "g_shot_noise=1./n_g\n",
    "\n",
    "# *** Instead of hard coding, get the mean density here\n",
    "# this is the mean density at redshift zero\n",
    "# you can use the astropy package\n",
    "# check that the results make sense\n",
    "\n",
    "rho=0.04180594698596614 #units of Msun/pc^2/mpc, using h=1\n"
   ]
  },
  {
   "cell_type": "code",
   "execution_count": null,
   "metadata": {
    "collapsed": true
   },
   "outputs": [],
   "source": [
    "# Overlap area between DESI and HSC area in deg^2\n",
    "area=1400\n",
    "\n",
    "# Area in comoving units\n",
    "area_comoving=area*(np.pi/180)**2*cosmo.comoving_distance(z=zlens)**2\n",
    "\n",
    "# ********\n",
    "# instead of hard coding, \n",
    "# compute this from zlens_min and zlens_max\n",
    "# This is the comoving distance between zlens_min and zlens_max\n",
    "# line of sight window lenght\n",
    "# redshift bins lens Mpc\n",
    "L_W=500\n",
    "\n",
    "vol=area_comoving*L_W\n",
    "vol=vol.value"
   ]
  },
  {
   "cell_type": "markdown",
   "metadata": {},
   "source": [
    "# Get power spectrum"
   ]
  },
  {
   "cell_type": "code",
   "execution_count": 10,
   "metadata": {
    "collapsed": false,
    "deletable": true,
    "editable": true
   },
   "outputs": [],
   "source": [
    "# Set up a new set of parameters for CAMB\n",
    "# Here this is getting the non-linear matter power spectrum\n",
    "kmax=30\n",
    "kmin=.8e-3\n",
    "k_smooth=1\n",
    "\n",
    "# Note: CAMB automaticaly samples in log space\n",
    "nk=5000\n",
    "rmin=.6\n",
    "rmax=110\n",
    "non_linear=1\n",
    "\n",
    "# We will test the differences between linear and non linear together with Sukhdeep\n",
    "\n",
    "#pars = camb.CAMBparams()\n",
    "#This function sets up CosmoMC-like settings, with one massive neutrino and helium set using BBN consistency\n",
    "#pars.set_cosmology(H0=67.27, ombh2=0.022250, omch2=0.119800, mnu=0.06, omk=0, tau=0.06)\n",
    "#pars.InitPower.set_params(ns=0.965, r=0,As =2.14e-09)\n",
    "#pars.set_for_lmax(2500, lens_potential_accuracy=0)\n",
    "\n",
    "# This is the redshift of the lens sample\n",
    "#zb=[.27]#\n",
    "#pars.set_matter_power(redshifts=zb,kmax=kmax);\n",
    "#if non_linear==1:\n",
    "#    pars.NonLinear = model.NonLinear_both\n",
    "#else:\n",
    "#    pars.NonLinear = model.NonLinear_none\n",
    "#results = camb.get_results(pars)\n",
    "#kh, z, pk =results.get_matter_power_spectrum(minkh=kmin, maxkh=kmax, npoints =nk)\n",
    "\n",
    "# Use linear or non linear\n",
    "# Use linear but then test with Sukhdeep\n",
    "\n",
    "# what is zb here?\n",
    "# => lens Redshift"
   ]
  },
  {
   "cell_type": "code",
   "execution_count": 11,
   "metadata": {
    "collapsed": true
   },
   "outputs": [],
   "source": [
    "# define a vector of cosmological parameters\n",
    "# Make sure it is consistent with the one above\n",
    "\n",
    "my_cosmo = {'flat': True, 'H0': 73.0, 'Om0': 0.238, 'Ob0': 0.045714, 'sigma8': 0.74, 'ns': 0.951}\n",
    "# set my_cosmo to be the current cosmology\n",
    "cosmo = cosmology.setCosmology('my_cosmo', my_cosmo)"
   ]
  },
  {
   "cell_type": "code",
   "execution_count": 12,
   "metadata": {
    "collapsed": false
   },
   "outputs": [
    {
     "name": "stdout",
     "output_type": "stream",
     "text": [
      "0.005999839999999999\n",
      "5000\n"
     ]
    },
    {
     "data": {
      "image/png": "[encoded data removed]",
      "text/plain": [
       "<matplotlib.figure.Figure at 0x117509e48>"
      ]
     },
     "metadata": {
      "image/png": {
       "height": 159,
       "width": 182
      }
     },
     "output_type": "display_data"
    }
   ],
   "source": [
    "# input model spectrum for comparison\n",
    "# lka = np.arange(-4.,3.,0.02)\n",
    "#ka = 10.0**lka\n",
    "\n",
    "# Do we want the sampling in log?\n",
    "# Units of pk, make sure they are the same\n",
    "# ask for the P(k) camb to see if it we get the same thing\n",
    "\n",
    "# Sample in log space\n",
    "# In parctice, the hankel transform does its own interpolation later down the line anyway and so \n",
    "# it shouldn't matter though\n",
    "step=(kmax-kmin)/nk\n",
    "print(step)\n",
    "\n",
    "# Colosus assumed h/Mpc\n",
    "kh = np.arange(kmin,kmax,step)\n",
    "print(len(kh))\n",
    "\n",
    "# What is the redshift here?\n",
    "# probaly need to apply the growth function\n",
    "\n",
    "# The wavenumber k (in comoving h/Mpc)\n",
    "pk = cosmo.matterPowerSpectrum(kh, 'eh98')\n",
    "cosmo.interpolation = True\n",
    "\n",
    "# plot input model P(k) \n",
    "\n",
    "plt.figure(figsize=(2,2))\n",
    "plt.xscale('log'); plt.yscale('log')\n",
    "plt.ylim(1.e-2, 1.e5); plt.xlim(1.e-4, 1.e2)\n",
    "plt.plot(kh, pk, c='slateblue', linewidth=2., label=r'$\\Lambda\\mathrm{CDM}:\\ \\Omega_{\\rm m}=%.1f\\ \\Omega_\\Lambda=%.1f$'%(cosmo.Om0,cosmo.OL0))\n",
    "plt.legend(frameon=False, loc='lower left', fontsize=7, scatterpoints=1)\n",
    "plt.xlabel(r'$k\\ (h\\rm\\ Mpc^{-1})$')\n",
    "plt.ylabel(r'$P(k)\\ (h^{-3}\\ \\rm Mpc^3)$')\n",
    "plt.grid(linestyle='dotted', c='lightgray')\n",
    "plt.show()\n"
   ]
  },
  {
   "cell_type": "code",
   "execution_count": 13,
   "metadata": {
    "collapsed": false,
    "deletable": true,
    "editable": true,
    "scrolled": true
   },
   "outputs": [
    {
     "name": "stdout",
     "output_type": "stream",
     "text": [
      "j-nu= 0  not enough zeros to cover kmin, increasing by  1000  to 29000\n",
      "CPU times: user 15.4 s, sys: 317 ms, total: 15.7 s\n",
      "Wall time: 15.9 s\n"
     ]
    }
   ],
   "source": [
    "#Setting up the Hankel Transform\n",
    "#This deals with the interpolation over the Bessel Functions\n",
    "#This part is slower. But only needs to be run once. \n",
    "#If you only need wgg, set j_nu=[0]. For wg+ (or \\Delta\\Sigma) use j_nu=[2]\n",
    "%time HT=hankel_transform(rmin=rmin,rmax=rmax,kmax=kmax,j_nu=[0],n_zeros=28000,kmin=kmin)\n",
    "#HT=hankel_transform(rmin=1,rmax=rmax,kmax=1,j_nu=[0,2],n_zeros=2800,kmin=1.e-2)#quick test... inaccurate"
   ]
  },
  {
   "cell_type": "code",
   "execution_count": 20,
   "metadata": {
    "collapsed": false,
    "deletable": true,
    "editable": true
   },
   "outputs": [
    {
     "name": "stdout",
     "output_type": "stream",
     "text": [
      "[  3.09078052e-13   2.64912777e+04   3.17831188e+04 ...,   8.44329461e-06\n",
      "   5.62580794e-06   2.81137739e-06]\n"
     ]
    }
   ],
   "source": [
    "# Note to ourselves: get the h factors correct\n",
    "\n",
    "# CAMB version\n",
    "# the CAMB version computes at multipe redshifts\n",
    "# The [0] here is just taking the first redshifts\n",
    "#pk_taper=HT.taper(k=kh,pk=pk[0],large_k_lower=5,large_k_upper=kmax,low_k_lower=kmin,\n",
    "#                     low_k_upper=kmin*2)\n",
    "\n",
    "# This tapers to function at the edges to make it go to zero nicely\n",
    "# To avoid runing when you take the fourier transform\n",
    "pk_taper=HT.taper(k=kh,pk=pk,large_k_lower=5,large_k_upper=kmax,low_k_lower=kmin,\n",
    "                     low_k_upper=kmin*2)\n",
    "\n",
    "\n",
    "#need atleast k=10 and k=1.e-3 to get decent wgg for 1-100 Mpc/h range.\n",
    "print(pk_taper)"
   ]
  },
  {
   "cell_type": "code",
   "execution_count": null,
   "metadata": {
    "collapsed": true
   },
   "outputs": [],
   "source": []
  },
  {
   "cell_type": "raw",
   "metadata": {
    "collapsed": false,
    "deletable": true,
    "editable": true
   },
   "source": [
    "plot(kh,pk[0])\n",
    "plot(kh,pk_taper)\n",
    "xscale('log')\n",
    "yscale('log')\n",
    "xlim(1.e-4,30)\n",
    "ylim(1,5.e4)"
   ]
  },
  {
   "cell_type": "markdown",
   "metadata": {
    "collapsed": true,
    "deletable": true,
    "editable": true
   },
   "source": [
    "# g-g Lensing covariance"
   ]
  },
  {
   "cell_type": "markdown",
   "metadata": {},
   "source": [
    "We are using the real-space DS(r_p) covariance expression from Sukhdeep Singh's paper, Eq 10.\n",
    "http://adsabs.harvard.edu/abs/2016arXiv161100752S\n",
    "\n",
    "Here we are using the part withuot the curly brackets (as explained later in the text, if you subtract DS around randoms to get the optimal estimator, you get rid of the curly brackets term)\n",
    "\n",
    "We are ignoring the connected $T_{g \\gamma g \\gamma}$ term, as it’s unlikely to be very important and is so much harder to calculate, and we are just keeping the $(P_{gg} + N_g) (P_{\\gamma \\gamma} + N_\\gamma) + P_{g \\gamma}^2$ stuff, so you have lens clustering and shot noise, cosmic shear and shape noise, and cosmic variance terms."
   ]
  },
  {
   "cell_type": "code",
   "execution_count": null,
   "metadata": {
    "collapsed": false
   },
   "outputs": [],
   "source": [
    "%time HT=hankel_transform(rmin=rmin,rmax=rmax,kmax=kmax,j_nu=[2],n_zeros=60000,kmin=kmin)"
   ]
  },
  {
   "cell_type": "code",
   "execution_count": null,
   "metadata": {
    "collapsed": false
   },
   "outputs": [],
   "source": []
  },
  {
   "cell_type": "code",
   "execution_count": null,
   "metadata": {
    "collapsed": false,
    "deletable": true,
    "editable": true
   },
   "outputs": [],
   "source": [
    "# cnvergence power spectrum\n",
    "# approximation\n",
    "# just integrating \n",
    "# Dchi2 is the integral over the window function\n",
    "Dchi2=900 #integral over product of window functions units is Mpc?\n",
    "p_kappa_kappa=pk[0]*(rho)**2*Dchi2"
   ]
  },
  {
   "cell_type": "code",
   "execution_count": null,
   "metadata": {
    "collapsed": true,
    "deletable": true,
    "editable": true
   },
   "outputs": [],
   "source": [
    "\n",
    "p_g=blens**2*pk[0]\n",
    "p_gk=blens*pk[0]*rho"
   ]
  },
  {
   "cell_type": "code",
   "execution_count": null,
   "metadata": {
    "collapsed": true,
    "deletable": true,
    "editable": true
   },
   "outputs": [],
   "source": [
    "r_bins=np.logspace(-1,np.log10(110),24)"
   ]
  },
  {
   "cell_type": "code",
   "execution_count": null,
   "metadata": {
    "collapsed": false,
    "deletable": true,
    "editable": true
   },
   "outputs": [],
   "source": []
  },
  {
   "cell_type": "code",
   "execution_count": null,
   "metadata": {
    "collapsed": false,
    "deletable": true,
    "editable": true
   },
   "outputs": [],
   "source": [
    "taper_kw=dict({'large_k_lower':10,'large_k_upper':kmax,'low_k_lower':kmin,'low_k_upper':kmin*1.2})"
   ]
  },
  {
   "cell_type": "code",
   "execution_count": null,
   "metadata": {
    "collapsed": false,
    "deletable": true,
    "editable": true
   },
   "outputs": [],
   "source": [
    "# Pgg x Pgammagamma\n",
    "r,cov_ggkk=HT.projected_covariance(k_pk=kh,pk1=p_g+g_shot_noise,pk2=p_kappa_kappa+shape_noise,j_nu=2,taper=True,**taper_kw)\n",
    "r_re,cov_ggkk_re=HT.bin_cov(r=r,cov=cov_ggkk,r_bins=r_bins)\n",
    "corr=HT.corr_matrix(cov=cov_ggkk_re)"
   ]
  },
  {
   "cell_type": "code",
   "execution_count": null,
   "metadata": {
    "collapsed": false,
    "deletable": true,
    "editable": true
   },
   "outputs": [],
   "source": [
    "# g gamma ^2\n",
    "r,cov_gkgk=HT.projected_covariance(k_pk=kh,pk1=p_gk,pk2=p_gk,\n",
    "                               kmax=100,rmin=.8,j_nu=2,rmax=110,n_zeros=3500)#return_Jrr=True,Jrr=Jrr\n",
    "cov_gkgk*=Dchi2\n",
    "r_re,cov_gkgk_re=HT.bin_cov(r=r,cov=cov_gkgk,r_bins=r_bins)\n",
    "corr=HT.corr_matrix(cov=cov_gkgk_re)"
   ]
  },
  {
   "cell_type": "code",
   "execution_count": null,
   "metadata": {
    "collapsed": false,
    "deletable": true,
    "editable": true
   },
   "outputs": [],
   "source": [
    "cov_final=(cov_ggkk_re+cov_gkgk_re)/vol\n",
    "corr=HT.corr_matrix(cov=cov_final)\n",
    "errors=HT.diagonal_err(cov=cov_final)"
   ]
  },
  {
   "cell_type": "code",
   "execution_count": null,
   "metadata": {
    "collapsed": false,
    "deletable": true,
    "editable": true
   },
   "outputs": [],
   "source": [
    "pcolor(r_re,r_re,corr,norm=LogNorm())\n",
    "colorbar()\n",
    "xscale('log')\n",
    "yscale('log')\n",
    "xlim(HT.rmin,HT.rmax)\n",
    "ylim(HT.rmin,HT.rmax)"
   ]
  },
  {
   "cell_type": "raw",
   "metadata": {
    "collapsed": true,
    "deletable": true,
    "editable": true
   },
   "source": [
    "error_qpm=np.genfromtxt('../data/qpm_DS_error_th.dat',names=True)"
   ]
  },
  {
   "cell_type": "code",
   "execution_count": null,
   "metadata": {
    "collapsed": false,
    "deletable": true,
    "editable": true
   },
   "outputs": [],
   "source": [
    "plot(r_re,r_re*errors,label='new')\n",
    "#plot(error_qpm['rp'],error_qpm['rp']*error_qpm['DS_err_gR'])\n",
    "xscale('log')\n",
    "yscale('log')\n",
    "legend()\n",
    "xlim(1,100)"
   ]
  },
  {
   "cell_type": "code",
   "execution_count": null,
   "metadata": {
    "collapsed": true,
    "deletable": true,
    "editable": true
   },
   "outputs": [],
   "source": []
  }
 ],
 "metadata": {
  "kernelspec": {
   "display_name": "Python 3",
   "language": "python",
   "name": "python3"
  },
  "language_info": {
   "codemirror_mode": {
    "name": "ipython",
    "version": 3
   },
   "file_extension": ".py",
   "mimetype": "text/x-python",
   "name": "python",
   "nbconvert_exporter": "python",
   "pygments_lexer": "ipython3",
   "version": "3.6.0"
  }
 },
 "nbformat": 4,
 "nbformat_minor": 0
}
