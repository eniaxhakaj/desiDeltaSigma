{
 "cells": [
  {
   "cell_type": "markdown",
   "metadata": {},
   "source": [
    "# Example 3: Galaxy-galaxy lensing "
   ]
  },
  {
   "cell_type": "markdown",
   "metadata": {},
   "source": [
    "In this example, we'll show how to calculate $\\Delta\\Sigma(r),$ the galaxy-galaxy lensing signal of a mock catalog.  "
   ]
  },
  {
   "cell_type": "code",
<<<<<<< HEAD
   "execution_count": 9,
   "metadata": {},
=======
   "execution_count": 26,
   "metadata": {
    "collapsed": false,
    "deletable": true,
    "editable": true
   },
>>>>>>> 39e6c2004bfd91a49245c81357913b0405d8e0d8
   "outputs": [],
   "source": [
    "#from halotools.empirical_models import PrebuiltSubhaloModelFactory\n",
    "#model = PrebuiltSubhaloModelFactory('behroozi10')\n",
    "\n",
    "from halotools.sim_manager import CachedHaloCatalog\n",
    "halocat = CachedHaloCatalog(simname='chinchilla', redshift=0.2, halo_finder='rockstar', version_name = 'Lb400-2048',\\\n",
    "                           dz_tol = 0.01, ptcl_version_name = 'Lb400-2048')\n",
    "#model.populate_mock(halocat)"
   ]
  },
  {
   "cell_type": "code",
<<<<<<< HEAD
   "execution_count": 10,
   "metadata": {},
=======
   "execution_count": 27,
   "metadata": {
    "collapsed": false
   },
>>>>>>> 39e6c2004bfd91a49245c81357913b0405d8e0d8
   "outputs": [],
   "source": [
    "import numpy as np\n",
    "galaxy_magnitudes = np.genfromtxt('gama_matched_catalog.npy')\n",
    "downsample_idxs = np.genfromtxt('gama_matched_catalog_idxs.npy')"
   ]
  },
  {
   "cell_type": "code",
   "execution_count": 28,
   "metadata": {
    "collapsed": false
   },
   "outputs": [],
   "source": [
    "downsample_idxs = downsample_idxs.astype(int)"
   ]
  },
  {
   "cell_type": "code",
   "execution_count": 29,
   "metadata": {
    "collapsed": false
   },
   "outputs": [],
   "source": [
    "#do the downsampling \n",
    "galaxy_magnitudes = galaxy_magnitudes[downsample_idxs]"
   ]
  },
  {
   "cell_type": "markdown",
   "metadata": {},
   "source": [
    "Predictions for galaxy-galaxy lensing are calculated from the cross-correlation between the galaxy positions and the dark matter density field. For the latter, we will use the dark patter particle positions stored in the `ptcl_table` attribute of the mock."
   ]
  },
  {
   "cell_type": "code",
<<<<<<< HEAD
   "execution_count": 11,
   "metadata": {},
=======
   "execution_count": 32,
   "metadata": {
    "collapsed": false,
    "deletable": true,
    "editable": true
   },
>>>>>>> 39e6c2004bfd91a49245c81357913b0405d8e0d8
   "outputs": [],
   "source": [
    "px = halocat.ptcl_table['x']\n",
    "py = halocat.ptcl_table['y']\n",
    "pz = halocat.ptcl_table['z']\n",
    "\n",
    "from halotools.mock_observables import return_xyz_formatted_array\n",
    "\n",
    "Nptcls_to_keep = int(5e4)\n",
    "randomizer = np.random.random(len(halocat.ptcl_table))\n",
    "sorted_randoms = np.sort(randomizer)\n",
    "ptcl_mask = np.where(sorted_randoms < sorted_randoms[Nptcls_to_keep])[0]\n",
    "particle_positions = return_xyz_formatted_array(px, py, pz, mask = ptcl_mask)"
   ]
  },
  {
   "cell_type": "markdown",
   "metadata": {},
   "source": [
    "Now we will extract the *x, y, z* positions of various subsamples of our galaxies "
   ]
  },
  {
   "cell_type": "raw",
   "metadata": {},
   "source": [
    "x = model.mock.galaxy_table['x']\n",
    "y = model.mock.galaxy_table['y']\n",
    "z = model.mock.galaxy_table['z']\n"
   ]
  },
  {
   "cell_type": "code",
   "execution_count": 34,
   "metadata": {
    "collapsed": false
   },
   "outputs": [],
   "source": [
    "#take them from our SHAM, not the mock\n",
    "magnitude_cut = galaxy_magnitudes < -19\n",
    "\n",
    "x = halocat.halo_table['halo_x'][downsample_idxs][magnitude_cut]\n",
    "y = halocat.halo_table['halo_y'][downsample_idxs][magnitude_cut]\n",
    "z = halocat.halo_table['halo_z'][downsample_idxs][magnitude_cut]"
   ]
  },
  {
   "cell_type": "raw",
   "metadata": {},
   "source": [
    "# NOTE we could do similar cuts for magnitude, or do a L -> mass conversion first! \n",
    "mstar11_mask = model.mock.galaxy_table['stellar_mass'] > 1e11\n",
    "mstar11_positions = return_xyz_formatted_array(x, y, z, mask = mstar11_mask)\n",
    "\n",
    "mstar105_mask = (model.mock.galaxy_table['stellar_mass'] > 10**10.3) & (model.mock.galaxy_table['stellar_mass'] < 10**10.7)\n",
    "mstar105_positions = return_xyz_formatted_array(x, y, z, mask = mstar105_mask)\n",
    "\n",
    "mstar105_central_mask = mstar105_mask * (model.mock.galaxy_table['halo_upid'] == -1)\n",
    "mstar105_central_positions = return_xyz_formatted_array(x, y, z, mask = mstar105_central_mask)\n",
    "\n",
    "mstar105_satellite_mask = mstar105_mask * (model.mock.galaxy_table['halo_upid'] != -1)\n",
    "mstar105_satellite_positions = return_xyz_formatted_array(x, y, z, mask = mstar105_satellite_mask)\n"
   ]
  },
  {
   "cell_type": "code",
   "execution_count": 35,
   "metadata": {
    "collapsed": true
   },
   "outputs": [],
   "source": [
    "all_positions = return_xyz_formatted_array(x,y,z)"
   ]
  },
  {
   "cell_type": "code",
<<<<<<< HEAD
   "execution_count": 14,
   "metadata": {},
=======
   "execution_count": 38,
   "metadata": {
    "collapsed": false,
    "deletable": true,
    "editable": true
   },
>>>>>>> 39e6c2004bfd91a49245c81357913b0405d8e0d8
   "outputs": [],
   "source": [
    "from halotools.mock_observables import delta_sigma\n",
    "\n",
    "rp_bins = np.logspace(-1,1,15)\n",
    "\n",
    "particle_masses = halocat.particle_mass\n",
    "period=halocat.Lbox[0]\n",
    "#downsampling_factor = (halocat.num_ptcl_per_dim**3)/float(len(particle_positions))\n",
    "downsampling_factor = Nptcls_to_keep"
   ]
  },
  {
   "cell_type": "raw",
   "metadata": {},
   "source": [
    "rp, result_mstar11_in_mpc = delta_sigma(mstar11_positions, particle_positions, \n",
    "                                     particle_masses, downsampling_factor,\n",
    "                                    rp_bins, period, cosmology=halocat.cosmology, num_threads='max')\n",
    "\n",
    "rp, result_mstar105_in_mpc = delta_sigma(mstar105_positions, particle_positions, \n",
    "                                     particle_masses, downsampling_factor,\n",
    "                                    rp_bins, period, cosmology=halocat.cosmology, num_threads='max')\n",
    "\n",
    "rp, result_mstar105_central_in_mpc = delta_sigma(mstar105_central_positions, particle_positions, \n",
    "                                     particle_masses, downsampling_factor,\n",
    "                                    rp_bins, period, cosmology=halocat.cosmology, num_threads='max')\n",
    "\n",
    "rp, result_mstar105_satellite_in_mpc = delta_sigma(mstar105_satellite_positions, particle_positions, \n",
    "                                     particle_masses, downsampling_factor,\n",
    "                                    rp_bins, period, cosmology=halocat.cosmology, num_threads='max')"
   ]
  },
  {
   "cell_type": "code",
<<<<<<< HEAD
   "execution_count": 15,
   "metadata": {},
=======
   "execution_count": 40,
   "metadata": {
    "collapsed": true
   },
   "outputs": [],
   "source": [
    "from astropy import cosmology\n",
    "cosmo =  cosmology.core.LambdaCDM(H0=100 * 0.7, Om0=0.286, Ode0=0.714)"
   ]
  },
  {
   "cell_type": "code",
   "execution_count": 41,
   "metadata": {
    "collapsed": false,
    "editable": true
   },
>>>>>>> 39e6c2004bfd91a49245c81357913b0405d8e0d8
   "outputs": [],
   "source": [
    "rp, result_all_in_mpc = delta_sigma(all_positions, particle_positions, \n",
    "                                     particle_masses, downsampling_factor,\n",
    "                                    rp_bins, period, cosmology= cosmo, num_threads='max')"
   ]
  },
  {
   "cell_type": "raw",
   "metadata": {},
   "source": [
    "length_unit_conversion = 1e6\n",
    "result_mstar11_in_pc = result_mstar11_in_mpc/length_unit_conversion**2\n",
    "result_mstar105_in_pc = result_mstar105_in_mpc/length_unit_conversion**2\n",
    "result_mstar105_satellite_in_pc = result_mstar105_satellite_in_mpc/length_unit_conversion**2\n",
    "result_mstar105_central_in_pc = result_mstar105_central_in_mpc/length_unit_conversion**2"
   ]
  },
  {
   "cell_type": "code",
   "execution_count": 42,
   "metadata": {
    "collapsed": true
   },
   "outputs": [],
   "source": [
    "length_unit_conversion = 1e6\n",
    "result_all_in_pc = result_all_in_mpc/length_unit_conversion**2"
   ]
  },
  {
   "cell_type": "code",
<<<<<<< HEAD
   "execution_count": 19,
   "metadata": {},
=======
   "execution_count": 43,
   "metadata": {
    "collapsed": false,
    "deletable": true,
    "editable": true
   },
>>>>>>> 39e6c2004bfd91a49245c81357913b0405d8e0d8
   "outputs": [],
   "source": [
    "from matplotlib import pyplot as plt\n",
    "%matplotlib inline"
   ]
  },
  {
   "cell_type": "raw",
   "metadata": {},
   "source": [
    "fig, ax = plt.subplots(1, 1, figsize=(8, 6))\n",
    "\n",
    "__=plt.loglog()\n",
    "\n",
    "__=ax.plot(rp, result_mstar11_in_pc, label=r'All galaxies: $M_{\\ast} > 10^{11}M_{\\odot}$')\n",
    "__=ax.plot(rp, result_mstar105_satellite_in_pc, label=r'Satellites: $M_{\\ast} \\approx 10^{10.5}M_{\\odot}$')\n",
    "__=ax.plot(rp, result_mstar105_in_pc, label=r'All galaxies: $M_{\\ast} \\approx 10^{10.5}M_{\\odot}$')\n",
    "__=ax.plot(rp, result_mstar105_central_in_pc, label=r'Centrals: $M_{\\ast} \\approx 10^{10.5}M_{\\odot}$')\n",
    "\n",
    "__=ax.set_xlim(xmin = 0.1, xmax = 10)\n",
    "__=ax.set_ylim(ymin = 0.5, ymax = 200)\n",
    "\n",
    "__=ax.set_xlabel(r'$R_{\\rm p} $  $\\rm{[Mpc / h]}$', fontsize=16)\n",
    "__=ax.set_ylabel(r'$\\Delta\\Sigma(R_{\\rm p})$  $[h M_{\\odot} / {\\rm pc}^2]$', fontsize=16)\n",
    "__=ax.legend(loc='best', fontsize=13)\n",
    "__=plt.xticks(fontsize=15); plt.yticks(fontsize=15) \n"
   ]
  },
  {
   "cell_type": "code",
<<<<<<< HEAD
   "execution_count": 20,
   "metadata": {},
=======
   "execution_count": 44,
   "metadata": {
    "collapsed": false,
    "editable": true
   },
>>>>>>> 39e6c2004bfd91a49245c81357913b0405d8e0d8
   "outputs": [
    {
     "data": {
      "text/plain": [
       "(array([  1.00000000e-02,   1.00000000e-01,   1.00000000e+00,\n",
       "          1.00000000e+01,   1.00000000e+02,   1.00000000e+03,\n",
       "          1.00000000e+04]), <a list of 7 Text yticklabel objects>)"
      ]
     },
     "execution_count": 44,
     "metadata": {},
     "output_type": "execute_result"
    },
    {
     "data": {
      "image/png": "iVBORw0KGgoAAAANSUhEUgAAAhYAAAGOCAYAAADLmkpgAAAABHNCSVQICAgIfAhkiAAAAAlwSFlz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\nDBaSJKk0BgtJklQag4UkSSrN/wevm4gwTWoXCAAAAABJRU5ErkJggg==\n",
      "text/plain": [
       "<matplotlib.figure.Figure at 0x7fef040c4b50>"
      ]
     },
     "metadata": {},
     "output_type": "display_data"
    }
   ],
   "source": [
    "fig, ax = plt.subplots(1, 1, figsize=(8, 6))\n",
    "\n",
    "__=plt.loglog()\n",
    "\n",
    "__=ax.plot(rp, result_all_in_pc, label=r'All galaxies$')\n",
    "\n",
    "__=ax.set_xlim(xmin = 0.1, xmax = 10)\n",
    "__=ax.set_ylim(ymin = 0.5, ymax = 200)\n",
    "\n",
    "__=ax.set_xlabel(r'$R_{\\rm p} $  $\\rm{[Mpc / h]}$', fontsize=16)\n",
    "__=ax.set_ylabel(r'$\\Delta\\Sigma(R_{\\rm p})$  $[h M_{\\odot} / {\\rm pc}^2]$', fontsize=16)\n",
    "__=ax.legend(loc='best', fontsize=13)\n",
    "__=plt.xticks(fontsize=15); plt.yticks(fontsize=15) \n"
   ]
  },
  {
   "cell_type": "code",
   "execution_count": null,
   "metadata": {
    "collapsed": true
   },
   "outputs": [],
   "source": []
  }
 ],
 "metadata": {
  "anaconda-cloud": {},
  "kernelspec": {
<<<<<<< HEAD
   "display_name": "Python 3",
=======
   "display_name": "Python [default]",
>>>>>>> 39e6c2004bfd91a49245c81357913b0405d8e0d8
   "language": "python",
   "name": "python3"
  },
  "language_info": {
   "codemirror_mode": {
    "name": "ipython",
    "version": 3
   },
   "file_extension": ".py",
   "mimetype": "text/x-python",
   "name": "python",
   "nbconvert_exporter": "python",
<<<<<<< HEAD
   "pygments_lexer": "ipython3",
   "version": "3.6.1"
=======
   "pygments_lexer": "ipython2",
   "version": "2.7.13"
>>>>>>> 39e6c2004bfd91a49245c81357913b0405d8e0d8
  }
 },
 "nbformat": 4,
 "nbformat_minor": 1
}
