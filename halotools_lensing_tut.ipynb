{
 "cells": [
  {
   "cell_type": "markdown",
   "metadata": {},
   "source": [
    "# Example 3: Galaxy-galaxy lensing "
   ]
  },
  {
   "cell_type": "markdown",
   "metadata": {},
   "source": [
    "In this example, we'll show how to calculate $\\Delta\\Sigma(r),$ the galaxy-galaxy lensing signal of a mock catalog.  "
   ]
  },
  {
   "cell_type": "code",
   "execution_count": 1,
   "metadata": {
    "collapsed": false
   },
   "outputs": [],
   "source": [
    "from halotools.empirical_models import PrebuiltSubhaloModelFactory\n",
    "model = PrebuiltSubhaloModelFactory('behroozi10')\n",
    "\n",
    "from halotools.sim_manager import CachedHaloCatalog\n",
    "halocat = CachedHaloCatalog(simname='chinchilla', redshift=0.2, halo_finder='rockstar', version_name = 'Lb400-2048',\\\n",
    "                           dz_tol = 0.01, ptcl_version_name = 'Lb400-2048')\n",
    "#model.populate_mock(halocat)\n",
    "\n",
    "#imports\n",
    "from glob import glob\n",
    "from os import path\n",
    "import numpy as np\n",
    "from halotools.sim_manager import CachedHaloCatalog, RockstarHlistReader, UserSuppliedPtclCatalog\n",
    "from helpers.readGadgetSnapshot import readGadgetSnapshot\n",
    "from AbundanceMatching import *"
   ]
  },
  {
   "cell_type": "raw",
   "metadata": {
    "collapsed": true
   },
   "source": [
    "#definitions for creation of catalog\n",
    "simname = 'chinchilla'\n",
    "Lbox = 400\n",
    "npart = 2048\n",
    "z = 0.2\n",
    "a = 1/(1+z)\n",
    "halo_finder = 'rockstar'\n",
    "pmass = 1.44390e+08*((Lbox / 125.0) ** 3) * ((1024.0/npart)** 3)\n",
    "version_name = 'Lb400-2048'"
   ]
  },
  {
   "cell_type": "raw",
   "metadata": {},
   "source": [
    "#manually create halo catalog\n",
    "from astropy.table import Table\n",
    "path_to_cache_local = '/Users/kipac-slac-loaner/Git/desiDeltaSigma/hlist_0.83.list.chinchilla_Lb400-2048.hdf5'\n",
    "t = Table.read(path_to_cache_local,  format='hdf5')\n",
    "from halotools.sim_manager import UserSuppliedHaloCatalog\n",
    "d = dict(zip(t.colnames, (t[n] for n in t.colnames)))\n",
    "halo_catalog = UserSuppliedHaloCatalog(redshift=z, Lbox=Lbox, particle_mass=pmass, **d)\n",
    "halo_cache_fname = './halo_cache.hdf5'\n",
    "halocat = halo_catalog"
   ]
  },
  {
   "cell_type": "code",
   "execution_count": 2,
   "metadata": {
    "collapsed": false
   },
   "outputs": [],
   "source": [
    "#time to trim\n",
    "galaxy_magnitudes = np.genfromtxt('gama_matched_catalog.npy')\n",
    "downsample_idxs = np.genfromtxt('gama_matched_catalog_idxs.npy')"
   ]
  },
  {
   "cell_type": "code",
   "execution_count": 3,
   "metadata": {
    "collapsed": true
   },
   "outputs": [],
   "source": [
    "downsample_idxs = downsample_idxs.astype(int)"
   ]
  },
  {
   "cell_type": "code",
   "execution_count": 4,
   "metadata": {
    "collapsed": true
   },
   "outputs": [],
   "source": [
    "#do the downsampling \n",
    "galaxy_magnitudes = galaxy_magnitudes[downsample_idxs]"
   ]
  },
  {
   "cell_type": "markdown",
   "metadata": {},
   "source": [
    "Predictions for galaxy-galaxy lensing are calculated from the cross-correlation between the galaxy positions and the dark matter density field. For the latter, we will use the dark patter particle positions stored in the `ptcl_table` attribute of the mock."
   ]
  },
  {
   "cell_type": "raw",
   "metadata": {
    "collapsed": true
   },
   "source": [
    "path_to_particles = '/Users/kipac-slac-loaner/Git/desiDeltaSigma/ptcl_catalog.npy' #update\n",
    "all_particles = np.loadtxt(path_to_particles)\n",
    "version_name = 'Lb%d-%d' % (int(Lbox), npart)\n",
    "ptclcat = UserSuppliedPtclCatalog(redshift=z, Lbox=Lbox, particle_mass=pmass,\\\n",
    "                                       x=all_particles[:,0], y=all_particles[:,1], z=all_particles[:,2])\n",
    "ptcl_cache_loc ='/Users/kipac-slac-loaner/Git/desiDeltaSigma/ptcl_cache_loc.hdf5' #update\n",
    "ptcl_cache_filename = ptcl_cache_loc # make sure we don't have redunancies.\n",
    "p=1e-3\n",
    "#ptcl_catalog.add_ptclcat_to_cache(ptcl_cache_filename, simname, version_name, 'p=%f'%p)\n"
   ]
  },
  {
   "cell_type": "raw",
   "metadata": {
    "collapsed": true
   },
   "source": [
    "import h5py \n",
    "ptcl_cat='/Users/kipac-slac-loaner/Git/desiDeltaSigma/ptcl_0.83.list.chinchilla_Lb400-2048.hdf5'\n",
    "pf = h5py.File(ptcl_cat)"
   ]
  },
  {
   "cell_type": "raw",
   "metadata": {
    "collapsed": true
   },
   "source": [
    "pdataset = pf['data']\n",
    "px = pdataset['x']\n",
    "py = pdataset['y']\n",
    "pz = pdataset['z']"
   ]
  },
  {
   "cell_type": "code",
   "execution_count": 6,
   "metadata": {
    "collapsed": false
   },
   "outputs": [],
   "source": [
    "px = halocat.ptcl_table['x']\n",
    "py = halocat.ptcl_table['y']\n",
    "pz = halocat.ptcl_table['z']"
   ]
  },
  {
   "cell_type": "code",
   "execution_count": 8,
   "metadata": {
    "collapsed": true
   },
   "outputs": [],
   "source": [
    "#px = ptclcat.ptcl_table['x']\n",
    "#py = ptclcat.ptcl_table['y']\n",
    "#pz = ptclcat.ptcl_table['z']\n",
    "import numpy as np\n",
    "from halotools.mock_observables import return_xyz_formatted_array\n",
    "\n",
    "Nptcls_to_keep = int(5e4)\n",
    "randomizer = np.random.random(len(px))\n",
    "sorted_randoms = np.sort(randomizer)\n",
    "ptcl_mask = np.where(sorted_randoms < sorted_randoms[Nptcls_to_keep])[0]\n",
    "particle_positions = return_xyz_formatted_array(px, py, pz, mask = ptcl_mask)"
   ]
  },
  {
   "cell_type": "markdown",
   "metadata": {},
   "source": [
    "Now we will extract the *x, y, z* positions of various subsamples of our galaxies "
   ]
  },
  {
   "cell_type": "raw",
   "metadata": {},
   "source": [
    "x = model.mock.galaxy_table['x']\n",
    "y = model.mock.galaxy_table['y']\n",
    "z = model.mock.galaxy_table['z']\n"
   ]
  },
  {
   "cell_type": "code",
   "execution_count": null,
   "metadata": {
    "collapsed": true
   },
   "outputs": [],
   "source": [
    "#take them from our SHAM, not the mock\n",
    "magnitude_cut1 = galaxy_magnitudes < -19\n",
    "magnitude_cut2 = galaxy_magnitudes < -20\n",
    "magnitude_cut3 = galaxy_magnitudes < -21\n",
    "magnitude_cut4 = galaxy_magnitudes < -22\n",
    "\n",
    "x1 = halocat.halo_table['halo_x'][downsample_idxs][magnitude_cut1]\n",
    "y1 = halocat.halo_table['halo_y'][downsample_idxs][magnitude_cut1]\n",
    "z1 = halocat.halo_table['halo_z'][downsample_idxs][magnitude_cut1]\n",
    "\n",
    "x2 = halocat.halo_table['halo_x'][downsample_idxs][magnitude_cut2]\n",
    "y2 = halocat.halo_table['halo_y'][downsample_idxs][magnitude_cut2]\n",
    "z2 = halocat.halo_table['halo_z'][downsample_idxs][magnitude_cut2]\n",
    "\n",
    "x3 = halocat.halo_table['halo_x'][downsample_idxs][magnitude_cut3]\n",
    "y3 = halocat.halo_table['halo_y'][downsample_idxs][magnitude_cut3]\n",
    "z3 = halocat.halo_table['halo_z'][downsample_idxs][magnitude_cut3]\n",
    "\n",
    "x4 = halocat.halo_table['halo_x'][downsample_idxs][magnitude_cut4]\n",
    "y4 = halocat.halo_table['halo_y'][downsample_idxs][magnitude_cut4]\n",
    "z4 = halocat.halo_table['halo_z'][downsample_idxs][magnitude_cut4]"
   ]
  },
  {
   "cell_type": "raw",
   "metadata": {},
   "source": [
    "# NOTE we could do similar cuts for magnitude, or do a L -> mass conversion first! \n",
    "mstar11_mask = model.mock.galaxy_table['stellar_mass'] > 1e11\n",
    "mstar11_positions = return_xyz_formatted_array(x, y, z, mask = mstar11_mask)\n",
    "\n",
    "mstar105_mask = (model.mock.galaxy_table['stellar_mass'] > 10**10.3) & (model.mock.galaxy_table['stellar_mass'] < 10**10.7)\n",
    "mstar105_positions = return_xyz_formatted_array(x, y, z, mask = mstar105_mask)\n",
    "\n",
    "mstar105_central_mask = mstar105_mask * (model.mock.galaxy_table['halo_upid'] == -1)\n",
    "mstar105_central_positions = return_xyz_formatted_array(x, y, z, mask = mstar105_central_mask)\n",
    "\n",
    "mstar105_satellite_mask = mstar105_mask * (model.mock.galaxy_table['halo_upid'] != -1)\n",
    "mstar105_satellite_positions = return_xyz_formatted_array(x, y, z, mask = mstar105_satellite_mask)\n"
   ]
  },
  {
   "cell_type": "code",
   "execution_count": null,
   "metadata": {
    "collapsed": true
   },
   "outputs": [],
   "source": [
    "#turn it into an array\n",
    "all_positions1 = return_xyz_formatted_array(x1,y1,z1)\n",
    "all_positions2 = return_xyz_formatted_array(x2,y2,z2)\n",
    "all_positions3 = return_xyz_formatted_array(x3,y3,z3)\n",
    "all_positions4 = return_xyz_formatted_array(x4,y4,z4)"
   ]
  },
  {
   "cell_type": "code",
   "execution_count": null,
   "metadata": {
    "collapsed": true
   },
   "outputs": [],
   "source": [
    "from halotools.mock_observables import delta_sigma\n",
    "\n",
    "rp_bins = np.logspace(-1,1,15)\n",
    "\n",
    "particle_masses = halocat.particle_mass\n",
    "period=halocat.Lbox[0]\n",
    "#downsampling_factor = (halocat.num_ptcl_per_dim**3)/float(len(particle_positions))\n",
    "downsampling_factor = Nptcls_to_keep"
   ]
  },
  {
   "cell_type": "raw",
   "metadata": {},
   "source": [
    "rp, result_mstar11_in_mpc = delta_sigma(mstar11_positions, particle_positions, \n",
    "                                     particle_masses, downsampling_factor,\n",
    "                                    rp_bins, period, cosmology=halocat.cosmology, num_threads='max')\n",
    "\n",
    "rp, result_mstar105_in_mpc = delta_sigma(mstar105_positions, particle_positions, \n",
    "                                     particle_masses, downsampling_factor,\n",
    "                                    rp_bins, period, cosmology=halocat.cosmology, num_threads='max')\n",
    "\n",
    "rp, result_mstar105_central_in_mpc = delta_sigma(mstar105_central_positions, particle_positions, \n",
    "                                     particle_masses, downsampling_factor,\n",
    "                                    rp_bins, period, cosmology=halocat.cosmology, num_threads='max')\n",
    "\n",
    "rp, result_mstar105_satellite_in_mpc = delta_sigma(mstar105_satellite_positions, particle_positions, \n",
    "                                     particle_masses, downsampling_factor,\n",
    "                                    rp_bins, period, cosmology=halocat.cosmology, num_threads='max')"
   ]
  },
  {
   "cell_type": "code",
   "execution_count": null,
   "metadata": {
    "collapsed": true
   },
   "outputs": [],
   "source": [
    "from astropy import cosmology\n",
    "cosmo =  cosmology.core.LambdaCDM(H0=100 * 0.7, Om0=0.286, Ode0=0.714)"
   ]
  },
  {
   "cell_type": "code",
   "execution_count": null,
   "metadata": {
    "collapsed": true
   },
   "outputs": [],
   "source": [
    "rp, result_all_in_mpc1 = delta_sigma(all_positions1, particle_positions, \n",
    "                                     particle_masses, downsampling_factor,\n",
    "                                    rp_bins, period, cosmology= cosmo, num_threads='max')\n",
    "rp, result_all_in_mpc2 = delta_sigma(all_positions2, particle_positions, \n",
    "                                     particle_masses, downsampling_factor,\n",
    "                                    rp_bins, period, cosmology= cosmo, num_threads='max')\n",
    "rp, result_all_in_mpc3 = delta_sigma(all_positions3, particle_positions, \n",
    "                                     particle_masses, downsampling_factor,\n",
    "                                    rp_bins, period, cosmology= cosmo, num_threads='max')\n",
    "rp, result_all_in_mpc4 = delta_sigma(all_positions4, particle_positions, \n",
    "                                     particle_masses, downsampling_factor,\n",
    "                                    rp_bins, period, cosmology= cosmo, num_threads='max')"
   ]
  },
  {
   "cell_type": "raw",
   "metadata": {},
   "source": [
    "length_unit_conversion = 1e6\n",
    "result_mstar11_in_pc = result_mstar11_in_mpc/length_unit_conversion**2\n",
    "result_mstar105_in_pc = result_mstar105_in_mpc/length_unit_conversion**2\n",
    "result_mstar105_satellite_in_pc = result_mstar105_satellite_in_mpc/length_unit_conversion**2\n",
    "result_mstar105_central_in_pc = result_mstar105_central_in_mpc/length_unit_conversion**2"
   ]
  },
  {
   "cell_type": "code",
   "execution_count": null,
   "metadata": {
    "collapsed": true
   },
   "outputs": [],
   "source": [
    "length_unit_conversion = 1e6\n",
    "result_all_in_pc1 = result_all_in_mpc1/length_unit_conversion**2\n",
    "result_all_in_pc2 = result_all_in_mpc2/length_unit_conversion**2\n",
    "result_all_in_pc3 = result_all_in_mpc3/length_unit_conversion**2\n",
    "result_all_in_pc4 = result_all_in_mpc4/length_unit_conversion**2"
   ]
  },
  {
   "cell_type": "code",
   "execution_count": null,
   "metadata": {
    "collapsed": true
   },
   "outputs": [],
   "source": [
    "from matplotlib import pyplot as plt\n",
    "%matplotlib inline"
   ]
  },
  {
   "cell_type": "raw",
   "metadata": {},
   "source": [
    "fig, ax = plt.subplots(1, 1, figsize=(8, 6))\n",
    "\n",
    "__=plt.loglog()\n",
    "\n",
    "__=ax.plot(rp, result_mstar11_in_pc, label=r'All galaxies: $M_{\\ast} > 10^{11}M_{\\odot}$')\n",
    "__=ax.plot(rp, result_mstar105_satellite_in_pc, label=r'Satellites: $M_{\\ast} \\approx 10^{10.5}M_{\\odot}$')\n",
    "__=ax.plot(rp, result_mstar105_in_pc, label=r'All galaxies: $M_{\\ast} \\approx 10^{10.5}M_{\\odot}$')\n",
    "__=ax.plot(rp, result_mstar105_central_in_pc, label=r'Centrals: $M_{\\ast} \\approx 10^{10.5}M_{\\odot}$')\n",
    "\n",
    "__=ax.set_xlim(xmin = 0.1, xmax = 10)\n",
    "__=ax.set_ylim(ymin = 0.5, ymax = 200)\n",
    "\n",
    "__=ax.set_xlabel(r'$R_{\\rm p} $  $\\rm{[Mpc / h]}$', fontsize=16)\n",
    "__=ax.set_ylabel(r'$\\Delta\\Sigma(R_{\\rm p})$  $[h M_{\\odot} / {\\rm pc}^2]$', fontsize=16)\n",
    "__=ax.legend(loc='best', fontsize=13)\n",
    "__=plt.xticks(fontsize=15); plt.yticks(fontsize=15) \n"
   ]
  },
  {
   "cell_type": "code",
   "execution_count": null,
   "metadata": {
    "collapsed": false
   },
   "outputs": [],
   "source": [
    "#plot it\n",
    "fig, ax = plt.subplots(1, 1, figsize=(8, 6))\n",
    "\n",
    "__=plt.loglog()\n",
    "\n",
    "__=ax.plot(rp, result_all_in_pc1, label=r'All galaxies magnitudes < -19')\n",
    "__=ax.plot(rp, result_all_in_pc2, label=r'All galaxies magnitudes < -20')\n",
    "__=ax.plot(rp, result_all_in_pc3, label=r'All galaxies magnitudes < -21')\n",
    "__=ax.plot(rp, result_all_in_pc4, label=r'All galaxies magnitudes < -22')\n",
    "\n",
    "__=ax.set_xlim(xmin = 0.1, xmax = 10)\n",
    "__=ax.set_ylim(ymin = 0.5, ymax = 200)\n",
    "\n",
    "__=ax.set_xlabel(r'$R_{\\rm p} $  $\\rm{[Mpc / h]}$', fontsize=16)\n",
    "__=ax.set_ylabel(r'$\\Delta\\Sigma(R_{\\rm p})$  $[h M_{\\odot} / {\\rm pc}^2]$', fontsize=16)\n",
    "__=ax.legend(loc='best', fontsize=13)\n",
    "__=plt.xticks(fontsize=15); plt.yticks(fontsize=15) \n"
   ]
  },
  {
   "cell_type": "code",
   "execution_count": null,
   "metadata": {
    "collapsed": true
   },
   "outputs": [],
   "source": []
  }
 ],
 "metadata": {
  "anaconda-cloud": {},
  "kernelspec": {
   "display_name": "Python [conda env:hodemulator]",
   "language": "python",
   "name": "conda-env-hodemulator-py"
  },
  "language_info": {
   "codemirror_mode": {
    "name": "ipython",
    "version": 2
   },
   "file_extension": ".py",
   "mimetype": "text/x-python",
   "name": "python",
   "nbconvert_exporter": "python",
   "pygments_lexer": "ipython2",
   "version": "2.7.13"
  }
 },
 "nbformat": 4,
 "nbformat_minor": 1
}
