{
 "cells": [
  {
   "cell_type": "markdown",
   "metadata": {
    "deletable": true,
    "editable": true
   },
   "source": [
    "# Example 3: Galaxy-galaxy lensing "
   ]
  },
  {
   "cell_type": "markdown",
   "metadata": {
    "deletable": true,
    "editable": true
   },
   "source": [
    "In this example, we'll show how to calculate $\\Delta\\Sigma(r),$ the galaxy-galaxy lensing signal of a mock catalog.  "
   ]
  },
  {
   "cell_type": "code",
   "execution_count": 9,
   "metadata": {
    "collapsed": false,
    "deletable": true,
    "editable": true
   },
   "outputs": [],
   "source": [
    "#from halotools.empirical_models import PrebuiltSubhaloModelFactory\n",
    "#model = PrebuiltSubhaloModelFactory('behroozi10')\n",
    "\n",
    "from halotools.sim_manager import CachedHaloCatalog\n",
    "halocat = CachedHaloCatalog(simname='bolshoi', redshift=0, halo_finder='rockstar')\n",
    "#model.populate_mock(halocat)"
   ]
  },
  {
   "cell_type": "code",
   "execution_count": 10,
   "metadata": {
    "collapsed": false
   },
   "outputs": [],
   "source": [
    "import numpy as np\n",
    "galaxy_magnitudes  = np.loadtxt('sham_catalog.npy')"
   ]
  },
  {
   "cell_type": "markdown",
   "metadata": {
    "deletable": true,
    "editable": true
   },
   "source": [
    "Predictions for galaxy-galaxy lensing are calculated from the cross-correlation between the galaxy positions and the dark matter density field. For the latter, we will use the dark patter particle positions stored in the `ptcl_table` attribute of the mock."
   ]
  },
  {
   "cell_type": "code",
   "execution_count": 11,
   "metadata": {
    "collapsed": false,
    "deletable": true,
    "editable": true
   },
   "outputs": [],
   "source": [
    "px = halocat.ptcl_table['x']\n",
    "py = halocat.ptcl_table['y']\n",
    "pz = halocat.ptcl_table['z']\n",
    "\n",
    "from halotools.mock_observables import return_xyz_formatted_array\n",
    "\n",
    "Nptcls_to_keep = int(5e5)\n",
    "randomizer = np.random.random(len(halocat.ptcl_table))\n",
    "sorted_randoms = np.sort(randomizer)\n",
    "ptcl_mask = np.where(sorted_randoms < sorted_randoms[Nptcls_to_keep])[0]\n",
    "particle_positions = return_xyz_formatted_array(px, py, pz, mask = ptcl_mask)"
   ]
  },
  {
   "cell_type": "markdown",
   "metadata": {
    "deletable": true,
    "editable": true
   },
   "source": [
    "Now we will extract the *x, y, z* positions of various subsamples of our galaxies "
   ]
  },
  {
   "cell_type": "raw",
   "metadata": {
    "collapsed": false,
    "deletable": true,
    "editable": true
   },
   "source": [
    "x = model.mock.galaxy_table['x']\n",
    "y = model.mock.galaxy_table['y']\n",
    "z = model.mock.galaxy_table['z']\n"
   ]
  },
  {
   "cell_type": "code",
   "execution_count": 12,
   "metadata": {
    "collapsed": true
   },
   "outputs": [],
   "source": [
    "#take them from our SHAM, not the mock\n",
    "magnitude_cut = galaxy_magnitudes < -19\n",
    "\n",
    "x = halocat.halo_table['halo_x'][magnitude_cut]\n",
    "y = halocat.halo_table['halo_y'][magnitude_cut]\n",
    "z = halocat.halo_table['halo_z'][magnitude_cut]"
   ]
  },
  {
   "cell_type": "raw",
   "metadata": {
    "collapsed": false,
    "deletable": true,
    "editable": true
   },
   "source": [
    "# NOTE we could do similar cuts for magnitude, or do a L -> mass conversion first! \n",
    "mstar11_mask = model.mock.galaxy_table['stellar_mass'] > 1e11\n",
    "mstar11_positions = return_xyz_formatted_array(x, y, z, mask = mstar11_mask)\n",
    "\n",
    "mstar105_mask = (model.mock.galaxy_table['stellar_mass'] > 10**10.3) & (model.mock.galaxy_table['stellar_mass'] < 10**10.7)\n",
    "mstar105_positions = return_xyz_formatted_array(x, y, z, mask = mstar105_mask)\n",
    "\n",
    "mstar105_central_mask = mstar105_mask * (model.mock.galaxy_table['halo_upid'] == -1)\n",
    "mstar105_central_positions = return_xyz_formatted_array(x, y, z, mask = mstar105_central_mask)\n",
    "\n",
    "mstar105_satellite_mask = mstar105_mask * (model.mock.galaxy_table['halo_upid'] != -1)\n",
    "mstar105_satellite_positions = return_xyz_formatted_array(x, y, z, mask = mstar105_satellite_mask)\n"
   ]
  },
  {
   "cell_type": "code",
   "execution_count": 13,
   "metadata": {
    "collapsed": true
   },
   "outputs": [],
   "source": [
    "all_positions = return_xyz_formatted_array(x,y,z)"
   ]
  },
  {
   "cell_type": "code",
   "execution_count": 14,
   "metadata": {
    "collapsed": false,
    "deletable": true,
    "editable": true
   },
   "outputs": [],
   "source": [
    "from halotools.mock_observables import delta_sigma\n",
    "\n",
    "rp_bins = np.logspace(-1,1,15)\n",
    "\n",
    "particle_masses = halocat.particle_mass\n",
    "period=halocat.Lbox[0]\n",
    "downsampling_factor = (halocat.num_ptcl_per_dim**3)/float(len(particle_positions))"
   ]
  },
  {
   "cell_type": "raw",
   "metadata": {
    "collapsed": false,
    "deletable": true,
    "editable": true
   },
   "source": [
    "rp, result_mstar11_in_mpc = delta_sigma(mstar11_positions, particle_positions, \n",
    "                                     particle_masses, downsampling_factor,\n",
    "                                    rp_bins, period, cosmology=halocat.cosmology, num_threads='max')\n",
    "\n",
    "rp, result_mstar105_in_mpc = delta_sigma(mstar105_positions, particle_positions, \n",
    "                                     particle_masses, downsampling_factor,\n",
    "                                    rp_bins, period, cosmology=halocat.cosmology, num_threads='max')\n",
    "\n",
    "rp, result_mstar105_central_in_mpc = delta_sigma(mstar105_central_positions, particle_positions, \n",
    "                                     particle_masses, downsampling_factor,\n",
    "                                    rp_bins, period, cosmology=halocat.cosmology, num_threads='max')\n",
    "\n",
    "rp, result_mstar105_satellite_in_mpc = delta_sigma(mstar105_satellite_positions, particle_positions, \n",
    "                                     particle_masses, downsampling_factor,\n",
    "                                    rp_bins, period, cosmology=halocat.cosmology, num_threads='max')"
   ]
  },
  {
   "cell_type": "code",
   "execution_count": 15,
   "metadata": {
    "collapsed": false,
    "editable": true
   },
   "outputs": [],
   "source": [
    "rp, result_all_in_mpc = delta_sigma(all_positions, particle_positions, \n",
    "                                     particle_masses, downsampling_factor,\n",
    "                                    rp_bins, period, cosmology=halocat.cosmology, num_threads='max')"
   ]
  },
  {
   "cell_type": "raw",
   "metadata": {
    "collapsed": false,
    "deletable": true,
    "editable": true
   },
   "source": [
    "length_unit_conversion = 1e6\n",
    "result_mstar11_in_pc = result_mstar11_in_mpc/length_unit_conversion**2\n",
    "result_mstar105_in_pc = result_mstar105_in_mpc/length_unit_conversion**2\n",
    "result_mstar105_satellite_in_pc = result_mstar105_satellite_in_mpc/length_unit_conversion**2\n",
    "result_mstar105_central_in_pc = result_mstar105_central_in_mpc/length_unit_conversion**2"
   ]
  },
  {
   "cell_type": "code",
   "execution_count": 16,
   "metadata": {
    "collapsed": true,
    "editable": true
   },
   "outputs": [],
   "source": [
    "length_unit_conversion = 1e6\n",
    "result_all_in_pc = result_all_in_mpc/length_unit_conversion**2"
   ]
  },
  {
   "cell_type": "code",
   "execution_count": 19,
   "metadata": {
    "collapsed": false,
    "deletable": true,
    "editable": true
   },
   "outputs": [],
   "source": [
    "from matplotlib import pyplot as plt\n",
    "%matplotlib inline"
   ]
  },
  {
   "cell_type": "raw",
   "metadata": {
    "collapsed": false,
    "deletable": true,
    "editable": true
   },
   "source": [
    "fig, ax = plt.subplots(1, 1, figsize=(8, 6))\n",
    "\n",
    "__=plt.loglog()\n",
    "\n",
    "__=ax.plot(rp, result_mstar11_in_pc, label=r'All galaxies: $M_{\\ast} > 10^{11}M_{\\odot}$')\n",
    "__=ax.plot(rp, result_mstar105_satellite_in_pc, label=r'Satellites: $M_{\\ast} \\approx 10^{10.5}M_{\\odot}$')\n",
    "__=ax.plot(rp, result_mstar105_in_pc, label=r'All galaxies: $M_{\\ast} \\approx 10^{10.5}M_{\\odot}$')\n",
    "__=ax.plot(rp, result_mstar105_central_in_pc, label=r'Centrals: $M_{\\ast} \\approx 10^{10.5}M_{\\odot}$')\n",
    "\n",
    "__=ax.set_xlim(xmin = 0.1, xmax = 10)\n",
    "__=ax.set_ylim(ymin = 0.5, ymax = 200)\n",
    "\n",
    "__=ax.set_xlabel(r'$R_{\\rm p} $  $\\rm{[Mpc / h]}$', fontsize=16)\n",
    "__=ax.set_ylabel(r'$\\Delta\\Sigma(R_{\\rm p})$  $[h M_{\\odot} / {\\rm pc}^2]$', fontsize=16)\n",
    "__=ax.legend(loc='best', fontsize=13)\n",
    "__=plt.xticks(fontsize=15); plt.yticks(fontsize=15) \n"
   ]
  },
  {
   "cell_type": "code",
   "execution_count": 20,
   "metadata": {
    "collapsed": false,
    "editable": true
   },
   "outputs": [
    {
     "data": {
      "text/plain": [
       "(array([  1.00000000e-02,   1.00000000e-01,   1.00000000e+00,\n",
       "          1.00000000e+01,   1.00000000e+02,   1.00000000e+03,\n",
       "          1.00000000e+04]), <a list of 7 Text yticklabel objects>)"
      ]
     },
     "execution_count": 20,
     "metadata": {},
     "output_type": "execute_result"
    },
    {
     "data": {
      "image/png": "[encoded data removed]",
      "text/plain": [
       "<matplotlib.figure.Figure at 0x7fa51886e910>"
      ]
     },
     "metadata": {},
     "output_type": "display_data"
    }
   ],
   "source": [
    "fig, ax = plt.subplots(1, 1, figsize=(8, 6))\n",
    "\n",
    "__=plt.loglog()\n",
    "\n",
    "__=ax.plot(rp, result_all_in_pc, label=r'All galaxies$')\n",
    "\n",
    "__=ax.set_xlim(xmin = 0.1, xmax = 10)\n",
    "__=ax.set_ylim(ymin = 0.5, ymax = 200)\n",
    "\n",
    "__=ax.set_xlabel(r'$R_{\\rm p} $  $\\rm{[Mpc / h]}$', fontsize=16)\n",
    "__=ax.set_ylabel(r'$\\Delta\\Sigma(R_{\\rm p})$  $[h M_{\\odot} / {\\rm pc}^2]$', fontsize=16)\n",
    "__=ax.legend(loc='best', fontsize=13)\n",
    "__=plt.xticks(fontsize=15); plt.yticks(fontsize=15) \n"
   ]
  },
  {
   "cell_type": "code",
   "execution_count": null,
   "metadata": {
    "collapsed": true
   },
   "outputs": [],
   "source": []
  }
 ],
 "metadata": {
  "anaconda-cloud": {},
  "kernelspec": {
   "display_name": "Python 2",
   "language": "python",
   "name": "python2"
  },
  "language_info": {
   "codemirror_mode": {
    "name": "ipython",
    "version": 2
   },
   "file_extension": ".py",
   "mimetype": "text/x-python",
   "name": "python",
   "nbconvert_exporter": "python",
   "pygments_lexer": "ipython2",
   "version": "2.7.6"
  }
 },
 "nbformat": 4,
 "nbformat_minor": 0
}
