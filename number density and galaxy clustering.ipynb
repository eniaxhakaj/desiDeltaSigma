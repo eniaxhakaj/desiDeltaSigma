{
 "cells": [
  {
   "cell_type": "code",
   "execution_count": 105,
   "metadata": {
    "collapsed": true
   },
   "outputs": [],
   "source": [
    "#imports\n",
    "from glob import glob\n",
    "from os import path\n",
    "import numpy as np\n",
    "from halotools.sim_manager import CachedHaloCatalog, RockstarHlistReader, UserSuppliedPtclCatalog\n",
    "from helpers.readGadgetSnapshot import readGadgetSnapshot\n",
    "from AbundanceMatching import *\n",
    "from astropy.cosmology import Planck15"
   ]
  },
  {
   "cell_type": "code",
   "execution_count": 106,
   "metadata": {
    "collapsed": true
   },
   "outputs": [],
   "source": [
    "#definitions for creation of catalog\n",
    "simname = 'chinchilla'\n",
    "Lbox = 400\n",
    "npart = 2048\n",
    "z = 0.2\n",
    "a = 1/(1+z)\n",
    "halo_finder = 'rockstar'\n",
    "pmass = 1.44390e+08*((Lbox / 125.0) ** 3) * ((1024.0/npart)** 3)\n",
    "version_name = 'Lb400-2048'"
   ]
  },
  {
   "cell_type": "code",
   "execution_count": 107,
   "metadata": {},
   "outputs": [
    {
     "name": "stderr",
     "output_type": "stream",
     "text": [
      "WARNING: path= was not specified but multiple tables are present, reading in first available table (path=data) [astropy.io.misc.hdf5]\n"
     ]
    }
   ],
   "source": [
    "#manually create halo catalog\n",
    "from astropy.table import Table\n",
    "path_to_cache_local = '/Users/kipac-slac-loaner/Git/desiDeltaSigma/hlist_0.83.list.chinchilla_Lb400-2048.hdf5'\n",
    "t = Table.read(path_to_cache_local,  format='hdf5')\n",
    "from halotools.sim_manager import UserSuppliedHaloCatalog\n",
    "d = dict(zip(t.colnames, (t[n] for n in t.colnames)))\n",
    "halo_catalog = UserSuppliedHaloCatalog(redshift=z, Lbox=Lbox, particle_mass=pmass, **d)\n",
    "halo_cache_fname = './halo_cache.hdf5'\n",
    "halocat = halo_catalog"
   ]
  },
  {
   "cell_type": "code",
   "execution_count": null,
   "metadata": {
    "collapsed": true
   },
   "outputs": [],
   "source": [
    "#calculate two point galaxy clustering\n",
    "galaxy_magnitudes = np.genfromtxt('gama_matched_catalog.npy')\n",
    "downsample_idxs = np.genfromtxt('gama_matched_catalog_idxs.npy')\n",
    "downsample_idxs = downsample_idxs.astype(int)\n",
    "#do the downsampling \n",
    "galaxy_magnitudes = galaxy_magnitudes[downsample_idxs]\n",
    "magnitude_cut = galaxy_magnitudes < -19"
   ]
  },
  {
   "cell_type": "code",
   "execution_count": 136,
   "metadata": {
    "collapsed": true
   },
   "outputs": [],
   "source": [
    "\n",
    "x = halocat.halo_table['halo_x'][downsample_idxs][magnitude_cut]*0.7\n",
    "y = halocat.halo_table['halo_y'][downsample_idxs][magnitude_cut]*0.7\n",
    "z = halocat.halo_table['halo_z'][downsample_idxs][magnitude_cut]*0.7\n",
    "\n",
    "from halotools.mock_observables import return_xyz_formatted_array, tpcf\n",
    "import numpy as np\n",
    "pos=return_xyz_formatted_array(x, y, z)\n",
    "#rbins=np.logspace(-1, 1.25, 15) #change to bins from sean\n",
    "binedges   = np.loadtxt('/Users/kipac-slac-loaner/Git/desiDeltaSigma/binfile')\n",
    "rbins      = np.zeros(len(binedges)+1)\n",
    "rbins[:-1] = binedges[:,0]\n",
    "rbins[-1]  = binedges[-1,1]\n",
    "rbin_centers = (rbins[1:] + rbins[:-1])/2.\n",
    "xi_all=tpcf(pos, rbins, period=halocat.Lbox*0.7, num_threads='max')"
   ]
  },
  {
   "cell_type": "code",
   "execution_count": 132,
   "metadata": {},
   "outputs": [
    {
     "data": {
      "text/plain": [
       "array([ 400.,  400.,  400.])"
      ]
     },
     "execution_count": 132,
     "metadata": {},
     "output_type": "execute_result"
    }
   ],
   "source": [
    "halocat.Lbox"
   ]
  },
  {
   "cell_type": "code",
   "execution_count": 124,
   "metadata": {},
   "outputs": [
    {
     "data": {
      "text/latex": [
       "$0.6774 \\; \\mathrm{\\frac{km}{Mpc\\,s}}$"
      ],
      "text/plain": [
       "<Quantity 0.6773999999999998 km / (Mpc s)>"
      ]
     },
     "execution_count": 124,
     "metadata": {},
     "output_type": "execute_result"
    }
   ],
   "source": [
    "Planck15.H(0)/100"
   ]
  },
  {
   "cell_type": "code",
   "execution_count": 121,
   "metadata": {},
   "outputs": [
    {
     "data": {
      "text/plain": [
       "array([[  93.74456787,  114.76196289,  356.83901978],\n",
       "       [  93.47570038,  115.70175934,  356.78915405],\n",
       "       [ 187.06297302,  168.60211182,  217.13090515],\n",
       "       ..., \n",
       "       [ 138.35105896,  105.69011688,  256.23590088],\n",
       "       [ 531.3449707 ,  113.44490051,  446.61480713],\n",
       "       [ 221.86425781,  120.83715057,  413.35928345]], dtype=float32)"
      ]
     },
     "execution_count": 121,
     "metadata": {},
     "output_type": "execute_result"
    }
   ],
   "source": [
    "pos"
   ]
  },
  {
   "cell_type": "code",
   "execution_count": 109,
   "metadata": {
    "collapsed": true
   },
   "outputs": [],
   "source": [
    "#decomposition into 1-halo and 2-halo terms\n",
    "from halotools.mock_observables import tpcf_one_two_halo_decomp \n",
    "halo_hostid=halocat.halo_table['halo_hostid'][downsample_idxs][magnitude_cut]\n",
    "\n",
    "xi_1h, xi_2h = tpcf_one_two_halo_decomp(pos,\n",
    "                halo_hostid, rbins, \n",
    "                period = halocat.Lbox,\n",
    "                num_threads='max')"
   ]
  },
  {
   "cell_type": "code",
   "execution_count": 110,
   "metadata": {},
   "outputs": [
    {
     "data": {
      "image/png": "[encoded data removed]",
      "text/plain": [
       "<matplotlib.figure.Figure at 0x345e43320>"
      ]
     },
     "metadata": {},
     "output_type": "display_data"
    }
   ],
   "source": [
    "#lets plot the results! \n",
    "from seaborn import plt\n",
    "\n",
    "plt.plot(rbin_centers, xi_all,\n",
    "         label='All galaxies', color='k')\n",
    "plt.plot(rbin_centers, xi_1h,\n",
    "         label = '1-halo term')\n",
    "plt.plot(rbin_centers, xi_2h,\n",
    "         label = '2-halo term')\n",
    "\n",
    "#plt.xlim(xmin = 0.1, xmax = 10)\n",
    "#plt.ylim(ymin = 1, ymax = 1e3)\n",
    "plt.loglog()\n",
    "plt.xticks(fontsize=20)\n",
    "plt.yticks(fontsize=20)\n",
    "plt.xlabel(r'$r $  $\\rm{[Mpc]}$', fontsize=25)\n",
    "plt.ylabel(r'$\\xi_{\\rm gg}(r)$', fontsize=25)\n",
    "plt.legend(loc='best', fontsize=20)\n",
    "\n",
    "plt.show()\n",
    "\n",
    "#mat_clust=np.load(filename)\n",
    "#bias=gal_clus/matter(xi_all)\n"
   ]
  },
  {
   "cell_type": "code",
   "execution_count": 111,
   "metadata": {},
   "outputs": [
    {
     "name": "stdout",
     "output_type": "stream",
     "text": [
      "0.00074634375\n"
     ]
    }
   ],
   "source": [
    "#number density\n",
    "table=halocat.halo_table[downsample_idxs][magnitude_cut]\n",
    "num_dens=len(table)/Lbox**3\n",
    "print(num_dens)"
   ]
  },
  {
   "cell_type": "code",
   "execution_count": 112,
   "metadata": {},
   "outputs": [
    {
     "data": {
      "image/png": "[encoded data removed]",
      "text/plain": [
       "<matplotlib.figure.Figure at 0x173c20e48>"
      ]
     },
     "metadata": {},
     "output_type": "display_data"
    }
   ],
   "source": [
    "#mass number density\n",
    "from matplotlib import pyplot as plt\n",
    "from __future__ import division\n",
    "%matplotlib inline\n",
    "plt.xscale('log')\n",
    "plt.yscale('log')\n",
    "plt.ylabel('Number Density')\n",
    "plt.xlabel('Mass')\n",
    "halo_mass=halocat.halo_table['halo_mvir']\n",
    "plt.hist(halo_mass, bins=np.logspace(12,15,20), weights=np.ones(len(halo_mass))/Lbox**3);"
   ]
  },
  {
   "cell_type": "code",
   "execution_count": 113,
   "metadata": {
    "scrolled": true
   },
   "outputs": [
    {
     "name": "stdout",
     "output_type": "stream",
     "text": [
      "[  6.97235527e+02   4.29034563e+02   2.84079376e+02   1.73796437e+02\n",
      "   9.28150724e+01   4.68972284e+01   2.55654513e+01   1.31321206e+01\n",
      "   6.47516977e+00   3.00803659e+00   1.39326979e+00   5.24621086e-01\n",
      "   1.35114155e-01  -1.20689650e-01  -2.65100518e-01  -3.67095565e-01\n",
      "  -4.29524783e-01  -4.70028137e-01  -5.03815149e-01]\n",
      "[  2.82648560e+02   1.87237152e+02   1.19691269e+02   7.31605911e+01\n",
      "   4.25091133e+01   2.32483139e+01   1.19420557e+01   5.86836338e+00\n",
      "   2.91325474e+00   1.57302713e+00   9.31498408e-01   5.64875603e-01\n",
      "   3.42031002e-01   1.95021987e-01   1.09310627e-01   5.79545498e-02\n",
      "   2.79442072e-02   1.09969378e-02   3.41403484e-03]\n"
     ]
    }
   ],
   "source": [
    "#matter clustering\n",
    "xi_mm = np.loadtxt('xi_ch400_92_medRes.npy', delimiter=',')\n",
    "xi_m=xi_mm[:,3]\n",
    "print(xi_all)\n",
    "print(xi_m)"
   ]
  },
  {
   "cell_type": "code",
   "execution_count": 147,
   "metadata": {},
   "outputs": [
    {
     "name": "stderr",
     "output_type": "stream",
     "text": [
      "/Users/kipac-slac-loaner/anaconda/lib/python3.6/site-packages/matplotlib/axes/_axes.py:545: UserWarning: No labelled objects found. Use label='...' kwarg on individual plots.\n",
      "  warnings.warn(\"No labelled objects found. \"\n"
     ]
    },
    {
     "data": {
      "image/png": "[encoded data removed]",
      "text/plain": [
       "<matplotlib.figure.Figure at 0x22f82b6d8>"
      ]
     },
     "metadata": {},
     "output_type": "display_data"
    },
    {
     "name": "stdout",
     "output_type": "stream",
     "text": [
      "[ 1.68822154  1.58152927  1.44027524  1.3273722   1.2735458   1.26676871\n",
      "  1.23706481  1.25557602  1.3231474   1.33636828  1.35508697  1.34719304\n",
      "  1.34269852  1.33029486  1.32477283  1.32812237  1.3246379   1.32017176\n",
      "  1.24997376]\n"
     ]
    }
   ],
   "source": [
    "#BIAS TIME!!\n",
    "bias=np.sqrt(xi_all/xi_m)\n",
    "plt.plot(rbin_centers, bias)\n",
    "plt.xticks(fontsize=20)\n",
    "plt.yticks(fontsize=20)\n",
    "plt.xscale('linear')\n",
    "plt.yscale('linear')\n",
    "#plt.xlim(xmin = 0.1, xmax = 10)\n",
    "plt.ylim(ymin = 1, ymax = 2)\n",
    "plt.xlabel(r'$r $  $\\rm{[Mpc]}$', fontsize=25)\n",
    "plt.ylabel('bias', fontsize=25)\n",
    "plt.legend(loc='best', fontsize=20)\n",
    "\n",
    "plt.show()\n",
    "print(np.sqrt(xi_all/xi_m))"
   ]
  },
  {
   "cell_type": "code",
   "execution_count": 141,
   "metadata": {},
   "outputs": [
    {
     "name": "stdout",
     "output_type": "stream",
     "text": [
      "[ 2.85009198  2.50123482  2.07439277  1.76191695  1.62191891  1.60470297\n",
      "  1.53032935  1.57647114  1.75071903  1.78588018  1.8362607   1.81492909\n",
      "  1.80283931  1.7696844   1.75502305  1.76390902  1.75466556  1.74285347\n",
      "  1.56243439]\n"
     ]
    },
    {
     "name": "stderr",
     "output_type": "stream",
     "text": [
      "/Users/kipac-slac-loaner/anaconda/lib/python3.6/site-packages/matplotlib/axes/_axes.py:545: UserWarning: No labelled objects found. Use label='...' kwarg on individual plots.\n",
      "  warnings.warn(\"No labelled objects found. \"\n"
     ]
    },
    {
     "data": {
      "image/png": "[encoded data removed]",
      "text/plain": [
       "<matplotlib.figure.Figure at 0x173ac5908>"
      ]
     },
     "metadata": {},
     "output_type": "display_data"
    }
   ],
   "source": [
    "bias=xi_all/xi_m\n",
    "print(bias)\n",
    "plt.plot(rbin_centers, xi_m)\n",
    "plt.plot(rbin_centers, xi_all)\n",
    "\n",
    "\n",
    "plt.xticks(fontsize=20)\n",
    "plt.yticks(fontsize=20)\n",
    "plt.xscale('log')\n",
    "plt.yscale('log')\n",
    "#plt.xlim(xmin = 0.1, xmax = 10)\n",
    "#plt.ylim(ymin = 1, ymax = 10)\n",
    "plt.xlabel(r'$r $  $\\rm{[Mpc]}$', fontsize=25)\n",
    "plt.ylabel('bias', fontsize=25)\n",
    "plt.legend(loc='best', fontsize=20)\n",
    "\n",
    "plt.show()"
   ]
  },
  {
   "cell_type": "code",
   "execution_count": null,
   "metadata": {
    "collapsed": true
   },
   "outputs": [],
   "source": []
  },
  {
   "cell_type": "code",
   "execution_count": null,
   "metadata": {
    "collapsed": true
   },
   "outputs": [],
   "source": []
  }
 ],
 "metadata": {
  "kernelspec": {
   "display_name": "Python 3",
   "language": "python",
   "name": "python3"
  },
  "language_info": {
   "codemirror_mode": {
    "name": "ipython",
    "version": 3
   },
   "file_extension": ".py",
   "mimetype": "text/x-python",
   "name": "python",
   "nbconvert_exporter": "python",
   "pygments_lexer": "ipython3",
   "version": "3.6.1"
  }
 },
 "nbformat": 4,
 "nbformat_minor": 2
}
